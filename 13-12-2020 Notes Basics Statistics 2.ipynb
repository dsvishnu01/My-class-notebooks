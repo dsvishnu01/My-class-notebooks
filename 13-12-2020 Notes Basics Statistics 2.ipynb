{
 "cells": [
  {
   "cell_type": "markdown",
   "metadata": {},
   "source": [
    "# Hypothesis Testing :-"
   ]
  },
  {
   "cell_type": "code",
   "execution_count": null,
   "metadata": {},
   "outputs": [],
   "source": []
  },
  {
   "cell_type": "markdown",
   "metadata": {},
   "source": [
    "* ChiSquare test :-\n",
    "    * THe chi-Square test of independence is a statical test to determine if there is a significant ralationship between 2 categorical variables.\n",
    "    * see notes link  pages no from 41 -https://drive.google.com/file/d/1UUiDx_v3E7Jg6uP9EZXWDkXrUGaTH-jj/view\n",
    "* Student T-test :-\n",
    "* Paired T-test :-\n",
    "* Pearson Correlation test :-\n",
    "* Spearman correlation :-\n",
    "    \n",
    "    * T-test is used when my data is to less or less the fifty or T<50."
   ]
  },
  {
   "cell_type": "markdown",
   "metadata": {},
   "source": [
    "* Rule of use the chi-square Test :-\n",
    "    * 1> Variable are Categorical\n",
    "    * 2> Frequency is at least 5\n",
    "    * 3> Variable are simple and independently.\n",
    "    * -> Chi-Square Test in Python\n",
    "    * -> We will be implementing this test in an easy to use python class we will call ChiSquare. Our class initialization requires a pandas's data frame which will caontain the dataset to be used for testing. The Chi-Square test provides important Variables such as  the p-value mentioned previously, the Chi-Square statistic and the degree of freedom.\n",
    "    * -> from scipy.states import chi2_contingency\n",
    "    * -> from scipy.stats import ChiSquare"
   ]
  },
  {
   "cell_type": "markdown",
   "metadata": {},
   "source": [
    "Categorical Variable test of independence ----> chi Square test\n",
    "\n",
    "Checking the chi square test "
   ]
  },
  {
   "cell_type": "code",
   "execution_count": null,
   "metadata": {},
   "outputs": [],
   "source": []
  },
  {
   "cell_type": "code",
   "execution_count": 1,
   "metadata": {},
   "outputs": [],
   "source": [
    "import numpy as np \n",
    "import pandas as pd \n",
    "import scipy.stats as stats\n",
    "ds=pd.read_csv(\"role_website.csv\")"
   ]
  },
  {
   "cell_type": "code",
   "execution_count": 2,
   "metadata": {
    "scrolled": true
   },
   "outputs": [
    {
     "data": {
      "text/html": [
       "<div>\n",
       "<style scoped>\n",
       "    .dataframe tbody tr th:only-of-type {\n",
       "        vertical-align: middle;\n",
       "    }\n",
       "\n",
       "    .dataframe tbody tr th {\n",
       "        vertical-align: top;\n",
       "    }\n",
       "\n",
       "    .dataframe thead th {\n",
       "        text-align: right;\n",
       "    }\n",
       "</style>\n",
       "<table border=\"1\" class=\"dataframe\">\n",
       "  <thead>\n",
       "    <tr style=\"text-align: right;\">\n",
       "      <th></th>\n",
       "      <th>role</th>\n",
       "      <th>website</th>\n",
       "    </tr>\n",
       "  </thead>\n",
       "  <tbody>\n",
       "    <tr>\n",
       "      <th>0</th>\n",
       "      <td>teacher</td>\n",
       "      <td>linkedin</td>\n",
       "    </tr>\n",
       "    <tr>\n",
       "      <th>1</th>\n",
       "      <td>teacher</td>\n",
       "      <td>linkedin</td>\n",
       "    </tr>\n",
       "    <tr>\n",
       "      <th>2</th>\n",
       "      <td>student</td>\n",
       "      <td>facebook</td>\n",
       "    </tr>\n",
       "    <tr>\n",
       "      <th>3</th>\n",
       "      <td>student</td>\n",
       "      <td>facebook</td>\n",
       "    </tr>\n",
       "    <tr>\n",
       "      <th>4</th>\n",
       "      <td>teacher</td>\n",
       "      <td>linkedin</td>\n",
       "    </tr>\n",
       "    <tr>\n",
       "      <th>5</th>\n",
       "      <td>student</td>\n",
       "      <td>facebook</td>\n",
       "    </tr>\n",
       "    <tr>\n",
       "      <th>6</th>\n",
       "      <td>student</td>\n",
       "      <td>facebook</td>\n",
       "    </tr>\n",
       "    <tr>\n",
       "      <th>7</th>\n",
       "      <td>teacher</td>\n",
       "      <td>linkedin</td>\n",
       "    </tr>\n",
       "    <tr>\n",
       "      <th>8</th>\n",
       "      <td>teacher</td>\n",
       "      <td>linkedin</td>\n",
       "    </tr>\n",
       "    <tr>\n",
       "      <th>9</th>\n",
       "      <td>teacher</td>\n",
       "      <td>facebook</td>\n",
       "    </tr>\n",
       "    <tr>\n",
       "      <th>10</th>\n",
       "      <td>teacher</td>\n",
       "      <td>facebook</td>\n",
       "    </tr>\n",
       "    <tr>\n",
       "      <th>11</th>\n",
       "      <td>teacher</td>\n",
       "      <td>facebook</td>\n",
       "    </tr>\n",
       "    <tr>\n",
       "      <th>12</th>\n",
       "      <td>teacher</td>\n",
       "      <td>facebook</td>\n",
       "    </tr>\n",
       "    <tr>\n",
       "      <th>13</th>\n",
       "      <td>student</td>\n",
       "      <td>facebook</td>\n",
       "    </tr>\n",
       "    <tr>\n",
       "      <th>14</th>\n",
       "      <td>student</td>\n",
       "      <td>linkedin</td>\n",
       "    </tr>\n",
       "    <tr>\n",
       "      <th>15</th>\n",
       "      <td>student</td>\n",
       "      <td>facebook</td>\n",
       "    </tr>\n",
       "    <tr>\n",
       "      <th>16</th>\n",
       "      <td>teacher</td>\n",
       "      <td>linkedin</td>\n",
       "    </tr>\n",
       "    <tr>\n",
       "      <th>17</th>\n",
       "      <td>student</td>\n",
       "      <td>linkedin</td>\n",
       "    </tr>\n",
       "    <tr>\n",
       "      <th>18</th>\n",
       "      <td>student</td>\n",
       "      <td>facebook</td>\n",
       "    </tr>\n",
       "    <tr>\n",
       "      <th>19</th>\n",
       "      <td>student</td>\n",
       "      <td>facebook</td>\n",
       "    </tr>\n",
       "    <tr>\n",
       "      <th>20</th>\n",
       "      <td>student</td>\n",
       "      <td>linkedin</td>\n",
       "    </tr>\n",
       "    <tr>\n",
       "      <th>21</th>\n",
       "      <td>teacher</td>\n",
       "      <td>facebook</td>\n",
       "    </tr>\n",
       "    <tr>\n",
       "      <th>22</th>\n",
       "      <td>teacher</td>\n",
       "      <td>linkedin</td>\n",
       "    </tr>\n",
       "    <tr>\n",
       "      <th>23</th>\n",
       "      <td>teacher</td>\n",
       "      <td>linkedin</td>\n",
       "    </tr>\n",
       "    <tr>\n",
       "      <th>24</th>\n",
       "      <td>teacher</td>\n",
       "      <td>linkedin</td>\n",
       "    </tr>\n",
       "    <tr>\n",
       "      <th>25</th>\n",
       "      <td>teacher</td>\n",
       "      <td>linkedin</td>\n",
       "    </tr>\n",
       "    <tr>\n",
       "      <th>26</th>\n",
       "      <td>teacher</td>\n",
       "      <td>linkedin</td>\n",
       "    </tr>\n",
       "    <tr>\n",
       "      <th>27</th>\n",
       "      <td>teacher</td>\n",
       "      <td>facebook</td>\n",
       "    </tr>\n",
       "    <tr>\n",
       "      <th>28</th>\n",
       "      <td>teacher</td>\n",
       "      <td>linkedin</td>\n",
       "    </tr>\n",
       "    <tr>\n",
       "      <th>29</th>\n",
       "      <td>teacher</td>\n",
       "      <td>linkedin</td>\n",
       "    </tr>\n",
       "    <tr>\n",
       "      <th>30</th>\n",
       "      <td>teacher</td>\n",
       "      <td>linkedin</td>\n",
       "    </tr>\n",
       "    <tr>\n",
       "      <th>31</th>\n",
       "      <td>teacher</td>\n",
       "      <td>linkedin</td>\n",
       "    </tr>\n",
       "    <tr>\n",
       "      <th>32</th>\n",
       "      <td>student</td>\n",
       "      <td>facebook</td>\n",
       "    </tr>\n",
       "    <tr>\n",
       "      <th>33</th>\n",
       "      <td>student</td>\n",
       "      <td>facebook</td>\n",
       "    </tr>\n",
       "  </tbody>\n",
       "</table>\n",
       "</div>"
      ],
      "text/plain": [
       "       role   website\n",
       "0   teacher  linkedin\n",
       "1   teacher  linkedin\n",
       "2   student  facebook\n",
       "3   student  facebook\n",
       "4   teacher  linkedin\n",
       "5   student  facebook\n",
       "6   student  facebook\n",
       "7   teacher  linkedin\n",
       "8   teacher  linkedin\n",
       "9   teacher  facebook\n",
       "10  teacher  facebook\n",
       "11  teacher  facebook\n",
       "12  teacher  facebook\n",
       "13  student  facebook\n",
       "14  student  linkedin\n",
       "15  student  facebook\n",
       "16  teacher  linkedin\n",
       "17  student  linkedin\n",
       "18  student  facebook\n",
       "19  student  facebook\n",
       "20  student  linkedin\n",
       "21  teacher  facebook\n",
       "22  teacher  linkedin\n",
       "23  teacher  linkedin\n",
       "24  teacher  linkedin\n",
       "25  teacher  linkedin\n",
       "26  teacher  linkedin\n",
       "27  teacher  facebook\n",
       "28  teacher  linkedin\n",
       "29  teacher  linkedin\n",
       "30  teacher  linkedin\n",
       "31  teacher  linkedin\n",
       "32  student  facebook\n",
       "33  student  facebook"
      ]
     },
     "execution_count": 2,
     "metadata": {},
     "output_type": "execute_result"
    }
   ],
   "source": [
    "df=pd.DataFrame(ds)\n",
    "ds"
   ]
  },
  {
   "cell_type": "code",
   "execution_count": 3,
   "metadata": {},
   "outputs": [
    {
     "data": {
      "text/html": [
       "<div>\n",
       "<style scoped>\n",
       "    .dataframe tbody tr th:only-of-type {\n",
       "        vertical-align: middle;\n",
       "    }\n",
       "\n",
       "    .dataframe tbody tr th {\n",
       "        vertical-align: top;\n",
       "    }\n",
       "\n",
       "    .dataframe thead th {\n",
       "        text-align: right;\n",
       "    }\n",
       "</style>\n",
       "<table border=\"1\" class=\"dataframe\">\n",
       "  <thead>\n",
       "    <tr style=\"text-align: right;\">\n",
       "      <th></th>\n",
       "      <th>role</th>\n",
       "      <th>website</th>\n",
       "    </tr>\n",
       "  </thead>\n",
       "  <tbody>\n",
       "    <tr>\n",
       "      <th>count</th>\n",
       "      <td>34</td>\n",
       "      <td>34</td>\n",
       "    </tr>\n",
       "    <tr>\n",
       "      <th>unique</th>\n",
       "      <td>2</td>\n",
       "      <td>2</td>\n",
       "    </tr>\n",
       "    <tr>\n",
       "      <th>top</th>\n",
       "      <td>teacher</td>\n",
       "      <td>linkedin</td>\n",
       "    </tr>\n",
       "    <tr>\n",
       "      <th>freq</th>\n",
       "      <td>21</td>\n",
       "      <td>18</td>\n",
       "    </tr>\n",
       "  </tbody>\n",
       "</table>\n",
       "</div>"
      ],
      "text/plain": [
       "           role   website\n",
       "count        34        34\n",
       "unique        2         2\n",
       "top     teacher  linkedin\n",
       "freq         21        18"
      ]
     },
     "execution_count": 3,
     "metadata": {},
     "output_type": "execute_result"
    }
   ],
   "source": [
    "df.describe() \n",
    "\n",
    "# this function give the total discription of the data.\n",
    "# unique---> unique means here teather/student and linkedin/facebook\n",
    "# freq ---> 21 time teacher come and 18 time linkedin come intire 34 rows."
   ]
  },
  {
   "cell_type": "code",
   "execution_count": 4,
   "metadata": {},
   "outputs": [
    {
     "name": "stdout",
     "output_type": "stream",
     "text": [
      "<class 'pandas.core.frame.DataFrame'>\n",
      "RangeIndex: 34 entries, 0 to 33\n",
      "Data columns (total 2 columns):\n",
      " #   Column   Non-Null Count  Dtype \n",
      "---  ------   --------------  ----- \n",
      " 0   role     34 non-null     object\n",
      " 1   website  34 non-null     object\n",
      "dtypes: object(2)\n",
      "memory usage: 672.0+ bytes\n"
     ]
    }
   ],
   "source": [
    "df.info() #this function gives  all the details information "
   ]
  },
  {
   "cell_type": "code",
   "execution_count": 5,
   "metadata": {},
   "outputs": [
    {
     "data": {
      "text/plain": [
       "role       object\n",
       "website    object\n",
       "dtype: object"
      ]
     },
     "execution_count": 5,
     "metadata": {},
     "output_type": "execute_result"
    }
   ],
   "source": [
    "df.dtypes # this function gives data types or of each columns"
   ]
  },
  {
   "cell_type": "code",
   "execution_count": 6,
   "metadata": {},
   "outputs": [
    {
     "name": "stdout",
     "output_type": "stream",
     "text": [
      "website  facebook  linkedin  All\n",
      "role                            \n",
      "student        10         3   13\n",
      "teacher         6        15   21\n",
      "All            16        18   34\n"
     ]
    }
   ],
   "source": [
    "#Create contingency table\n",
    "\n",
    "df_crosstab =pd.crosstab(df['role'],df['website'],margins = True ) # margin=True.. means  All .\n",
    "print(df_crosstab)\n",
    "# inside the pandas have .crosstab function which will take the rows and column that which columns to make as rows and which columns to make  exact column into the cross table to see cross detail of data i.e. how many time total has been happen ex-student with facebook 10time,teacher with linkedin 15time etc."
   ]
  },
  {
   "cell_type": "code",
   "execution_count": 7,
   "metadata": {},
   "outputs": [
    {
     "data": {
      "text/html": [
       "<div>\n",
       "<style scoped>\n",
       "    .dataframe tbody tr th:only-of-type {\n",
       "        vertical-align: middle;\n",
       "    }\n",
       "\n",
       "    .dataframe tbody tr th {\n",
       "        vertical-align: top;\n",
       "    }\n",
       "\n",
       "    .dataframe thead th {\n",
       "        text-align: right;\n",
       "    }\n",
       "</style>\n",
       "<table border=\"1\" class=\"dataframe\">\n",
       "  <thead>\n",
       "    <tr style=\"text-align: right;\">\n",
       "      <th></th>\n",
       "      <th>facebook</th>\n",
       "      <th>linkedin</th>\n",
       "      <th>row_totals</th>\n",
       "    </tr>\n",
       "  </thead>\n",
       "  <tbody>\n",
       "    <tr>\n",
       "      <th>student</th>\n",
       "      <td>10</td>\n",
       "      <td>3</td>\n",
       "      <td>13</td>\n",
       "    </tr>\n",
       "    <tr>\n",
       "      <th>teacher</th>\n",
       "      <td>6</td>\n",
       "      <td>15</td>\n",
       "      <td>21</td>\n",
       "    </tr>\n",
       "    <tr>\n",
       "      <th>col_totals</th>\n",
       "      <td>16</td>\n",
       "      <td>18</td>\n",
       "      <td>34</td>\n",
       "    </tr>\n",
       "  </tbody>\n",
       "</table>\n",
       "</div>"
      ],
      "text/plain": [
       "            facebook  linkedin  row_totals\n",
       "student           10         3          13\n",
       "teacher            6        15          21\n",
       "col_totals        16        18          34"
      ]
     },
     "execution_count": 7,
     "metadata": {},
     "output_type": "execute_result"
    }
   ],
   "source": [
    "df_crosstab.columns=[\"facebook\",\"linkedin\",\"row_totals\"] \n",
    "df_crosstab.index=[\"student\",\"teacher\",\"col_totals\"]\n",
    "df_crosstab\n",
    "\n",
    "#Here without margin= True we can put maunally columns name (row_detail) to see cross details of data."
   ]
  },
  {
   "cell_type": "code",
   "execution_count": 8,
   "metadata": {},
   "outputs": [
    {
     "data": {
      "text/html": [
       "<div>\n",
       "<style scoped>\n",
       "    .dataframe tbody tr th:only-of-type {\n",
       "        vertical-align: middle;\n",
       "    }\n",
       "\n",
       "    .dataframe tbody tr th {\n",
       "        vertical-align: top;\n",
       "    }\n",
       "\n",
       "    .dataframe thead th {\n",
       "        text-align: right;\n",
       "    }\n",
       "</style>\n",
       "<table border=\"1\" class=\"dataframe\">\n",
       "  <thead>\n",
       "    <tr style=\"text-align: right;\">\n",
       "      <th></th>\n",
       "      <th>facebook</th>\n",
       "      <th>linkedin</th>\n",
       "    </tr>\n",
       "  </thead>\n",
       "  <tbody>\n",
       "    <tr>\n",
       "      <th>student</th>\n",
       "      <td>10</td>\n",
       "      <td>3</td>\n",
       "    </tr>\n",
       "    <tr>\n",
       "      <th>teacher</th>\n",
       "      <td>6</td>\n",
       "      <td>15</td>\n",
       "    </tr>\n",
       "  </tbody>\n",
       "</table>\n",
       "</div>"
      ],
      "text/plain": [
       "         facebook  linkedin\n",
       "student        10         3\n",
       "teacher         6        15"
      ]
     },
     "execution_count": 8,
     "metadata": {},
     "output_type": "execute_result"
    }
   ],
   "source": [
    "# Get the observed table \n",
    "\n",
    "observed = df_crosstab.iloc[0:2,0:2] #by index location (iloc) function we can see data by give specific rows and column data.\n",
    "observed"
   ]
  },
  {
   "cell_type": "code",
   "execution_count": 9,
   "metadata": {},
   "outputs": [
    {
     "data": {
      "text/plain": [
       "array([[ 6.11764706,  6.88235294],\n",
       "       [ 9.88235294, 11.11764706]])"
      ]
     },
     "execution_count": 9,
     "metadata": {},
     "output_type": "execute_result"
    }
   ],
   "source": [
    "# Expected table \n",
    "# E = (row total * column total)/grand total #(manually formula for expected value)\n",
    "# E1 =13*16/34\n",
    "\n",
    "expected=np.outer(df_crosstab[\"row_totals\"][0:2],df_crosstab.loc[\"col_totals\"][0:2])/34 #(funcction  to get expected value)\n",
    "expected"
   ]
  },
  {
   "cell_type": "code",
   "execution_count": 10,
   "metadata": {},
   "outputs": [],
   "source": [
    "#So now we have observed table and expected table then go to next step that is to calculate chi squre value see below"
   ]
  },
  {
   "cell_type": "markdown",
   "metadata": {},
   "source": [
    "* STEP 3 : CALCULATE THE CHISQUARE VALUE AND CRITICAL VALUE\n",
    "\n",
    "\n",
    "\"\"\"\n",
    "* Chi square formula :\n",
    "    *  chi square = total of [(observed -expected)^2]/expected\n",
    "\n",
    "\n",
    "* Note: \n",
    "        We call .sum() twice:once to get the column sums\n",
    "        and a second time to add the column sums together,\n",
    "        returning the sum of the entire 2D table .\n",
    "\"\"\""
   ]
  },
  {
   "cell_type": "code",
   "execution_count": 11,
   "metadata": {},
   "outputs": [
    {
     "name": "stdout",
     "output_type": "stream",
     "text": [
      "7.5347985347985365\n"
     ]
    }
   ],
   "source": [
    "chi_squared_stat=(((observed -expected)**2)/expected).sum().sum()\n",
    "\n",
    "\"\"\"\"*Note:  We call .sum() twice time bcz :once to get the column sums and a second time to add the column sums together,\n",
    "returning the sum of the entire 2D table .\"\"\"\n",
    "\n",
    "print(chi_squared_stat)"
   ]
  },
  {
   "cell_type": "code",
   "execution_count": 12,
   "metadata": {},
   "outputs": [],
   "source": [
    "# After getting chi square value then go for degree of frame see below"
   ]
  },
  {
   "cell_type": "code",
   "execution_count": 13,
   "metadata": {},
   "outputs": [
    {
     "data": {
      "text/plain": [
       "'\\n    FIND the Critical value for confidence of 95% and the degree of frame (df) of 1.\\n    Why df = 1?\\n    Degree of frame formula:\\n        df = (total rows - 1) x (total columns - 1)\\n           = (2-1) x (2-1)\\n           = 1 x 1\\n           = 1\\n'"
      ]
     },
     "execution_count": 13,
     "metadata": {},
     "output_type": "execute_result"
    }
   ],
   "source": [
    "\"\"\"\n",
    "    FIND the Critical value for confidence of 95% and the degree of frame (df) of 1.\n",
    "    Why df = 1?\n",
    "    Degree of frame formula:\n",
    "        df = (total rows - 1) x (total columns - 1)\n",
    "           = (2-1) x (2-1)\n",
    "           = 1 x 1\n",
    "           = 1\n",
    "\"\"\""
   ]
  },
  {
   "cell_type": "code",
   "execution_count": 14,
   "metadata": {},
   "outputs": [],
   "source": [
    "# After getting degree of freedom we will go for percent point function."
   ]
  },
  {
   "cell_type": "markdown",
   "metadata": {},
   "source": [
    "* PPF(percent point function)- It is use to find out the critical value."
   ]
  },
  {
   "cell_type": "code",
   "execution_count": 15,
   "metadata": {},
   "outputs": [],
   "source": [
    "# PPF---> Percent point function\n",
    "#These distribution functions values are required in inferential statistics, when constructing confidence intervals for the \n",
    "# implementation of hypothesis tests , especially for the calculation of the p-value.\n",
    "\n",
    "#st.chi2.ppf? "
   ]
  },
  {
   "cell_type": "code",
   "execution_count": 16,
   "metadata": {},
   "outputs": [
    {
     "name": "stdout",
     "output_type": "stream",
     "text": [
      "3.841458820694124\n"
     ]
    }
   ],
   "source": [
    "import scipy.stats as st\n",
    "crit=st.chi2.ppf(q=.95,df=1) #inside the scipywe having the chi2 and chi2 stands for the chi-square test\n",
    "print(crit)\n",
    "# it will give the critical value and here  .95 is confidence leve and degree of freedom(df)=1 hai.\n",
    "#Inside it statisian create prier tabele so we can see if cofidence level is .95 and df=1 then it will give critical value similarly for other value "
   ]
  },
  {
   "cell_type": "code",
   "execution_count": 25,
   "metadata": {},
   "outputs": [
    {
     "data": {
      "text/plain": [
       "'Now we can five the final conclusion that role and website are dependent as null hypothesis is rejected.\\nbecause chi-square > critical value (7.53>3.84)'"
      ]
     },
     "execution_count": 25,
     "metadata": {},
     "output_type": "execute_result"
    }
   ],
   "source": [
    "\"\"\"Now we can five the final conclusion that role and website are dependent as null hypothesis is rejected.\n",
    "because chi-square > critical value (7.53>3.84)\"\"\"\n",
    "\n",
    "#here critical value =3.84 and chi-square value = 7.54 above calculated earlier.\n",
    "#if the chi value is greater than critical value then null hypothesis is rejected and alternative hypthesis is accepted.\n",
    "#accepted means here two row and colulmn are dependent on each others"
   ]
  },
  {
   "cell_type": "code",
   "execution_count": 18,
   "metadata": {},
   "outputs": [],
   "source": [
    "# st.chi2_contingency ?"
   ]
  },
  {
   "cell_type": "code",
   "execution_count": 26,
   "metadata": {},
   "outputs": [
    {
     "name": "stdout",
     "output_type": "stream",
     "text": [
      "chi square test= 5.718991656491658\n",
      "p-value= 0.01678236577734386\n",
      "dof= 1\n",
      "expected= [[ 6.11764706  6.88235294]\n",
      " [ 9.88235294 11.11764706]]\n"
     ]
    },
    {
     "data": {
      "text/plain": [
       "'From this we interpret the p-value is .16 that is less than .05--> signifcant value.\\nHence null hypothesis is rejected and show variables are dependent of each other.\\n'"
      ]
     },
     "execution_count": 26,
     "metadata": {},
     "output_type": "execute_result"
    }
   ],
   "source": [
    "\"\"\"Methodology 2 : Calculate chi-square using scipy.stat library\"\"\"\n",
    "\n",
    "chi2,p,dof,expected=stats.chi2_contingency(observed=observed) \n",
    "# here contingency mean expected table and here using observe table \n",
    "# by this function, chi2_contingency will internally take the observe table and then it will give four expect value that is ch2,p-value,dof(degree of freedom),expected value   \n",
    "\n",
    "#You can check the returned data by calling it\n",
    "#The returned data includes : chi_squared_stat,p_value,df, expected_crosstab\n",
    "#Print(\"sttesult=\"stresult)\n",
    "\n",
    "print(\"chi square test=\",chi2)\n",
    "print(\"p-value=\",p)\n",
    "print(\"dof=\",dof)\n",
    "print(\"expected=\",expected)\n",
    "\n",
    "\"\"\"From this we interpret the p-value is .16 that is less than .05--> signifcant value.\n",
    "Hence null hypothesis is rejected and show variables are dependent of each other.\n",
    "\"\"\""
   ]
  },
  {
   "cell_type": "code",
   "execution_count": 29,
   "metadata": {},
   "outputs": [
    {
     "name": "stdout",
     "output_type": "stream",
     "text": [
      "significance level alPha=0.05, p=0.02\n",
      "Variables are associated or dependent (reject h0 and H1)\n"
     ]
    }
   ],
   "source": [
    "#Significance value\n",
    "#singnificance value or alpha value =0.05 ,both are same\n",
    "alpha = 0.05\n",
    "#Determine wheather to reject or keep your null hypothesis \n",
    "print('significance level alPha=%.2f, p=%.2f' % (alpha,p))\n",
    "if p >= alpha :\n",
    "    print('Variables are not associated and independent ( accept h0 -Null hypothesis)')\n",
    "else:\n",
    "    print('Variables are associated or dependent (reject h0 and H1)')"
   ]
  },
  {
   "cell_type": "raw",
   "metadata": {},
   "source": [
    "Tast ----->Find chi square test whether tWo variables are independent of each other or not;\n",
    "\n",
    "Gender,Interest\n",
    "Male,Art\n",
    "Female,math\n",
    "Male,Science\n",
    "Male,Math\n",
    "Female,Art\n",
    "Male,Science\n",
    "Female,Art\n",
    "Female,Math\n",
    "Male,Math\n",
    "..."
   ]
  },
  {
   "cell_type": "markdown",
   "metadata": {},
   "source": [
    "### Measure of Ralationship :-"
   ]
  },
  {
   "cell_type": "markdown",
   "metadata": {},
   "source": [
    "Notes link from page no 49- https://drive.google.com/file/d/1UUiDx_v3E7Jg6uP9EZXWDkXrUGaTH-jj/view"
   ]
  },
  {
   "cell_type": "markdown",
   "metadata": {},
   "source": [
    "* __Covariance :-__ \n",
    "    * Covariance is a measure of the relationship between the variability of 2 variables i.e. it measure the degree of change in the variables , when one variable changes , will be the same/a similar other value."
   ]
  },
  {
   "cell_type": "markdown",
   "metadata": {},
   "source": [
    "### Corelation Coefficient r :-\n",
    "* Corelation quantifies relationship.Corelation range -1 and +1 with 0 meaning there is no relationship at all."
   ]
  },
  {
   "cell_type": "markdown",
   "metadata": {},
   "source": [
    "* Measures strength of a relationship between two continuous variables.\n",
    "* Corelation also represent with the \"r\".\n",
    "*  range of corelation lies between -1 to 1.\n",
    "* if r = 0.9 , then my data is Strong Positive linear relationship.\n",
    "* if r = 0.01, then my data is No Linear relationship.\n",
    "* if r = -0.9 then my data is Strong Negative linear relationship"
   ]
  },
  {
   "cell_type": "markdown",
   "metadata": {},
   "source": [
    "### Corelation :-\n",
    "* __Corelation :__ Corelation gives a better understanding of covarience. It is normalized covariance. Corelation tells us how correlated the variables are to each other. It is also called as __Pearson Correlation Coefficient__.\n",
    "* See formula And example  in notes or from page no 52.\n",
    "* Heat map is the best way to findout the corelation with the color value.\n"
   ]
  },
  {
   "cell_type": "code",
   "execution_count": null,
   "metadata": {},
   "outputs": [],
   "source": []
  },
  {
   "cell_type": "markdown",
   "metadata": {},
   "source": [
    "### ANOVA (F-TEST) :- \n",
    "* ANOVA test is the analysis of variances between the data.\n",
    "     * that is like MANOVA,ANCOVA ETC TEST HERE.\n",
    "        \n",
    "* The t-test works well when dealing with two groups, but sometimes we want to compare more than two groups at the same time. For example, if we wanted to test whether voter age differs based on some categorical variable like race, we have to compare the means of each level or group the variable. We could carry out a separate t-test for each pair of groups, but when you conduct many tests you increase the chances of false positives. The analysis of variance or ANOVA is a statistical inference test that lets you compare multiple groups at the same time."
   ]
  },
  {
   "cell_type": "markdown",
   "metadata": {},
   "source": [
    "* Read doc for more information  or notes reposatory -->F_test> https://docs.scipy.org/doc/scipy/reference/generated/scipy.stats.f_oneway.html"
   ]
  },
  {
   "cell_type": "markdown",
   "metadata": {},
   "source": [
    "# Cheaking  of outlier (z-score) - :-\n",
    "* Finding outliers :-"
   ]
  },
  {
   "cell_type": "code",
   "execution_count": 2,
   "metadata": {},
   "outputs": [],
   "source": [
    "import pandas as pd \n",
    "import numpy as np\n",
    "import matplotlib\n",
    "import matplotlib.pyplot as plt"
   ]
  },
  {
   "cell_type": "code",
   "execution_count": 12,
   "metadata": {},
   "outputs": [
    {
     "data": {
      "text/html": [
       "<div>\n",
       "<style scoped>\n",
       "    .dataframe tbody tr th:only-of-type {\n",
       "        vertical-align: middle;\n",
       "    }\n",
       "\n",
       "    .dataframe tbody tr th {\n",
       "        vertical-align: top;\n",
       "    }\n",
       "\n",
       "    .dataframe thead th {\n",
       "        text-align: right;\n",
       "    }\n",
       "</style>\n",
       "<table border=\"1\" class=\"dataframe\">\n",
       "  <thead>\n",
       "    <tr style=\"text-align: right;\">\n",
       "      <th></th>\n",
       "      <th>order</th>\n",
       "      <th>name</th>\n",
       "      <th>height</th>\n",
       "    </tr>\n",
       "  </thead>\n",
       "  <tbody>\n",
       "    <tr>\n",
       "      <th>0</th>\n",
       "      <td>1</td>\n",
       "      <td>George Washington</td>\n",
       "      <td>189</td>\n",
       "    </tr>\n",
       "    <tr>\n",
       "      <th>1</th>\n",
       "      <td>2</td>\n",
       "      <td>John Adams</td>\n",
       "      <td>170</td>\n",
       "    </tr>\n",
       "    <tr>\n",
       "      <th>2</th>\n",
       "      <td>3</td>\n",
       "      <td>Thomas Jefferson</td>\n",
       "      <td>189</td>\n",
       "    </tr>\n",
       "    <tr>\n",
       "      <th>3</th>\n",
       "      <td>4</td>\n",
       "      <td>James Madison</td>\n",
       "      <td>163</td>\n",
       "    </tr>\n",
       "    <tr>\n",
       "      <th>4</th>\n",
       "      <td>5</td>\n",
       "      <td>James Monroe</td>\n",
       "      <td>183</td>\n",
       "    </tr>\n",
       "    <tr>\n",
       "      <th>5</th>\n",
       "      <td>6</td>\n",
       "      <td>John Quincy Adams</td>\n",
       "      <td>171</td>\n",
       "    </tr>\n",
       "    <tr>\n",
       "      <th>6</th>\n",
       "      <td>7</td>\n",
       "      <td>Andrew Jackson</td>\n",
       "      <td>185</td>\n",
       "    </tr>\n",
       "    <tr>\n",
       "      <th>7</th>\n",
       "      <td>8</td>\n",
       "      <td>Martin Van Buren</td>\n",
       "      <td>168</td>\n",
       "    </tr>\n",
       "    <tr>\n",
       "      <th>8</th>\n",
       "      <td>9</td>\n",
       "      <td>William Henry Harrison</td>\n",
       "      <td>173</td>\n",
       "    </tr>\n",
       "    <tr>\n",
       "      <th>9</th>\n",
       "      <td>10</td>\n",
       "      <td>John Tyler</td>\n",
       "      <td>183</td>\n",
       "    </tr>\n",
       "    <tr>\n",
       "      <th>10</th>\n",
       "      <td>11</td>\n",
       "      <td>James K. Polk</td>\n",
       "      <td>173</td>\n",
       "    </tr>\n",
       "    <tr>\n",
       "      <th>11</th>\n",
       "      <td>12</td>\n",
       "      <td>Zachary Taylor</td>\n",
       "      <td>173</td>\n",
       "    </tr>\n",
       "    <tr>\n",
       "      <th>12</th>\n",
       "      <td>13</td>\n",
       "      <td>Millard Fillmore</td>\n",
       "      <td>175</td>\n",
       "    </tr>\n",
       "    <tr>\n",
       "      <th>13</th>\n",
       "      <td>14</td>\n",
       "      <td>Franklin Pierce</td>\n",
       "      <td>178</td>\n",
       "    </tr>\n",
       "    <tr>\n",
       "      <th>14</th>\n",
       "      <td>15</td>\n",
       "      <td>James Buchanan</td>\n",
       "      <td>183</td>\n",
       "    </tr>\n",
       "    <tr>\n",
       "      <th>15</th>\n",
       "      <td>16</td>\n",
       "      <td>Abraham Lincoln</td>\n",
       "      <td>193</td>\n",
       "    </tr>\n",
       "    <tr>\n",
       "      <th>16</th>\n",
       "      <td>17</td>\n",
       "      <td>Andrew Johnson</td>\n",
       "      <td>178</td>\n",
       "    </tr>\n",
       "    <tr>\n",
       "      <th>17</th>\n",
       "      <td>18</td>\n",
       "      <td>Ulysses S. Grant</td>\n",
       "      <td>173</td>\n",
       "    </tr>\n",
       "    <tr>\n",
       "      <th>18</th>\n",
       "      <td>19</td>\n",
       "      <td>Rutherford B. Hayes</td>\n",
       "      <td>174</td>\n",
       "    </tr>\n",
       "    <tr>\n",
       "      <th>19</th>\n",
       "      <td>20</td>\n",
       "      <td>James A. Garfield</td>\n",
       "      <td>183</td>\n",
       "    </tr>\n",
       "    <tr>\n",
       "      <th>20</th>\n",
       "      <td>21</td>\n",
       "      <td>Chester A. Arthur</td>\n",
       "      <td>183</td>\n",
       "    </tr>\n",
       "    <tr>\n",
       "      <th>21</th>\n",
       "      <td>23</td>\n",
       "      <td>Benjamin Harrison</td>\n",
       "      <td>168</td>\n",
       "    </tr>\n",
       "    <tr>\n",
       "      <th>22</th>\n",
       "      <td>25</td>\n",
       "      <td>William McKinley</td>\n",
       "      <td>170</td>\n",
       "    </tr>\n",
       "    <tr>\n",
       "      <th>23</th>\n",
       "      <td>26</td>\n",
       "      <td>Theodore Roosevelt</td>\n",
       "      <td>178</td>\n",
       "    </tr>\n",
       "    <tr>\n",
       "      <th>24</th>\n",
       "      <td>27</td>\n",
       "      <td>William Howard Taft</td>\n",
       "      <td>182</td>\n",
       "    </tr>\n",
       "    <tr>\n",
       "      <th>25</th>\n",
       "      <td>28</td>\n",
       "      <td>Woodrow Wilson</td>\n",
       "      <td>180</td>\n",
       "    </tr>\n",
       "    <tr>\n",
       "      <th>26</th>\n",
       "      <td>29</td>\n",
       "      <td>Warren G. Harding</td>\n",
       "      <td>183</td>\n",
       "    </tr>\n",
       "    <tr>\n",
       "      <th>27</th>\n",
       "      <td>30</td>\n",
       "      <td>Calvin Coolidge</td>\n",
       "      <td>178</td>\n",
       "    </tr>\n",
       "    <tr>\n",
       "      <th>28</th>\n",
       "      <td>31</td>\n",
       "      <td>Herbert Hoover</td>\n",
       "      <td>182</td>\n",
       "    </tr>\n",
       "    <tr>\n",
       "      <th>29</th>\n",
       "      <td>32</td>\n",
       "      <td>Franklin D. Roosevelt</td>\n",
       "      <td>188</td>\n",
       "    </tr>\n",
       "    <tr>\n",
       "      <th>30</th>\n",
       "      <td>33</td>\n",
       "      <td>Harry S. Truman</td>\n",
       "      <td>175</td>\n",
       "    </tr>\n",
       "    <tr>\n",
       "      <th>31</th>\n",
       "      <td>34</td>\n",
       "      <td>Dwight D. Eisenhower</td>\n",
       "      <td>179</td>\n",
       "    </tr>\n",
       "    <tr>\n",
       "      <th>32</th>\n",
       "      <td>35</td>\n",
       "      <td>John F. Kennedy</td>\n",
       "      <td>183</td>\n",
       "    </tr>\n",
       "    <tr>\n",
       "      <th>33</th>\n",
       "      <td>36</td>\n",
       "      <td>Lyndon B. Johnson</td>\n",
       "      <td>193</td>\n",
       "    </tr>\n",
       "    <tr>\n",
       "      <th>34</th>\n",
       "      <td>37</td>\n",
       "      <td>Richard Nixon</td>\n",
       "      <td>182</td>\n",
       "    </tr>\n",
       "    <tr>\n",
       "      <th>35</th>\n",
       "      <td>38</td>\n",
       "      <td>Gerald Ford</td>\n",
       "      <td>183</td>\n",
       "    </tr>\n",
       "    <tr>\n",
       "      <th>36</th>\n",
       "      <td>39</td>\n",
       "      <td>Jimmy Carter</td>\n",
       "      <td>177</td>\n",
       "    </tr>\n",
       "    <tr>\n",
       "      <th>37</th>\n",
       "      <td>40</td>\n",
       "      <td>Ronald Reagan</td>\n",
       "      <td>185</td>\n",
       "    </tr>\n",
       "    <tr>\n",
       "      <th>38</th>\n",
       "      <td>41</td>\n",
       "      <td>George H. W. Bush</td>\n",
       "      <td>188</td>\n",
       "    </tr>\n",
       "    <tr>\n",
       "      <th>39</th>\n",
       "      <td>42</td>\n",
       "      <td>Bill Clinton</td>\n",
       "      <td>188</td>\n",
       "    </tr>\n",
       "    <tr>\n",
       "      <th>40</th>\n",
       "      <td>43</td>\n",
       "      <td>George W. Bush</td>\n",
       "      <td>182</td>\n",
       "    </tr>\n",
       "    <tr>\n",
       "      <th>41</th>\n",
       "      <td>44</td>\n",
       "      <td>Barack Obama</td>\n",
       "      <td>185</td>\n",
       "    </tr>\n",
       "  </tbody>\n",
       "</table>\n",
       "</div>"
      ],
      "text/plain": [
       "    order                    name  height\n",
       "0       1       George Washington     189\n",
       "1       2              John Adams     170\n",
       "2       3        Thomas Jefferson     189\n",
       "3       4           James Madison     163\n",
       "4       5            James Monroe     183\n",
       "5       6       John Quincy Adams     171\n",
       "6       7          Andrew Jackson     185\n",
       "7       8        Martin Van Buren     168\n",
       "8       9  William Henry Harrison     173\n",
       "9      10              John Tyler     183\n",
       "10     11           James K. Polk     173\n",
       "11     12          Zachary Taylor     173\n",
       "12     13        Millard Fillmore     175\n",
       "13     14         Franklin Pierce     178\n",
       "14     15          James Buchanan     183\n",
       "15     16         Abraham Lincoln     193\n",
       "16     17          Andrew Johnson     178\n",
       "17     18        Ulysses S. Grant     173\n",
       "18     19     Rutherford B. Hayes     174\n",
       "19     20       James A. Garfield     183\n",
       "20     21       Chester A. Arthur     183\n",
       "21     23       Benjamin Harrison     168\n",
       "22     25        William McKinley     170\n",
       "23     26      Theodore Roosevelt     178\n",
       "24     27     William Howard Taft     182\n",
       "25     28          Woodrow Wilson     180\n",
       "26     29       Warren G. Harding     183\n",
       "27     30         Calvin Coolidge     178\n",
       "28     31          Herbert Hoover     182\n",
       "29     32   Franklin D. Roosevelt     188\n",
       "30     33         Harry S. Truman     175\n",
       "31     34    Dwight D. Eisenhower     179\n",
       "32     35         John F. Kennedy     183\n",
       "33     36       Lyndon B. Johnson     193\n",
       "34     37           Richard Nixon     182\n",
       "35     38             Gerald Ford     183\n",
       "36     39            Jimmy Carter     177\n",
       "37     40           Ronald Reagan     185\n",
       "38     41       George H. W. Bush     188\n",
       "39     42            Bill Clinton     188\n",
       "40     43          George W. Bush     182\n",
       "41     44            Barack Obama     185"
      ]
     },
     "execution_count": 12,
     "metadata": {},
     "output_type": "execute_result"
    }
   ],
   "source": [
    "df=pd.read_csv('president_heights.csv')\n",
    "df"
   ]
  },
  {
   "cell_type": "code",
   "execution_count": 13,
   "metadata": {},
   "outputs": [
    {
     "data": {
      "text/plain": [
       "Index(['order', 'name', 'height'], dtype='object')"
      ]
     },
     "execution_count": 13,
     "metadata": {},
     "output_type": "execute_result"
    }
   ],
   "source": [
    "df.columns"
   ]
  },
  {
   "cell_type": "code",
   "execution_count": 14,
   "metadata": {},
   "outputs": [
    {
     "data": {
      "text/plain": [
       "{'whiskers': [<matplotlib.lines.Line2D at 0x1f8afc9d2e0>,\n",
       "  <matplotlib.lines.Line2D at 0x1f8afc9d640>],\n",
       " 'caps': [<matplotlib.lines.Line2D at 0x1f8afc9d9a0>,\n",
       "  <matplotlib.lines.Line2D at 0x1f8afc9dd00>],\n",
       " 'boxes': [<matplotlib.lines.Line2D at 0x1f8afc84f40>],\n",
       " 'medians': [<matplotlib.lines.Line2D at 0x1f8afca90a0>],\n",
       " 'fliers': [<matplotlib.lines.Line2D at 0x1f8afca93a0>],\n",
       " 'means': []}"
      ]
     },
     "execution_count": 14,
     "metadata": {},
     "output_type": "execute_result"
    },
    {
     "data": {
      "image/png": "[encoded data removed]",
      "text/plain": [
       "<Figure size 432x288 with 1 Axes>"
      ]
     },
     "metadata": {
      "needs_background": "light"
     },
     "output_type": "display_data"
    }
   ],
   "source": [
    "plt.boxplot(df.height)\n",
    "#here outlier is not prsent bcz outlier present in above maximum line and below the minimum line ."
   ]
  },
  {
   "cell_type": "code",
   "execution_count": 15,
   "metadata": {},
   "outputs": [
    {
     "data": {
      "text/plain": [
       "0.0    163.0\n",
       "0.1    170.1\n",
       "0.2    173.0\n",
       "0.3    175.6\n",
       "0.4    178.0\n",
       "0.5    182.0\n",
       "0.6    183.0\n",
       "0.7    183.0\n",
       "0.8    185.0\n",
       "0.9    188.0\n",
       "1.0    193.0\n",
       "Name: height, dtype: float64"
      ]
     },
     "execution_count": 15,
     "metadata": {},
     "output_type": "execute_result"
    }
   ],
   "source": [
    "# Inside the df pandas quantile method so here we cheak each percentile to cheak outliers.\n",
    "# No outliers\n",
    "\n",
    "df['height'].quantile([0,0.1,0.2,0.3,0.4,0.5,0.6,0.7,0.8,0.9,1])"
   ]
  },
  {
   "cell_type": "code",
   "execution_count": 19,
   "metadata": {},
   "outputs": [
    {
     "data": {
      "text/html": [
       "<div>\n",
       "<style scoped>\n",
       "    .dataframe tbody tr th:only-of-type {\n",
       "        vertical-align: middle;\n",
       "    }\n",
       "\n",
       "    .dataframe tbody tr th {\n",
       "        vertical-align: top;\n",
       "    }\n",
       "\n",
       "    .dataframe thead th {\n",
       "        text-align: right;\n",
       "    }\n",
       "</style>\n",
       "<table border=\"1\" class=\"dataframe\">\n",
       "  <thead>\n",
       "    <tr style=\"text-align: right;\">\n",
       "      <th></th>\n",
       "      <th>satisfaction_level</th>\n",
       "      <th>last_evaluation</th>\n",
       "      <th>number_project</th>\n",
       "      <th>average_montly_hours</th>\n",
       "      <th>time_spend_company</th>\n",
       "      <th>Work_accident</th>\n",
       "      <th>left</th>\n",
       "      <th>promotion_last_5years</th>\n",
       "      <th>Departments</th>\n",
       "      <th>salary</th>\n",
       "    </tr>\n",
       "  </thead>\n",
       "  <tbody>\n",
       "    <tr>\n",
       "      <th>0</th>\n",
       "      <td>0.38</td>\n",
       "      <td>0.53</td>\n",
       "      <td>2</td>\n",
       "      <td>157</td>\n",
       "      <td>3</td>\n",
       "      <td>0</td>\n",
       "      <td>1</td>\n",
       "      <td>0</td>\n",
       "      <td>sales</td>\n",
       "      <td>low</td>\n",
       "    </tr>\n",
       "    <tr>\n",
       "      <th>1</th>\n",
       "      <td>0.80</td>\n",
       "      <td>0.86</td>\n",
       "      <td>5</td>\n",
       "      <td>262</td>\n",
       "      <td>6</td>\n",
       "      <td>0</td>\n",
       "      <td>1</td>\n",
       "      <td>0</td>\n",
       "      <td>sales</td>\n",
       "      <td>medium</td>\n",
       "    </tr>\n",
       "    <tr>\n",
       "      <th>2</th>\n",
       "      <td>0.11</td>\n",
       "      <td>0.88</td>\n",
       "      <td>7</td>\n",
       "      <td>272</td>\n",
       "      <td>4</td>\n",
       "      <td>0</td>\n",
       "      <td>1</td>\n",
       "      <td>0</td>\n",
       "      <td>sales</td>\n",
       "      <td>medium</td>\n",
       "    </tr>\n",
       "    <tr>\n",
       "      <th>3</th>\n",
       "      <td>0.72</td>\n",
       "      <td>0.87</td>\n",
       "      <td>5</td>\n",
       "      <td>223</td>\n",
       "      <td>5</td>\n",
       "      <td>0</td>\n",
       "      <td>1</td>\n",
       "      <td>0</td>\n",
       "      <td>sales</td>\n",
       "      <td>low</td>\n",
       "    </tr>\n",
       "    <tr>\n",
       "      <th>4</th>\n",
       "      <td>0.37</td>\n",
       "      <td>0.52</td>\n",
       "      <td>2</td>\n",
       "      <td>159</td>\n",
       "      <td>3</td>\n",
       "      <td>0</td>\n",
       "      <td>1</td>\n",
       "      <td>0</td>\n",
       "      <td>sales</td>\n",
       "      <td>low</td>\n",
       "    </tr>\n",
       "  </tbody>\n",
       "</table>\n",
       "</div>"
      ],
      "text/plain": [
       "   satisfaction_level  last_evaluation  number_project  average_montly_hours  \\\n",
       "0                0.38             0.53               2                   157   \n",
       "1                0.80             0.86               5                   262   \n",
       "2                0.11             0.88               7                   272   \n",
       "3                0.72             0.87               5                   223   \n",
       "4                0.37             0.52               2                   159   \n",
       "\n",
       "   time_spend_company  Work_accident  left  promotion_last_5years  \\\n",
       "0                   3              0     1                      0   \n",
       "1                   6              0     1                      0   \n",
       "2                   4              0     1                      0   \n",
       "3                   5              0     1                      0   \n",
       "4                   3              0     1                      0   \n",
       "\n",
       "  Departments   salary  \n",
       "0        sales     low  \n",
       "1        sales  medium  \n",
       "2        sales  medium  \n",
       "3        sales     low  \n",
       "4        sales     low  "
      ]
     },
     "execution_count": 19,
     "metadata": {},
     "output_type": "execute_result"
    }
   ],
   "source": [
    "df1=pd.read_csv('HR_attrition_rate.csv')\n",
    "df1.head()"
   ]
  },
  {
   "cell_type": "code",
   "execution_count": 23,
   "metadata": {},
   "outputs": [
    {
     "data": {
      "text/plain": [
       "Index(['satisfaction_level', 'last_evaluation', 'number_project',\n",
       "       'average_montly_hours', 'time_spend_company', 'Work_accident', 'left',\n",
       "       'promotion_last_5years', 'Departments ', 'salary'],\n",
       "      dtype='object')"
      ]
     },
     "execution_count": 23,
     "metadata": {},
     "output_type": "execute_result"
    }
   ],
   "source": [
    "df1.columns # to see all columns "
   ]
  },
  {
   "cell_type": "code",
   "execution_count": 25,
   "metadata": {
    "scrolled": true
   },
   "outputs": [
    {
     "data": {
      "text/plain": [
       "{'whiskers': [<matplotlib.lines.Line2D at 0x1f8afdfd340>,\n",
       "  <matplotlib.lines.Line2D at 0x1f8afdfd6a0>],\n",
       " 'caps': [<matplotlib.lines.Line2D at 0x1f8afdfda00>,\n",
       "  <matplotlib.lines.Line2D at 0x1f8afdfdd60>],\n",
       " 'boxes': [<matplotlib.lines.Line2D at 0x1f8afdf1fa0>],\n",
       " 'medians': [<matplotlib.lines.Line2D at 0x1f8afe09100>],\n",
       " 'fliers': [<matplotlib.lines.Line2D at 0x1f8afe09400>],\n",
       " 'means': []}"
      ]
     },
     "execution_count": 25,
     "metadata": {},
     "output_type": "execute_result"
    },
    {
     "data": {
      "image/png": "[encoded data removed]",
      "text/plain": [
       "<Figure size 432x288 with 1 Axes>"
      ]
     },
     "metadata": {
      "needs_background": "light"
     },
     "output_type": "display_data"
    }
   ],
   "source": [
    "plt.boxplot(df1.satisfaction_level)\n",
    "#there  ore no outliers"
   ]
  },
  {
   "cell_type": "code",
   "execution_count": 27,
   "metadata": {},
   "outputs": [
    {
     "data": {
      "text/plain": [
       "0.0    0.09\n",
       "0.1    0.21\n",
       "0.2    0.40\n",
       "0.3    0.49\n",
       "0.4    0.57\n",
       "0.5    0.64\n",
       "0.6    0.72\n",
       "0.7    0.78\n",
       "0.8    0.85\n",
       "0.9    0.92\n",
       "1.0    1.00\n",
       "Name: satisfaction_level, dtype: float64"
      ]
     },
     "execution_count": 27,
     "metadata": {},
     "output_type": "execute_result"
    }
   ],
   "source": [
    "df1['satisfaction_level'].quantile([0,0.1,0.2,0.3,0.4,0.5,0.6,0.7,0.8,0.9,1])"
   ]
  },
  {
   "cell_type": "code",
   "execution_count": 31,
   "metadata": {},
   "outputs": [
    {
     "data": {
      "text/html": [
       "<div>\n",
       "<style scoped>\n",
       "    .dataframe tbody tr th:only-of-type {\n",
       "        vertical-align: middle;\n",
       "    }\n",
       "\n",
       "    .dataframe tbody tr th {\n",
       "        vertical-align: top;\n",
       "    }\n",
       "\n",
       "    .dataframe thead th {\n",
       "        text-align: right;\n",
       "    }\n",
       "</style>\n",
       "<table border=\"1\" class=\"dataframe\">\n",
       "  <thead>\n",
       "    <tr style=\"text-align: right;\">\n",
       "      <th></th>\n",
       "      <th>Unnamed: 0</th>\n",
       "      <th>Gender</th>\n",
       "      <th>FSIQ</th>\n",
       "      <th>VIQ</th>\n",
       "      <th>PIQ</th>\n",
       "      <th>Weight</th>\n",
       "      <th>Height</th>\n",
       "      <th>MRI_Count</th>\n",
       "    </tr>\n",
       "  </thead>\n",
       "  <tbody>\n",
       "    <tr>\n",
       "      <th>0</th>\n",
       "      <td>1</td>\n",
       "      <td>Female</td>\n",
       "      <td>133</td>\n",
       "      <td>132</td>\n",
       "      <td>124</td>\n",
       "      <td>118</td>\n",
       "      <td>64.5</td>\n",
       "      <td>816932</td>\n",
       "    </tr>\n",
       "    <tr>\n",
       "      <th>1</th>\n",
       "      <td>2</td>\n",
       "      <td>Male</td>\n",
       "      <td>140</td>\n",
       "      <td>150</td>\n",
       "      <td>124</td>\n",
       "      <td>.</td>\n",
       "      <td>72.5</td>\n",
       "      <td>1001121</td>\n",
       "    </tr>\n",
       "    <tr>\n",
       "      <th>2</th>\n",
       "      <td>3</td>\n",
       "      <td>Male</td>\n",
       "      <td>139</td>\n",
       "      <td>123</td>\n",
       "      <td>150</td>\n",
       "      <td>143</td>\n",
       "      <td>73.3</td>\n",
       "      <td>1038437</td>\n",
       "    </tr>\n",
       "    <tr>\n",
       "      <th>3</th>\n",
       "      <td>4</td>\n",
       "      <td>Male</td>\n",
       "      <td>133</td>\n",
       "      <td>129</td>\n",
       "      <td>128</td>\n",
       "      <td>172</td>\n",
       "      <td>68.8</td>\n",
       "      <td>965353</td>\n",
       "    </tr>\n",
       "    <tr>\n",
       "      <th>4</th>\n",
       "      <td>5</td>\n",
       "      <td>Female</td>\n",
       "      <td>137</td>\n",
       "      <td>132</td>\n",
       "      <td>134</td>\n",
       "      <td>147</td>\n",
       "      <td>65.0</td>\n",
       "      <td>951545</td>\n",
       "    </tr>\n",
       "  </tbody>\n",
       "</table>\n",
       "</div>"
      ],
      "text/plain": [
       "   Unnamed: 0  Gender  FSIQ  VIQ  PIQ Weight Height  MRI_Count\n",
       "0           1  Female   133  132  124    118   64.5     816932\n",
       "1           2    Male   140  150  124      .   72.5    1001121\n",
       "2           3    Male   139  123  150    143   73.3    1038437\n",
       "3           4    Male   133  129  128    172   68.8     965353\n",
       "4           5  Female   137  132  134    147   65.0     951545"
      ]
     },
     "execution_count": 31,
     "metadata": {},
     "output_type": "execute_result"
    }
   ],
   "source": [
    "df3=pd.read_csv('brain_size.csv',sep=';')\n",
    "df3.head()"
   ]
  },
  {
   "cell_type": "code",
   "execution_count": 33,
   "metadata": {},
   "outputs": [
    {
     "data": {
      "text/plain": [
       "Index(['Unnamed: 0', 'Gender', 'FSIQ', 'VIQ', 'PIQ', 'Weight', 'Height',\n",
       "       'MRI_Count'],\n",
       "      dtype='object')"
      ]
     },
     "execution_count": 33,
     "metadata": {},
     "output_type": "execute_result"
    }
   ],
   "source": [
    "df3.columns"
   ]
  },
  {
   "cell_type": "code",
   "execution_count": 34,
   "metadata": {},
   "outputs": [
    {
     "data": {
      "text/plain": [
       "{'whiskers': [<matplotlib.lines.Line2D at 0x1f8aff73c40>,\n",
       "  <matplotlib.lines.Line2D at 0x1f8aff73fa0>],\n",
       " 'caps': [<matplotlib.lines.Line2D at 0x1f8aff7e340>,\n",
       "  <matplotlib.lines.Line2D at 0x1f8aff7e6a0>],\n",
       " 'boxes': [<matplotlib.lines.Line2D at 0x1f8aff738e0>],\n",
       " 'medians': [<matplotlib.lines.Line2D at 0x1f8aff7ea00>],\n",
       " 'fliers': [<matplotlib.lines.Line2D at 0x1f8aff7ed00>],\n",
       " 'means': []}"
      ]
     },
     "execution_count": 34,
     "metadata": {},
     "output_type": "execute_result"
    },
    {
     "data": {
      "image/png": "[encoded data removed]",
      "text/plain": [
       "<Figure size 432x288 with 1 Axes>"
      ]
     },
     "metadata": {
      "needs_background": "light"
     },
     "output_type": "display_data"
    }
   ],
   "source": [
    "plt.boxplot(df3.MRI_Count)"
   ]
  },
  {
   "cell_type": "code",
   "execution_count": 36,
   "metadata": {},
   "outputs": [
    {
     "data": {
      "text/html": [
       "<div>\n",
       "<style scoped>\n",
       "    .dataframe tbody tr th:only-of-type {\n",
       "        vertical-align: middle;\n",
       "    }\n",
       "\n",
       "    .dataframe tbody tr th {\n",
       "        vertical-align: top;\n",
       "    }\n",
       "\n",
       "    .dataframe thead th {\n",
       "        text-align: right;\n",
       "    }\n",
       "</style>\n",
       "<table border=\"1\" class=\"dataframe\">\n",
       "  <thead>\n",
       "    <tr style=\"text-align: right;\">\n",
       "      <th></th>\n",
       "      <th>PassengerId</th>\n",
       "      <th>Survived</th>\n",
       "      <th>Pclass</th>\n",
       "      <th>Name</th>\n",
       "      <th>Sex</th>\n",
       "      <th>Age</th>\n",
       "      <th>SibSp</th>\n",
       "      <th>Parch</th>\n",
       "      <th>Ticket</th>\n",
       "      <th>Fare</th>\n",
       "      <th>Cabin</th>\n",
       "      <th>Embarked</th>\n",
       "    </tr>\n",
       "  </thead>\n",
       "  <tbody>\n",
       "    <tr>\n",
       "      <th>0</th>\n",
       "      <td>1</td>\n",
       "      <td>0</td>\n",
       "      <td>3</td>\n",
       "      <td>Braund, Mr. Owen Harris</td>\n",
       "      <td>male</td>\n",
       "      <td>22.0</td>\n",
       "      <td>1</td>\n",
       "      <td>0</td>\n",
       "      <td>A/5 21171</td>\n",
       "      <td>7.2500</td>\n",
       "      <td>NaN</td>\n",
       "      <td>S</td>\n",
       "    </tr>\n",
       "    <tr>\n",
       "      <th>1</th>\n",
       "      <td>2</td>\n",
       "      <td>1</td>\n",
       "      <td>1</td>\n",
       "      <td>Cumings, Mrs. John Bradley (Florence Briggs Th...</td>\n",
       "      <td>female</td>\n",
       "      <td>38.0</td>\n",
       "      <td>1</td>\n",
       "      <td>0</td>\n",
       "      <td>PC 17599</td>\n",
       "      <td>71.2833</td>\n",
       "      <td>C85</td>\n",
       "      <td>C</td>\n",
       "    </tr>\n",
       "    <tr>\n",
       "      <th>2</th>\n",
       "      <td>3</td>\n",
       "      <td>1</td>\n",
       "      <td>3</td>\n",
       "      <td>Heikkinen, Miss. Laina</td>\n",
       "      <td>female</td>\n",
       "      <td>26.0</td>\n",
       "      <td>0</td>\n",
       "      <td>0</td>\n",
       "      <td>STON/O2. 3101282</td>\n",
       "      <td>7.9250</td>\n",
       "      <td>NaN</td>\n",
       "      <td>S</td>\n",
       "    </tr>\n",
       "    <tr>\n",
       "      <th>3</th>\n",
       "      <td>4</td>\n",
       "      <td>1</td>\n",
       "      <td>1</td>\n",
       "      <td>Futrelle, Mrs. Jacques Heath (Lily May Peel)</td>\n",
       "      <td>female</td>\n",
       "      <td>35.0</td>\n",
       "      <td>1</td>\n",
       "      <td>0</td>\n",
       "      <td>113803</td>\n",
       "      <td>53.1000</td>\n",
       "      <td>C123</td>\n",
       "      <td>S</td>\n",
       "    </tr>\n",
       "    <tr>\n",
       "      <th>4</th>\n",
       "      <td>5</td>\n",
       "      <td>0</td>\n",
       "      <td>3</td>\n",
       "      <td>Allen, Mr. William Henry</td>\n",
       "      <td>male</td>\n",
       "      <td>35.0</td>\n",
       "      <td>0</td>\n",
       "      <td>0</td>\n",
       "      <td>373450</td>\n",
       "      <td>8.0500</td>\n",
       "      <td>NaN</td>\n",
       "      <td>S</td>\n",
       "    </tr>\n",
       "  </tbody>\n",
       "</table>\n",
       "</div>"
      ],
      "text/plain": [
       "   PassengerId  Survived  Pclass  \\\n",
       "0            1         0       3   \n",
       "1            2         1       1   \n",
       "2            3         1       3   \n",
       "3            4         1       1   \n",
       "4            5         0       3   \n",
       "\n",
       "                                                Name     Sex   Age  SibSp  \\\n",
       "0                            Braund, Mr. Owen Harris    male  22.0      1   \n",
       "1  Cumings, Mrs. John Bradley (Florence Briggs Th...  female  38.0      1   \n",
       "2                             Heikkinen, Miss. Laina  female  26.0      0   \n",
       "3       Futrelle, Mrs. Jacques Heath (Lily May Peel)  female  35.0      1   \n",
       "4                           Allen, Mr. William Henry    male  35.0      0   \n",
       "\n",
       "   Parch            Ticket     Fare Cabin Embarked  \n",
       "0      0         A/5 21171   7.2500   NaN        S  \n",
       "1      0          PC 17599  71.2833   C85        C  \n",
       "2      0  STON/O2. 3101282   7.9250   NaN        S  \n",
       "3      0            113803  53.1000  C123        S  \n",
       "4      0            373450   8.0500   NaN        S  "
      ]
     },
     "execution_count": 36,
     "metadata": {},
     "output_type": "execute_result"
    }
   ],
   "source": [
    "tf=pd.read_csv('titanic_train.csv')\n",
    "tf.head()"
   ]
  },
  {
   "cell_type": "code",
   "execution_count": 37,
   "metadata": {},
   "outputs": [
    {
     "data": {
      "text/plain": [
       "Index(['PassengerId', 'Survived', 'Pclass', 'Name', 'Sex', 'Age', 'SibSp',\n",
       "       'Parch', 'Ticket', 'Fare', 'Cabin', 'Embarked'],\n",
       "      dtype='object')"
      ]
     },
     "execution_count": 37,
     "metadata": {},
     "output_type": "execute_result"
    }
   ],
   "source": [
    "tf.columns"
   ]
  },
  {
   "cell_type": "code",
   "execution_count": 42,
   "metadata": {},
   "outputs": [
    {
     "data": {
      "text/plain": [
       "{'whiskers': [<matplotlib.lines.Line2D at 0x1f8b10bb3a0>,\n",
       "  <matplotlib.lines.Line2D at 0x1f8b10bb700>],\n",
       " 'caps': [<matplotlib.lines.Line2D at 0x1f8b10bba60>,\n",
       "  <matplotlib.lines.Line2D at 0x1f8b10bbdc0>],\n",
       " 'boxes': [<matplotlib.lines.Line2D at 0x1f8b10bb040>],\n",
       " 'medians': [<matplotlib.lines.Line2D at 0x1f8b10c5160>],\n",
       " 'fliers': [<matplotlib.lines.Line2D at 0x1f8b10c5460>],\n",
       " 'means': []}"
      ]
     },
     "execution_count": 42,
     "metadata": {},
     "output_type": "execute_result"
    },
    {
     "data": {
      "image/png": "[encoded data removed]",
      "text/plain": [
       "<Figure size 432x288 with 1 Axes>"
      ]
     },
     "metadata": {
      "needs_background": "light"
     },
     "output_type": "display_data"
    }
   ],
   "source": [
    "plt.boxplot(tf.PassengerId)"
   ]
  },
  {
   "cell_type": "code",
   "execution_count": 43,
   "metadata": {},
   "outputs": [
    {
     "data": {
      "text/plain": [
       "{'whiskers': [<matplotlib.lines.Line2D at 0x1f8afd147f0>,\n",
       "  <matplotlib.lines.Line2D at 0x1f8afc6dbb0>],\n",
       " 'caps': [<matplotlib.lines.Line2D at 0x1f8afcbeb80>,\n",
       "  <matplotlib.lines.Line2D at 0x1f8af5c0fd0>],\n",
       " 'boxes': [<matplotlib.lines.Line2D at 0x1f8afd14d60>],\n",
       " 'medians': [<matplotlib.lines.Line2D at 0x1f8af5c0700>],\n",
       " 'fliers': [<matplotlib.lines.Line2D at 0x1f8ac685580>],\n",
       " 'means': []}"
      ]
     },
     "execution_count": 43,
     "metadata": {},
     "output_type": "execute_result"
    },
    {
     "data": {
      "image/png": "[encoded data removed]",
      "text/plain": [
       "<Figure size 432x288 with 1 Axes>"
      ]
     },
     "metadata": {
      "needs_background": "light"
     },
     "output_type": "display_data"
    }
   ],
   "source": [
    "plt.boxplot(tf.Fare)"
   ]
  },
  {
   "cell_type": "code",
   "execution_count": 46,
   "metadata": {},
   "outputs": [
    {
     "name": "stderr",
     "output_type": "stream",
     "text": [
      "C:\\Users\\asus\\anaconda3\\lib\\site-packages\\matplotlib\\cbook\\__init__.py:1239: RuntimeWarning: invalid value encountered in less_equal\n",
      "  wiskhi = x[x <= hival]\n",
      "C:\\Users\\asus\\anaconda3\\lib\\site-packages\\matplotlib\\cbook\\__init__.py:1246: RuntimeWarning: invalid value encountered in greater_equal\n",
      "  wisklo = x[x >= loval]\n",
      "C:\\Users\\asus\\anaconda3\\lib\\site-packages\\matplotlib\\cbook\\__init__.py:1254: RuntimeWarning: invalid value encountered in less\n",
      "  x[x < stats['whislo']],\n",
      "C:\\Users\\asus\\anaconda3\\lib\\site-packages\\matplotlib\\cbook\\__init__.py:1255: RuntimeWarning: invalid value encountered in greater\n",
      "  x[x > stats['whishi']],\n"
     ]
    },
    {
     "data": {
      "text/plain": [
       "{'whiskers': [<matplotlib.lines.Line2D at 0x1f8b11d3640>,\n",
       "  <matplotlib.lines.Line2D at 0x1f8b11d39a0>],\n",
       " 'caps': [<matplotlib.lines.Line2D at 0x1f8b11d3d00>,\n",
       "  <matplotlib.lines.Line2D at 0x1f8b11df0a0>],\n",
       " 'boxes': [<matplotlib.lines.Line2D at 0x1f8b11d3430>],\n",
       " 'medians': [<matplotlib.lines.Line2D at 0x1f8b11df400>],\n",
       " 'fliers': [<matplotlib.lines.Line2D at 0x1f8b11df700>],\n",
       " 'means': []}"
      ]
     },
     "execution_count": 46,
     "metadata": {},
     "output_type": "execute_result"
    },
    {
     "data": {
      "image/png": "[encoded data removed]",
      "text/plain": [
       "<Figure size 432x288 with 1 Axes>"
      ]
     },
     "metadata": {
      "needs_background": "light"
     },
     "output_type": "display_data"
    }
   ],
   "source": [
    "plt.boxplot(tf.Age)"
   ]
  },
  {
   "cell_type": "code",
   "execution_count": 74,
   "metadata": {},
   "outputs": [
    {
     "data": {
      "text/html": [
       "<div>\n",
       "<style scoped>\n",
       "    .dataframe tbody tr th:only-of-type {\n",
       "        vertical-align: middle;\n",
       "    }\n",
       "\n",
       "    .dataframe tbody tr th {\n",
       "        vertical-align: top;\n",
       "    }\n",
       "\n",
       "    .dataframe thead th {\n",
       "        text-align: right;\n",
       "    }\n",
       "</style>\n",
       "<table border=\"1\" class=\"dataframe\">\n",
       "  <thead>\n",
       "    <tr style=\"text-align: right;\">\n",
       "      <th></th>\n",
       "      <th>LotArea</th>\n",
       "      <th>OverallQual</th>\n",
       "      <th>OverallCond</th>\n",
       "      <th>TotalBsmtSF</th>\n",
       "      <th>FullBath</th>\n",
       "      <th>HalfBath</th>\n",
       "      <th>BedroomAbvGr</th>\n",
       "      <th>TotRmsAbvGrd</th>\n",
       "      <th>Fireplaces</th>\n",
       "      <th>GarageArea</th>\n",
       "      <th>AboveMedianPrice</th>\n",
       "    </tr>\n",
       "  </thead>\n",
       "  <tbody>\n",
       "    <tr>\n",
       "      <th>0</th>\n",
       "      <td>8450</td>\n",
       "      <td>7</td>\n",
       "      <td>5</td>\n",
       "      <td>856</td>\n",
       "      <td>2</td>\n",
       "      <td>1</td>\n",
       "      <td>3</td>\n",
       "      <td>8</td>\n",
       "      <td>0</td>\n",
       "      <td>548</td>\n",
       "      <td>1</td>\n",
       "    </tr>\n",
       "    <tr>\n",
       "      <th>1</th>\n",
       "      <td>9600</td>\n",
       "      <td>6</td>\n",
       "      <td>8</td>\n",
       "      <td>1262</td>\n",
       "      <td>2</td>\n",
       "      <td>0</td>\n",
       "      <td>3</td>\n",
       "      <td>6</td>\n",
       "      <td>1</td>\n",
       "      <td>460</td>\n",
       "      <td>1</td>\n",
       "    </tr>\n",
       "    <tr>\n",
       "      <th>2</th>\n",
       "      <td>11250</td>\n",
       "      <td>7</td>\n",
       "      <td>5</td>\n",
       "      <td>920</td>\n",
       "      <td>2</td>\n",
       "      <td>1</td>\n",
       "      <td>3</td>\n",
       "      <td>6</td>\n",
       "      <td>1</td>\n",
       "      <td>608</td>\n",
       "      <td>1</td>\n",
       "    </tr>\n",
       "    <tr>\n",
       "      <th>3</th>\n",
       "      <td>9550</td>\n",
       "      <td>7</td>\n",
       "      <td>5</td>\n",
       "      <td>756</td>\n",
       "      <td>1</td>\n",
       "      <td>0</td>\n",
       "      <td>3</td>\n",
       "      <td>7</td>\n",
       "      <td>1</td>\n",
       "      <td>642</td>\n",
       "      <td>0</td>\n",
       "    </tr>\n",
       "    <tr>\n",
       "      <th>4</th>\n",
       "      <td>14260</td>\n",
       "      <td>8</td>\n",
       "      <td>5</td>\n",
       "      <td>1145</td>\n",
       "      <td>2</td>\n",
       "      <td>1</td>\n",
       "      <td>4</td>\n",
       "      <td>9</td>\n",
       "      <td>1</td>\n",
       "      <td>836</td>\n",
       "      <td>1</td>\n",
       "    </tr>\n",
       "  </tbody>\n",
       "</table>\n",
       "</div>"
      ],
      "text/plain": [
       "   LotArea  OverallQual  OverallCond  TotalBsmtSF  FullBath  HalfBath  \\\n",
       "0     8450            7            5          856         2         1   \n",
       "1     9600            6            8         1262         2         0   \n",
       "2    11250            7            5          920         2         1   \n",
       "3     9550            7            5          756         1         0   \n",
       "4    14260            8            5         1145         2         1   \n",
       "\n",
       "   BedroomAbvGr  TotRmsAbvGrd  Fireplaces  GarageArea  AboveMedianPrice  \n",
       "0             3             8           0         548                 1  \n",
       "1             3             6           1         460                 1  \n",
       "2             3             6           1         608                 1  \n",
       "3             3             7           1         642                 0  \n",
       "4             4             9           1         836                 1  "
      ]
     },
     "execution_count": 74,
     "metadata": {},
     "output_type": "execute_result"
    }
   ],
   "source": [
    "hf=pd.read_csv('house_price_data_median.csv')\n",
    "hf.head()"
   ]
  },
  {
   "cell_type": "code",
   "execution_count": 75,
   "metadata": {},
   "outputs": [
    {
     "data": {
      "text/plain": [
       "Index(['LotArea', 'OverallQual', 'OverallCond', 'TotalBsmtSF', 'FullBath',\n",
       "       'HalfBath', 'BedroomAbvGr', 'TotRmsAbvGrd', 'Fireplaces', 'GarageArea',\n",
       "       'AboveMedianPrice'],\n",
       "      dtype='object')"
      ]
     },
     "execution_count": 75,
     "metadata": {},
     "output_type": "execute_result"
    }
   ],
   "source": [
    "hf.columns"
   ]
  },
  {
   "cell_type": "code",
   "execution_count": 76,
   "metadata": {},
   "outputs": [
    {
     "data": {
      "text/plain": [
       "{'whiskers': [<matplotlib.lines.Line2D at 0x1f8b13ef730>,\n",
       "  <matplotlib.lines.Line2D at 0x1f8b13e2760>],\n",
       " 'caps': [<matplotlib.lines.Line2D at 0x1f8b13e2490>,\n",
       "  <matplotlib.lines.Line2D at 0x1f8b13c5af0>],\n",
       " 'boxes': [<matplotlib.lines.Line2D at 0x1f8b1201160>],\n",
       " 'medians': [<matplotlib.lines.Line2D at 0x1f8b13c5b80>],\n",
       " 'fliers': [<matplotlib.lines.Line2D at 0x1f8b13c56a0>],\n",
       " 'means': []}"
      ]
     },
     "execution_count": 76,
     "metadata": {},
     "output_type": "execute_result"
    },
    {
     "data": {
      "image/png": "[encoded data removed]",
      "text/plain": [
       "<Figure size 432x288 with 1 Axes>"
      ]
     },
     "metadata": {
      "needs_background": "light"
     },
     "output_type": "display_data"
    }
   ],
   "source": [
    "plt.boxplot(hf.LotArea)\n",
    "#here outliers are present"
   ]
  },
  {
   "cell_type": "code",
   "execution_count": 77,
   "metadata": {},
   "outputs": [
    {
     "data": {
      "text/plain": [
       "0.0      1300.0\n",
       "0.1      5000.0\n",
       "0.2      7078.4\n",
       "0.3      8063.7\n",
       "0.4      8793.4\n",
       "0.5      9478.5\n",
       "0.6     10198.2\n",
       "0.7     11066.5\n",
       "0.8     12205.8\n",
       "0.9     14381.7\n",
       "1.0    215245.0\n",
       "Name: LotArea, dtype: float64"
      ]
     },
     "execution_count": 77,
     "metadata": {},
     "output_type": "execute_result"
    }
   ],
   "source": [
    "hf['LotArea'].quantile([0,0.1,0.2,0.3,0.4,0.5,0.6,0.7,0.8,0.9,1])"
   ]
  },
  {
   "cell_type": "code",
   "execution_count": 78,
   "metadata": {},
   "outputs": [
    {
     "data": {
      "text/plain": [
       "{'whiskers': [<matplotlib.lines.Line2D at 0x1f8b3812370>,\n",
       "  <matplotlib.lines.Line2D at 0x1f8b3812400>],\n",
       " 'caps': [<matplotlib.lines.Line2D at 0x1f8b3812580>,\n",
       "  <matplotlib.lines.Line2D at 0x1f8b273d9a0>],\n",
       " 'boxes': [<matplotlib.lines.Line2D at 0x1f8b3812f10>],\n",
       " 'medians': [<matplotlib.lines.Line2D at 0x1f8b273d880>],\n",
       " 'fliers': [<matplotlib.lines.Line2D at 0x1f8b273d340>],\n",
       " 'means': []}"
      ]
     },
     "execution_count": 78,
     "metadata": {},
     "output_type": "execute_result"
    },
    {
     "data": {
      "image/png": "[encoded data removed]",
      "text/plain": [
       "<Figure size 432x288 with 1 Axes>"
      ]
     },
     "metadata": {
      "needs_background": "light"
     },
     "output_type": "display_data"
    }
   ],
   "source": [
    "plt.boxplot(hf.TotalBsmtSF)\n",
    "#here outliers are present"
   ]
  },
  {
   "cell_type": "code",
   "execution_count": 79,
   "metadata": {},
   "outputs": [
    {
     "data": {
      "text/plain": [
       "<matplotlib.axes._subplots.AxesSubplot at 0x1f8b2748a90>"
      ]
     },
     "execution_count": 79,
     "metadata": {},
     "output_type": "execute_result"
    },
    {
     "data": {
      "image/png": "[encoded data removed]",
      "text/plain": [
       "<Figure size 432x288 with 1 Axes>"
      ]
     },
     "metadata": {
      "needs_background": "light"
     },
     "output_type": "display_data"
    }
   ],
   "source": [
    "import seaborn as sns\n",
    "sns.boxplot(hf.TotalBsmtSF)"
   ]
  },
  {
   "cell_type": "code",
   "execution_count": 80,
   "metadata": {},
   "outputs": [
    {
     "data": {
      "text/plain": [
       "0.0       0.0\n",
       "0.1     636.9\n",
       "0.2     755.8\n",
       "0.3     840.0\n",
       "0.4     910.0\n",
       "0.5     991.5\n",
       "0.6    1088.0\n",
       "0.7    1216.0\n",
       "0.8    1391.2\n",
       "0.9    1602.2\n",
       "1.0    6110.0\n",
       "Name: TotalBsmtSF, dtype: float64"
      ]
     },
     "execution_count": 80,
     "metadata": {},
     "output_type": "execute_result"
    }
   ],
   "source": [
    "hf['TotalBsmtSF'].quantile([0,0.1,0.2,0.3,0.4,0.5,0.6,0.7,0.8,0.9,1])"
   ]
  },
  {
   "cell_type": "code",
   "execution_count": 81,
   "metadata": {},
   "outputs": [
    {
     "data": {
      "text/plain": [
       "{'whiskers': [<matplotlib.lines.Line2D at 0x1f8b3858700>,\n",
       "  <matplotlib.lines.Line2D at 0x1f8b3858a60>],\n",
       " 'caps': [<matplotlib.lines.Line2D at 0x1f8b3858dc0>,\n",
       "  <matplotlib.lines.Line2D at 0x1f8b3863160>],\n",
       " 'boxes': [<matplotlib.lines.Line2D at 0x1f8b38583a0>],\n",
       " 'medians': [<matplotlib.lines.Line2D at 0x1f8b38634c0>],\n",
       " 'fliers': [<matplotlib.lines.Line2D at 0x1f8b38637c0>],\n",
       " 'means': []}"
      ]
     },
     "execution_count": 81,
     "metadata": {},
     "output_type": "execute_result"
    },
    {
     "data": {
      "image/png": "[encoded data removed]",
      "text/plain": [
       "<Figure size 432x288 with 1 Axes>"
      ]
     },
     "metadata": {
      "needs_background": "light"
     },
     "output_type": "display_data"
    }
   ],
   "source": [
    "plt.boxplot(hf.GarageArea)"
   ]
  },
  {
   "cell_type": "code",
   "execution_count": 82,
   "metadata": {},
   "outputs": [
    {
     "data": {
      "text/plain": [
       "<matplotlib.axes._subplots.AxesSubplot at 0x1f8b3881f70>"
      ]
     },
     "execution_count": 82,
     "metadata": {},
     "output_type": "execute_result"
    },
    {
     "data": {
      "image/png": "[encoded data removed]",
      "text/plain": [
       "<Figure size 432x288 with 1 Axes>"
      ]
     },
     "metadata": {
      "needs_background": "light"
     },
     "output_type": "display_data"
    }
   ],
   "source": [
    "sns.boxplot(hf.GarageArea)\n"
   ]
  },
  {
   "cell_type": "code",
   "execution_count": 83,
   "metadata": {},
   "outputs": [
    {
     "data": {
      "text/plain": [
       "0.0       0.0\n",
       "0.1     240.0\n",
       "0.2     295.6\n",
       "0.3     384.0\n",
       "0.4     440.0\n",
       "0.5     480.0\n",
       "0.6     516.0\n",
       "0.7     560.0\n",
       "0.8     620.2\n",
       "0.9     757.1\n",
       "1.0    1418.0\n",
       "Name: GarageArea, dtype: float64"
      ]
     },
     "execution_count": 83,
     "metadata": {},
     "output_type": "execute_result"
    }
   ],
   "source": [
    "hf['GarageArea'].quantile([0,0.1,0.2,0.3,0.4,0.5,0.6,0.7,0.8,0.9,1])"
   ]
  },
  {
   "cell_type": "code",
   "execution_count": 84,
   "metadata": {},
   "outputs": [
    {
     "data": {
      "text/plain": [
       "Index(['LotArea', 'OverallQual', 'OverallCond', 'TotalBsmtSF', 'FullBath',\n",
       "       'HalfBath', 'BedroomAbvGr', 'TotRmsAbvGrd', 'Fireplaces', 'GarageArea',\n",
       "       'AboveMedianPrice'],\n",
       "      dtype='object')"
      ]
     },
     "execution_count": 84,
     "metadata": {},
     "output_type": "execute_result"
    }
   ],
   "source": [
    "hf.columns"
   ]
  },
  {
   "cell_type": "code",
   "execution_count": 85,
   "metadata": {},
   "outputs": [
    {
     "data": {
      "image/png": "[encoded data removed]",
      "text/plain": [
       "<Figure size 432x288 with 1 Axes>"
      ]
     },
     "metadata": {
      "needs_background": "light"
     },
     "output_type": "display_data"
    }
   ],
   "source": [
    "plt.scatter(hf.LotArea,hf.GarageArea)\n",
    "plt.xlabel('LotArea')\n",
    "plt.ylabel('GarageArea')\n",
    "plt.show()\n",
    "#some outliers present here"
   ]
  },
  {
   "cell_type": "code",
   "execution_count": 86,
   "metadata": {},
   "outputs": [
    {
     "data": {
      "text/plain": [
       "Index(['LotArea', 'OverallQual', 'OverallCond', 'TotalBsmtSF', 'FullBath',\n",
       "       'HalfBath', 'BedroomAbvGr', 'TotRmsAbvGrd', 'Fireplaces', 'GarageArea',\n",
       "       'AboveMedianPrice'],\n",
       "      dtype='object')"
      ]
     },
     "execution_count": 86,
     "metadata": {},
     "output_type": "execute_result"
    }
   ],
   "source": [
    "hf.columns"
   ]
  },
  {
   "cell_type": "code",
   "execution_count": 88,
   "metadata": {},
   "outputs": [
    {
     "data": {
      "image/png": "[encoded data removed]",
      "text/plain": [
       "<Figure size 432x288 with 1 Axes>"
      ]
     },
     "metadata": {
      "needs_background": "light"
     },
     "output_type": "display_data"
    }
   ],
   "source": [
    "plt.scatter(hf.TotRmsAbvGrd,hf.LotArea)\n",
    "plt.xlabel('LotArea')\n",
    "plt.ylabel('GarageArea')\n",
    "plt.show()\n",
    "#some outliers present here but outliers means not intentional error"
   ]
  },
  {
   "cell_type": "markdown",
   "metadata": {},
   "source": [
    "# Discover Outliers with mathematical function :-\n",
    "(how to remove out liers)\n",
    "\n",
    "Z-score-\n",
    "\n",
    "Wikipedia Definition The Z-score is the signed number of standard deviations by which the value of an observation or data point is above the mean value of what is being observed or measured.\n"
   ]
  },
  {
   "cell_type": "markdown",
   "metadata": {},
   "source": [
    "* The Definition behind z-score is to describeany data point by finding their relationship with the Standard Deviation and Mean of the group of data points.\n",
    "\n",
    "* z-score is finding the distribution of data where mean is 0 and standard deviation is 1 i.e. normal distribution.\n",
    "\n",
    "* You must be wondering that, how does this help in identify the outliers?\n",
    "    * Well, While calculating the z-score we re-scale and centre thr data and look for data points which are too far from zero.\n",
    "* These data points which are way too far from zero will be treated as the outliers.\n",
    "* In most of the cases threshold of 3 to -3 is used i.e. if the z-score value is greater than or lessthan 3 or -3 respectively, that datapoint will be identifid as outliers."
   ]
  },
  {
   "cell_type": "code",
   "execution_count": 90,
   "metadata": {},
   "outputs": [],
   "source": [
    "from scipy.stats import zscore\n",
    "import numpy as np"
   ]
  },
  {
   "cell_type": "code",
   "execution_count": 93,
   "metadata": {},
   "outputs": [
    {
     "data": {
      "text/plain": [
       "array([[0.20714171, 0.65147924, 0.51719981, ..., 0.95122649, 0.35100032,\n",
       "        1.00274349],\n",
       "       [0.09188637, 0.07183611, 2.17962776, ..., 0.60049493, 0.06073101,\n",
       "        1.00274349],\n",
       "       [0.07347998, 0.65147924, 0.51719981, ..., 0.60049493, 0.63172623,\n",
       "        1.00274349],\n",
       "       ...,\n",
       "       [0.14781027, 0.65147924, 3.07857028, ..., 2.15221636, 1.03391416,\n",
       "        1.00274349],\n",
       "       [0.08016039, 0.79515147, 0.38174271, ..., 0.95122649, 1.09005935,\n",
       "        0.99726402],\n",
       "       [0.05811155, 0.79515147, 0.38174271, ..., 0.95122649, 0.9216238 ,\n",
       "        0.99726402]])"
      ]
     },
     "execution_count": 93,
     "metadata": {},
     "output_type": "execute_result"
    }
   ],
   "source": [
    "z=np.abs(zscore(hf)) #here hf is data frame ('house_price_data_median.csv')\n",
    "z"
   ]
  },
  {
   "cell_type": "markdown",
   "metadata": {},
   "source": [
    "Looking the code and the output above, it is dificult to say which data point is an outlier Ler's try and define a threshold to identify an outlliers."
   ]
  },
  {
   "cell_type": "code",
   "execution_count": 95,
   "metadata": {},
   "outputs": [
    {
     "name": "stdout",
     "output_type": "stream",
     "text": [
      "(array([  53,   53,   88,  144,  166,  178,  185,  185,  188,  189,  191,\n",
      "        218,  224,  241,  249,  250,  291,  298,  304,  309,  313,  330,\n",
      "        332,  335,  375,  375,  378,  384,  398,  440,  451,  457,  461,\n",
      "        496,  508,  519,  523,  533,  570,  581,  583,  597,  605,  624,\n",
      "        628,  634,  635,  635,  642,  661,  664,  676,  691,  703,  706,\n",
      "        726,  745,  769,  769,  803,  825,  843,  848,  897,  897,  910,\n",
      "        921,  980,  991, 1031, 1044, 1061, 1123, 1149, 1154, 1163, 1163,\n",
      "       1173, 1182, 1190, 1213, 1213, 1230, 1230, 1268, 1270, 1283, 1298,\n",
      "       1298, 1298, 1298, 1298, 1327, 1350, 1350, 1350, 1352, 1373, 1386,\n",
      "       1396, 1435, 1450, 1457], dtype=int64), array([0, 6, 2, 6, 8, 9, 2, 7, 5, 6, 2, 2, 3, 2, 0, 2, 6, 5, 2, 8, 0, 6,\n",
      "       3, 0, 1, 2, 2, 0, 2, 3, 0, 0, 2, 3, 2, 2, 3, 1, 6, 9, 2, 5, 8, 5,\n",
      "       5, 6, 6, 7, 8, 0, 9, 2, 3, 2, 0, 2, 2, 0, 7, 7, 9, 6, 0, 6, 7, 7,\n",
      "       5, 2, 2, 7, 3, 9, 2, 2, 5, 5, 6, 7, 3, 9, 2, 6, 5, 7, 2, 6, 5, 0,\n",
      "       3, 7, 8, 9, 2, 5, 6, 7, 2, 3, 7, 0, 2, 5, 2], dtype=int64))\n"
     ]
    }
   ],
   "source": [
    "thereshold =3\n",
    "print(np.where(z>3)) \n",
    "\n",
    "#here by this method we can see data where z>3 bcz they are all outliers.\n",
    "#here we get rows and columns  location where outlier is present.\n",
    "#ex-53th row and 0th column ,53th row 6th column similarly for all, where these position outlier is present.\n",
    "#see some example below this cell how to call to se outliers"
   ]
  },
  {
   "cell_type": "code",
   "execution_count": 96,
   "metadata": {},
   "outputs": [
    {
     "data": {
      "text/plain": [
       "3.98424384357879"
      ]
     },
     "execution_count": 96,
     "metadata": {},
     "output_type": "execute_result"
    }
   ],
   "source": [
    "#array 1 is holding the row number and array 2is holding the column\n",
    "#all the values are greater than 3\n",
    "#z[Row][column]\n",
    "\n",
    "z[53][0]"
   ]
  },
  {
   "cell_type": "code",
   "execution_count": 97,
   "metadata": {},
   "outputs": [
    {
     "data": {
      "text/plain": [
       "3.0785702794481655"
      ]
     },
     "execution_count": 97,
     "metadata": {},
     "output_type": "execute_result"
    }
   ],
   "source": [
    "z[1457][2]"
   ]
  },
  {
   "cell_type": "code",
   "execution_count": 98,
   "metadata": {},
   "outputs": [
    {
     "data": {
      "text/plain": [
       "0.5171998069472914"
      ]
     },
     "execution_count": 98,
     "metadata": {},
     "output_type": "execute_result"
    }
   ],
   "source": [
    "z[144][2]"
   ]
  },
  {
   "cell_type": "code",
   "execution_count": 99,
   "metadata": {},
   "outputs": [
    {
     "data": {
      "text/plain": [
       "3.842510049724758"
      ]
     },
     "execution_count": 99,
     "metadata": {},
     "output_type": "execute_result"
    }
   ],
   "source": [
    "z[144][6]"
   ]
  },
  {
   "cell_type": "markdown",
   "metadata": {},
   "source": [
    "### Process of removing Outliers:-"
   ]
  },
  {
   "cell_type": "markdown",
   "metadata": {},
   "source": [
    "IQR score- Box plot use the IQR method to display data and outlier (Shape of the data) but in order to be get alist of identified outlier, we will need to use the mathematical formula and retrieve data.\n",
    "\n",
    "The interquartile range(IQR), also called the midspred or middle 50%, or technically H-spread, is a measure of statistical dispersion , being equal to the difference between 75th and 25th percentiles,or between upper and lower quartiles, IQR = Q3 - Q1.\n",
    "\n",
    "According to the basic defination of IQR outliers, Values less than Q1-1.5IQR and values greater that Q3+1.5IQR are terated as outlier.So,"
   ]
  },
  {
   "cell_type": "code",
   "execution_count": 101,
   "metadata": {},
   "outputs": [],
   "source": [
    "#Q1 means 25th percentile and Q3 means 75th percentile.\n",
    "\n",
    "\n",
    "Q1=hf.quantile(.25)"
   ]
  },
  {
   "cell_type": "code",
   "execution_count": 102,
   "metadata": {},
   "outputs": [],
   "source": [
    "Q3=hf.quantile(.75)"
   ]
  },
  {
   "cell_type": "code",
   "execution_count": 103,
   "metadata": {},
   "outputs": [
    {
     "data": {
      "text/plain": [
       "LotArea             7553.50\n",
       "OverallQual            5.00\n",
       "OverallCond            5.00\n",
       "TotalBsmtSF          795.75\n",
       "FullBath               1.00\n",
       "HalfBath               0.00\n",
       "BedroomAbvGr           2.00\n",
       "TotRmsAbvGrd           5.00\n",
       "Fireplaces             0.00\n",
       "GarageArea           334.50\n",
       "AboveMedianPrice       0.00\n",
       "Name: 0.25, dtype: float64"
      ]
     },
     "execution_count": 103,
     "metadata": {},
     "output_type": "execute_result"
    }
   ],
   "source": [
    "Q1"
   ]
  },
  {
   "cell_type": "code",
   "execution_count": 104,
   "metadata": {},
   "outputs": [
    {
     "data": {
      "text/plain": [
       "LotArea             11601.50\n",
       "OverallQual             7.00\n",
       "OverallCond             6.00\n",
       "TotalBsmtSF          1298.25\n",
       "FullBath                2.00\n",
       "HalfBath                1.00\n",
       "BedroomAbvGr            3.00\n",
       "TotRmsAbvGrd            7.00\n",
       "Fireplaces              1.00\n",
       "GarageArea            576.00\n",
       "AboveMedianPrice        1.00\n",
       "Name: 0.75, dtype: float64"
      ]
     },
     "execution_count": 104,
     "metadata": {},
     "output_type": "execute_result"
    }
   ],
   "source": [
    "Q3"
   ]
  },
  {
   "cell_type": "code",
   "execution_count": 105,
   "metadata": {},
   "outputs": [],
   "source": [
    "IQR= Q3-Q1"
   ]
  },
  {
   "cell_type": "code",
   "execution_count": 106,
   "metadata": {},
   "outputs": [
    {
     "data": {
      "text/plain": [
       "LotArea             4048.0\n",
       "OverallQual            2.0\n",
       "OverallCond            1.0\n",
       "TotalBsmtSF          502.5\n",
       "FullBath               1.0\n",
       "HalfBath               1.0\n",
       "BedroomAbvGr           1.0\n",
       "TotRmsAbvGrd           2.0\n",
       "Fireplaces             1.0\n",
       "GarageArea           241.5\n",
       "AboveMedianPrice       1.0\n",
       "dtype: float64"
      ]
     },
     "execution_count": 106,
     "metadata": {},
     "output_type": "execute_result"
    }
   ],
   "source": [
    "IQR"
   ]
  },
  {
   "cell_type": "code",
   "execution_count": 108,
   "metadata": {},
   "outputs": [
    {
     "name": "stdout",
     "output_type": "stream",
     "text": [
      "      LotArea  OverallQual  OverallCond  TotalBsmtSF  FullBath  HalfBath  \\\n",
      "0       False        False        False        False     False     False   \n",
      "1       False        False         True        False     False     False   \n",
      "2       False        False        False        False     False     False   \n",
      "3       False        False        False        False     False     False   \n",
      "4       False        False        False        False     False     False   \n",
      "...       ...          ...          ...          ...       ...       ...   \n",
      "1455    False        False        False        False     False     False   \n",
      "1456    False        False        False        False     False     False   \n",
      "1457    False        False         True        False     False     False   \n",
      "1458    False        False        False        False     False     False   \n",
      "1459    False        False        False        False     False     False   \n",
      "\n",
      "      BedroomAbvGr  TotRmsAbvGrd  Fireplaces  GarageArea  AboveMedianPrice  \n",
      "0            False         False       False       False             False  \n",
      "1            False         False       False       False             False  \n",
      "2            False         False       False       False             False  \n",
      "3            False         False       False       False             False  \n",
      "4            False         False       False       False             False  \n",
      "...            ...           ...         ...         ...               ...  \n",
      "1455         False         False       False       False             False  \n",
      "1456         False         False       False       False             False  \n",
      "1457         False         False       False       False             False  \n",
      "1458         False         False       False       False             False  \n",
      "1459         False         False       False       False             False  \n",
      "\n",
      "[1460 rows x 11 columns]\n"
     ]
    }
   ],
   "source": [
    "print((hf <(Q1-(1.5*IQR) ))| (hf >(Q3 + (1.5 * IQR))))\n",
    "\n",
    "#somewhere true is here in output  that means showing above of max or min value(in box plot outliers) the outliers is present. our"
   ]
  },
  {
   "cell_type": "markdown",
   "metadata": {},
   "source": [
    "REMOVING OUTLIERS :-"
   ]
  },
  {
   "cell_type": "markdown",
   "metadata": {},
   "source": [
    "Working with Outliers: Correcting, Removing During data analysis when you detect the out of most dificukt decision could be how one dhould deal with the outlier.Should they remove them or correct them ? Before we talk  about this , we have look at few method of removing the outliers.\n",
    "\n",
    "Z-Score\n",
    "\n",
    "in the previoud section, we saw how one can detect the outlier using z-score but now we want to remove or filter the outliers and get the clean data.This can be done with just one line code as we have already calculated the Z-Score."
   ]
  },
  {
   "cell_type": "code",
   "execution_count": 109,
   "metadata": {},
   "outputs": [],
   "source": [
    "hf_new = hf [(z<3).all(axis=1)]\n",
    "\n",
    "#all the z-score value which is less than 3 (z<3)and .all operation means all the row along with column\n",
    "#all the z-score value which is less than 3 (z<3) inside the dataframe that is removed mean less than where three z score value that  outliers are remove from the dataframe."
   ]
  },
  {
   "cell_type": "code",
   "execution_count": 113,
   "metadata": {},
   "outputs": [
    {
     "data": {
      "text/plain": [
       "(1460, 11)"
      ]
     },
     "execution_count": 113,
     "metadata": {},
     "output_type": "execute_result"
    }
   ],
   "source": [
    "hf.shape #Old dataframe shape with outlier\n",
    "\n",
    "#here 1460 rows 11 columns present in older dataframe"
   ]
  },
  {
   "cell_type": "code",
   "execution_count": 114,
   "metadata": {},
   "outputs": [
    {
     "data": {
      "text/plain": [
       "(1372, 11)"
      ]
     },
     "execution_count": 114,
     "metadata": {},
     "output_type": "execute_result"
    }
   ],
   "source": [
    "hf_new.shape #new dataframe without outlier\n",
    "\n",
    "# now here 1360 rows 11 columns present in new dataframe"
   ]
  },
  {
   "cell_type": "markdown",
   "metadata": {},
   "source": [
    "*** ---> here z<3 outlier is removed, z-score(z) value  less than and  greater than 3 both above(3) and below(-3) outlier is present but here z<3 outliers we remomed in this dataframe."
   ]
  },
  {
   "cell_type": "markdown",
   "metadata": {},
   "source": [
    "So,above code removed around 100+ rows from the dataset i.e. Outlier haveen removed."
   ]
  },
  {
   "cell_type": "code",
   "execution_count": null,
   "metadata": {},
   "outputs": [],
   "source": []
  },
  {
   "cell_type": "markdown",
   "metadata": {},
   "source": [
    "The end Session"
   ]
  },
  {
   "cell_type": "markdown",
   "metadata": {},
   "source": [
    "time 10 min pe kuch notes banana h correlation ko samjhne lie ase machine ka part tha baki dekh lio agr machine me nhi hua to yaha par notes bna lio."
   ]
  },
  {
   "cell_type": "code",
   "execution_count": null,
   "metadata": {},
   "outputs": [],
   "source": []
  }
 ],
 "metadata": {
  "kernelspec": {
   "display_name": "Python 3",
   "language": "python",
   "name": "python3"
  },
  "language_info": {
   "codemirror_mode": {
    "name": "ipython",
    "version": 3
   },
   "file_extension": ".py",
   "mimetype": "text/x-python",
   "name": "python",
   "nbconvert_exporter": "python",
   "pygments_lexer": "ipython3",
   "version": "3.8.3"
  }
 },
 "nbformat": 4,
 "nbformat_minor": 4
}
