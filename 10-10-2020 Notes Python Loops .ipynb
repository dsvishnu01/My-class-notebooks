{
 "cells": [
  {
   "cell_type": "markdown",
   "metadata": {},
   "source": [
    "# PYTHON LOOPS:-"
   ]
  },
  {
   "cell_type": "markdown",
   "metadata": {},
   "source": [
    "LOOPS :-"
   ]
  },
  {
   "cell_type": "markdown",
   "metadata": {},
   "source": [
    "* A perticular specific code goes on itrated(looping) till the perticular condition is match. "
   ]
  },
  {
   "cell_type": "raw",
   "metadata": {},
   "source": [
    "LOOPS has three condition :-\n",
    "    \n",
    "    * Initialization - For initialization we need perticular variable to initialize a perticular numerical(i=0).\n",
    "    * Condition      - i need perticular to be match\n",
    "    * Incrementation - inside the loop i have write one line increment.increment means increae of 1.\n",
    "\n",
    "--> Basically inside the python when we are creating the loop ther are perticular key words provide. \n",
    "\n",
    "LOOPS CONDITION :-\n",
    "    \n",
    "    *initialization     i=0\n",
    "    \n",
    "    *condition          while(i<5):    while loop to provide condition.now we have to write loop body and automacally \n",
    "                                       indentation(gap 1tab/4-5space) will come then --> print(i)(this is statement).\n",
    "\n",
    "    *increment          i=i+1          this one is increment.\n",
    "    \n",
    "--> Do not forget to give the increment if we forgeting to give the increment this loop will move to infinite that will never stop.\n",
    "  \n",
    "    Example :-"
   ]
  },
  {
   "cell_type": "markdown",
   "metadata": {},
   "source": [
    "* WHILE LOOP :-"
   ]
  },
  {
   "cell_type": "markdown",
   "metadata": {},
   "source": [
    "* INITIALIZATION :- "
   ]
  },
  {
   "cell_type": "code",
   "execution_count": 100,
   "metadata": {},
   "outputs": [],
   "source": [
    "i=0"
   ]
  },
  {
   "cell_type": "code",
   "execution_count": 101,
   "metadata": {},
   "outputs": [
    {
     "name": "stdout",
     "output_type": "stream",
     "text": [
      "0\n",
      "1\n",
      "2\n",
      "3\n",
      "4\n"
     ]
    }
   ],
   "source": [
    "while(i<5): #do not forget to write colone(:).\n",
    "    print(i)\n",
    "    i=i+1"
   ]
  },
  {
   "cell_type": "code",
   "execution_count": 102,
   "metadata": {},
   "outputs": [
    {
     "name": "stdout",
     "output_type": "stream",
     "text": [
      "0\n",
      "1\n",
      "2\n",
      "3\n",
      "4\n",
      "5\n",
      "6\n",
      "7\n",
      "8\n",
      "9\n"
     ]
    }
   ],
   "source": [
    "i=0\n",
    "while(i<10):\n",
    "    print(i)\n",
    "    i=i+1"
   ]
  },
  {
   "cell_type": "code",
   "execution_count": 103,
   "metadata": {
    "scrolled": true
   },
   "outputs": [
    {
     "name": "stdout",
     "output_type": "stream",
     "text": [
      "0\n",
      "5\n",
      "10\n",
      "15\n"
     ]
    }
   ],
   "source": [
    "k=0\n",
    "while(k<20):\n",
    "    print(k)\n",
    "    k=k+5"
   ]
  },
  {
   "cell_type": "code",
   "execution_count": 104,
   "metadata": {},
   "outputs": [
    {
     "name": "stdout",
     "output_type": "stream",
     "text": [
      "10\n",
      "20\n",
      "30\n",
      "40\n"
     ]
    }
   ],
   "source": [
    "m=10\n",
    "while(m<50):\n",
    "    print(m)\n",
    "    m=m+10"
   ]
  },
  {
   "cell_type": "code",
   "execution_count": 105,
   "metadata": {},
   "outputs": [
    {
     "name": "stdout",
     "output_type": "stream",
     "text": [
      "m= 10\n",
      "m= 20\n",
      "m= 30\n",
      "m= 40\n"
     ]
    }
   ],
   "source": [
    "m=10\n",
    "while(m<50):\n",
    "    print(\"m=\",m)\n",
    "    m=m+10"
   ]
  },
  {
   "cell_type": "code",
   "execution_count": 106,
   "metadata": {},
   "outputs": [
    {
     "name": "stdout",
     "output_type": "stream",
     "text": [
      "0 2 4 6 8 10 12 14 16 18 20 "
     ]
    }
   ],
   "source": [
    "j=0\n",
    "while(j<21):\n",
    "    print(j,end =\" \") # to get output in horizontal use end parameter--> end=\" \" and give gap b/w double cot.\n",
    "    j=j+2"
   ]
  },
  {
   "cell_type": "markdown",
   "metadata": {},
   "source": [
    "FOR LOOP :-"
   ]
  },
  {
   "cell_type": "markdown",
   "metadata": {},
   "source": [
    "* For Loop basically use whenever we have had collection of data."
   ]
  },
  {
   "cell_type": "raw",
   "metadata": {},
   "source": [
    " --> for <index> in [collection of data] # in means index.\n",
    "         print(index)"
   ]
  },
  {
   "cell_type": "code",
   "execution_count": 107,
   "metadata": {},
   "outputs": [
    {
     "name": "stdout",
     "output_type": "stream",
     "text": [
      "1\n",
      "2\n",
      "3\n",
      "4\n"
     ]
    }
   ],
   "source": [
    "for index in [1,2,3,4]:\n",
    "    print(index)"
   ]
  },
  {
   "cell_type": "code",
   "execution_count": 108,
   "metadata": {},
   "outputs": [
    {
     "name": "stdout",
     "output_type": "stream",
     "text": [
      "1\n",
      "2\n",
      "3\n",
      "4\n",
      "5\n",
      "6\n",
      "7\n"
     ]
    }
   ],
   "source": [
    "for index in[1,2,3,4,5,6,7]:\n",
    "    print(index)"
   ]
  },
  {
   "cell_type": "code",
   "execution_count": 109,
   "metadata": {},
   "outputs": [
    {
     "name": "stdout",
     "output_type": "stream",
     "text": [
      "11\n",
      "22\n",
      "33\n",
      "44\n",
      "55\n"
     ]
    }
   ],
   "source": [
    "for index in [11,22,33,44,55]:\n",
    "    print(index)"
   ]
  },
  {
   "cell_type": "code",
   "execution_count": 110,
   "metadata": {},
   "outputs": [
    {
     "name": "stdout",
     "output_type": "stream",
     "text": [
      "34\n",
      "67\n",
      "89\n",
      "20\n",
      "90\n",
      "11\n"
     ]
    }
   ],
   "source": [
    "for i in [34,67,89,20,90,11]:\n",
    "    print(i)"
   ]
  },
  {
   "cell_type": "code",
   "execution_count": 111,
   "metadata": {},
   "outputs": [
    {
     "name": "stdout",
     "output_type": "stream",
     "text": [
      "34.5\n",
      "78.9\n",
      "11.8\n",
      "9.3\n"
     ]
    }
   ],
   "source": [
    "for j in[34.5,78.9,11.8,9.3]:\n",
    "    print(j)"
   ]
  },
  {
   "cell_type": "code",
   "execution_count": 112,
   "metadata": {},
   "outputs": [
    {
     "name": "stdout",
     "output_type": "stream",
     "text": [
      "a\n",
      "b\n",
      "c\n"
     ]
    }
   ],
   "source": [
    "for k in ['a','b','c']:\n",
    "    print(k)"
   ]
  },
  {
   "cell_type": "code",
   "execution_count": 113,
   "metadata": {},
   "outputs": [
    {
     "name": "stdout",
     "output_type": "stream",
     "text": [
      "apple\n",
      "mango\n",
      "banana\n"
     ]
    }
   ],
   "source": [
    "for k in [\"apple\",\"mango\",\"banana\"]: #string data written in double cot.\n",
    "    print(k)"
   ]
  },
  {
   "cell_type": "code",
   "execution_count": 114,
   "metadata": {},
   "outputs": [
    {
     "name": "stdout",
     "output_type": "stream",
     "text": [
      "1\n",
      "2\n",
      "3\n",
      "4\n",
      "5\n",
      "6\n"
     ]
    }
   ],
   "source": [
    "nlist=[1,2,3,4,5,6]\n",
    "for i in nlist:\n",
    "    print(i)"
   ]
  },
  {
   "cell_type": "code",
   "execution_count": 115,
   "metadata": {},
   "outputs": [
    {
     "name": "stdout",
     "output_type": "stream",
     "text": [
      "11\n",
      "22\n",
      "33\n",
      "44\n",
      "55\n"
     ]
    }
   ],
   "source": [
    "nlist=[11,22,33,44,55]\n",
    "for j in nlist:\n",
    "    print(j)"
   ]
  },
  {
   "cell_type": "code",
   "execution_count": 116,
   "metadata": {},
   "outputs": [
    {
     "name": "stdout",
     "output_type": "stream",
     "text": [
      "table\n",
      "chair\n",
      "fan\n",
      "light\n"
     ]
    }
   ],
   "source": [
    "data=[\"table\",\"chair\",\"fan\",\"light\"]\n",
    "for d in data:\n",
    "    print (d)"
   ]
  },
  {
   "cell_type": "code",
   "execution_count": 117,
   "metadata": {},
   "outputs": [
    {
     "name": "stdout",
     "output_type": "stream",
     "text": [
      "apple\n",
      "mango\n",
      "banana\n"
     ]
    }
   ],
   "source": [
    "fruitlist=[\"apple\",\"mango\",\"banana\"]\n",
    "for k in fruitlist:\n",
    "    print(k)"
   ]
  },
  {
   "cell_type": "code",
   "execution_count": 118,
   "metadata": {},
   "outputs": [
    {
     "name": "stdout",
     "output_type": "stream",
     "text": [
      "sachin\n",
      "dhoni\n",
      "virat\n",
      "harbajan\n",
      "suresh\n"
     ]
    }
   ],
   "source": [
    "player=[\"sachin\",\"dhoni\",\"virat\",\"harbajan\",\"suresh\"]\n",
    "for p in player:\n",
    "    print(p)"
   ]
  },
  {
   "cell_type": "code",
   "execution_count": 119,
   "metadata": {},
   "outputs": [
    {
     "name": "stdout",
     "output_type": "stream",
     "text": [
      "90\n",
      "70\n",
      "50\n",
      "30\n"
     ]
    }
   ],
   "source": [
    "for k in [90,70,50,30]:\n",
    "    print(k)"
   ]
  },
  {
   "cell_type": "code",
   "execution_count": 120,
   "metadata": {},
   "outputs": [
    {
     "name": "stdout",
     "output_type": "stream",
     "text": [
      "A B C D "
     ]
    }
   ],
   "source": [
    "list4=['A','B','C','D']\n",
    "for m in list4:\n",
    "    print(m,end=\" \")"
   ]
  },
  {
   "cell_type": "code",
   "execution_count": 121,
   "metadata": {},
   "outputs": [
    {
     "name": "stdout",
     "output_type": "stream",
     "text": [
      "sky\n",
      "earth\n",
      "water\n"
     ]
    }
   ],
   "source": [
    "a=[\"sky\",\"earth\",\"water\"]\n",
    "for i in a:\n",
    "    print(i)"
   ]
  },
  {
   "cell_type": "code",
   "execution_count": 122,
   "metadata": {},
   "outputs": [
    {
     "name": "stdout",
     "output_type": "stream",
     "text": [
      "orange\n",
      "red\n",
      "blue\n"
     ]
    }
   ],
   "source": [
    "colour=[\"orange\",\"red\",\"blue\"]\n",
    "for i in colour:\n",
    "    print(i)"
   ]
  },
  {
   "cell_type": "raw",
   "metadata": {},
   "source": [
    "#TASK\n",
    "\n",
    "Create a list with name fundrinks with elements coke,lemon,soda,pepsi\n",
    "\n",
    "and then itrate it through for loop."
   ]
  },
  {
   "cell_type": "code",
   "execution_count": 123,
   "metadata": {},
   "outputs": [
    {
     "name": "stdout",
     "output_type": "stream",
     "text": [
      "lemon\n",
      "coke\n",
      "soda\n",
      "pepsi\n"
     ]
    }
   ],
   "source": [
    "fundrinks=[\"lemon\",\"coke\",\"soda\",\"pepsi\"]\n",
    "for i in fundrinks:\n",
    "    print(i)"
   ]
  },
  {
   "cell_type": "markdown",
   "metadata": {},
   "source": [
    "Focus here part of for loop or not see below :_"
   ]
  },
  {
   "cell_type": "code",
   "execution_count": 124,
   "metadata": {},
   "outputs": [
    {
     "name": "stdout",
     "output_type": "stream",
     "text": [
      "1\n",
      "2\n",
      "3\n",
      "4\n"
     ]
    }
   ],
   "source": [
    "for i in [1,2,3,4]:\n",
    "    print(i)"
   ]
  },
  {
   "cell_type": "code",
   "execution_count": 125,
   "metadata": {},
   "outputs": [
    {
     "name": "stdout",
     "output_type": "stream",
     "text": [
      "i= 1\n",
      "end\n",
      "i= 2\n",
      "end\n",
      "i= 3\n",
      "end\n",
      "i= 4\n",
      "end\n",
      "i= 5\n",
      "end\n"
     ]
    }
   ],
   "source": [
    "for i in [1,2,3,4,5]:\n",
    "    print(\"i=\",i)\n",
    "    print(\"end\")      # with inditation value this is the part of for loop."
   ]
  },
  {
   "cell_type": "code",
   "execution_count": 126,
   "metadata": {},
   "outputs": [
    {
     "name": "stdout",
     "output_type": "stream",
     "text": [
      "i= 1\n",
      "i= 2\n",
      "i= 3\n",
      "i= 4\n",
      "i= 5\n",
      "end\n",
      "end of for loop 5\n"
     ]
    }
   ],
   "source": [
    "for i in [1,2,3,4,5]:\n",
    "    print(\"i=\",i)\n",
    "\n",
    "print(\"end\")                 #without indetation vale this is not a part of for loop.\n",
    "print(\"end of for loop\",i)"
   ]
  },
  {
   "cell_type": "code",
   "execution_count": null,
   "metadata": {},
   "outputs": [],
   "source": []
  },
  {
   "cell_type": "markdown",
   "metadata": {},
   "source": [
    "# samplelist=[\",\",\",\",\"]"
   ]
  },
  {
   "cell_type": "markdown",
   "metadata": {},
   "source": [
    "for x in samplelist:print(x)"
   ]
  },
  {
   "cell_type": "markdown",
   "metadata": {},
   "source": [
    "Itrating through dictionary :-"
   ]
  },
  {
   "cell_type": "code",
   "execution_count": 127,
   "metadata": {},
   "outputs": [
    {
     "name": "stdout",
     "output_type": "stream",
     "text": [
      "1\n",
      "2\n",
      "3\n",
      "4\n"
     ]
    }
   ],
   "source": [
    "d={1:'sky',2:'earth',3:'water',4:'forest'}\n",
    "for k in d:\n",
    "    print(k)"
   ]
  },
  {
   "cell_type": "code",
   "execution_count": 128,
   "metadata": {},
   "outputs": [
    {
     "name": "stdout",
     "output_type": "stream",
     "text": [
      "sky\n",
      "earth\n",
      "water\n",
      "forest\n"
     ]
    }
   ],
   "source": [
    "d={1:'sky',2:'earth',3:'water',4:'forest'}\n",
    "for k in d:\n",
    "    print(d[k])"
   ]
  },
  {
   "cell_type": "code",
   "execution_count": 129,
   "metadata": {},
   "outputs": [
    {
     "name": "stdout",
     "output_type": "stream",
     "text": [
      "101\n",
      "102\n",
      "103\n",
      "104\n"
     ]
    }
   ],
   "source": [
    "subject={101:\"english\",102:\"science\",103:\"math\",104:\"sst\"}\n",
    "for k in subject:\n",
    "    print(k)"
   ]
  },
  {
   "cell_type": "code",
   "execution_count": 130,
   "metadata": {
    "scrolled": true
   },
   "outputs": [
    {
     "name": "stdout",
     "output_type": "stream",
     "text": [
      "english\n",
      "science\n",
      "math\n",
      "sst\n"
     ]
    }
   ],
   "source": [
    "subject={101:\"english\",102:\"science\",103:\"math\",104:\"sst\"}\n",
    "for k in subject:\n",
    "    print(subject[k])"
   ]
  },
  {
   "cell_type": "code",
   "execution_count": 131,
   "metadata": {},
   "outputs": [
    {
     "name": "stdout",
     "output_type": "stream",
     "text": [
      "dict_items([('colour', 'blue'), ('fruit', 'apple'), ('pet', 'dog')])\n",
      "colour -> blue\n",
      "fruit -> apple\n",
      "pet -> dog\n"
     ]
    }
   ],
   "source": [
    "a_dict = {'colour':'blue','fruit':'apple','pet':'dog'}\n",
    "d_items =a_dict.items()\n",
    "\n",
    "print(d_items)\n",
    "\n",
    "# write the below code in next cell\n",
    "\n",
    "for key in a_dict:\n",
    "    print(key,'->',a_dict[key])"
   ]
  },
  {
   "cell_type": "markdown",
   "metadata": {},
   "source": [
    "RANGE FUNCTION :-"
   ]
  },
  {
   "cell_type": "markdown",
   "metadata": {},
   "source": [
    "* There are many itrables in python like list,tuples etc.range() gives another way to initialize a sequence of numbers using some conditions."
   ]
  },
  {
   "cell_type": "code",
   "execution_count": 132,
   "metadata": {},
   "outputs": [
    {
     "data": {
      "text/plain": [
       "range(0, 5)"
      ]
     },
     "execution_count": 132,
     "metadata": {},
     "output_type": "execute_result"
    }
   ],
   "source": [
    "range(0,5)"
   ]
  },
  {
   "cell_type": "code",
   "execution_count": 133,
   "metadata": {},
   "outputs": [
    {
     "data": {
      "text/plain": [
       "[0, 1, 2, 3, 4]"
      ]
     },
     "execution_count": 133,
     "metadata": {},
     "output_type": "execute_result"
    }
   ],
   "source": [
    "list(range(0,5))"
   ]
  },
  {
   "cell_type": "code",
   "execution_count": 134,
   "metadata": {},
   "outputs": [
    {
     "data": {
      "text/plain": [
       "[0, 1, 2, 3, 4, 5, 6, 7, 8, 9]"
      ]
     },
     "execution_count": 134,
     "metadata": {},
     "output_type": "execute_result"
    }
   ],
   "source": [
    "list(range(0,10))"
   ]
  },
  {
   "cell_type": "code",
   "execution_count": 135,
   "metadata": {},
   "outputs": [],
   "source": [
    "a=list(range(0,10))"
   ]
  },
  {
   "cell_type": "code",
   "execution_count": 136,
   "metadata": {},
   "outputs": [
    {
     "data": {
      "text/plain": [
       "[0, 1, 2, 3, 4, 5, 6, 7, 8, 9]"
      ]
     },
     "execution_count": 136,
     "metadata": {},
     "output_type": "execute_result"
    }
   ],
   "source": [
    "a"
   ]
  },
  {
   "cell_type": "code",
   "execution_count": 137,
   "metadata": {},
   "outputs": [
    {
     "data": {
      "text/plain": [
       "[0, 5, 10, 15, 20, 25, 30, 35, 40, 45]"
      ]
     },
     "execution_count": 137,
     "metadata": {},
     "output_type": "execute_result"
    }
   ],
   "source": [
    "list(range(0,50,5))"
   ]
  },
  {
   "cell_type": "code",
   "execution_count": 138,
   "metadata": {},
   "outputs": [
    {
     "data": {
      "text/plain": [
       "[0, 1, 2, 3, 4]"
      ]
     },
     "execution_count": 138,
     "metadata": {},
     "output_type": "execute_result"
    }
   ],
   "source": [
    "b=list(range(0,5))\n",
    "b"
   ]
  },
  {
   "cell_type": "code",
   "execution_count": 139,
   "metadata": {},
   "outputs": [
    {
     "name": "stdout",
     "output_type": "stream",
     "text": [
      "0\n",
      "1\n",
      "2\n",
      "3\n",
      "4\n"
     ]
    }
   ],
   "source": [
    "for i in range(0,5):\n",
    "    print(i)"
   ]
  },
  {
   "cell_type": "code",
   "execution_count": 140,
   "metadata": {},
   "outputs": [
    {
     "name": "stdout",
     "output_type": "stream",
     "text": [
      "0 1 2 3 4 5 6 7 8 9 10 11 12 13 14 15 16 17 18 19 "
     ]
    }
   ],
   "source": [
    "for k in range(0,20):\n",
    "    print(k,end=\" \")"
   ]
  },
  {
   "cell_type": "markdown",
   "metadata": {},
   "source": [
    "* BREAK :-"
   ]
  },
  {
   "cell_type": "markdown",
   "metadata": {},
   "source": [
    "* CONTINUE :-"
   ]
  },
  {
   "cell_type": "markdown",
   "metadata": {},
   "source": [
    "* if(condition)  :-"
   ]
  },
  {
   "cell_type": "raw",
   "metadata": {},
   "source": [
    "BREAK         :- inside the python if i want to make the loop break in                   between there is break keyword present in the python.\n",
    "\n",
    "CONTUINUE     :- if i want skip few indexes that is posible with                         continue keyword these are present in the python. \n",
    "\n",
    "if(condition) :- Basically to do this break and continue  i need the                     if(condition) statement."
   ]
  },
  {
   "cell_type": "markdown",
   "metadata": {},
   "source": [
    "EXAMPLE :-"
   ]
  },
  {
   "cell_type": "code",
   "execution_count": 141,
   "metadata": {},
   "outputs": [
    {
     "name": "stdout",
     "output_type": "stream",
     "text": [
      "lemon\n",
      "apple\n",
      "orange\n",
      "banana\n"
     ]
    }
   ],
   "source": [
    "for i in ['lemon','apple','orange','banana']:\n",
    "    print(i)"
   ]
  },
  {
   "cell_type": "code",
   "execution_count": 142,
   "metadata": {},
   "outputs": [
    {
     "name": "stdout",
     "output_type": "stream",
     "text": [
      "lemon\n",
      "apple\n"
     ]
    }
   ],
   "source": [
    "for i in ['lemon','apple','orange','banana']:\n",
    "    if i=='orange':\n",
    "        break         #break is inbuilt keyword in python and it is break loop/itration with the break statementof any loop here.\n",
    "    print(i)"
   ]
  },
  {
   "cell_type": "code",
   "execution_count": 143,
   "metadata": {},
   "outputs": [
    {
     "name": "stdout",
     "output_type": "stream",
     "text": [
      "lemon\n",
      "apple\n",
      "banana\n"
     ]
    }
   ],
   "source": [
    "for i in ['lemon','apple','orange','banana']:\n",
    "    if i=='orange':\n",
    "        continue       #continue is inbuilt keyword in python and after giving continue statement it will jump to the next itration it no more come to the below statement.after giving cotinue statement and code will make continuiation to the next index.   \n",
    "    print(i)"
   ]
  },
  {
   "cell_type": "raw",
   "metadata": {},
   "source": [
    "Notes--> Be care with colone and indentation."
   ]
  },
  {
   "cell_type": "code",
   "execution_count": 144,
   "metadata": {},
   "outputs": [],
   "source": [
    "#Task 2\n",
    "#create 2 program for loop on list of object named colors\n",
    "#with element red, yellow, green, blue, purple\n",
    "\n",
    "#HINT\n",
    "#colour=[\"\",\"\",\"\",\"\"]\n",
    "\n",
    "#write break statement where i=='green'\n",
    "\n",
    "#for i in colour"
   ]
  },
  {
   "cell_type": "code",
   "execution_count": 145,
   "metadata": {
    "scrolled": true
   },
   "outputs": [
    {
     "name": "stdout",
     "output_type": "stream",
     "text": [
      "red\n",
      "yellow\n"
     ]
    }
   ],
   "source": [
    "colours=[\"red\",\"yellow\",\"green\",\"blue\",\"purple\"]\n",
    "for i in colours:\n",
    "    if i=='green':\n",
    "        break\n",
    "    print(i)"
   ]
  },
  {
   "cell_type": "code",
   "execution_count": 146,
   "metadata": {},
   "outputs": [
    {
     "name": "stdout",
     "output_type": "stream",
     "text": [
      "red\n",
      "yellow\n",
      "blue\n",
      "purple\n"
     ]
    }
   ],
   "source": [
    "colours=[\"red\",\"yellow\",\"green\",\"blue\",\"purple\"]\n",
    "for i in colours:\n",
    "    if i=='green':\n",
    "        continue\n",
    "    print(i)"
   ]
  },
  {
   "cell_type": "markdown",
   "metadata": {},
   "source": [
    "THE END SESSION"
   ]
  },
  {
   "cell_type": "markdown",
   "metadata": {},
   "source": [
    "ok"
   ]
  }
 ],
 "metadata": {
  "kernelspec": {
   "display_name": "Python 3",
   "language": "python",
   "name": "python3"
  },
  "language_info": {
   "codemirror_mode": {
    "name": "ipython",
    "version": 3
   },
   "file_extension": ".py",
   "mimetype": "text/x-python",
   "name": "python",
   "nbconvert_exporter": "python",
   "pygments_lexer": "ipython3",
   "version": "3.8.3"
  }
 },
 "nbformat": 4,
 "nbformat_minor": 4
}
