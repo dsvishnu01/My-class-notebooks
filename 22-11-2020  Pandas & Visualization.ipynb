{
 "cells": [
  {
   "cell_type": "markdown",
   "metadata": {},
   "source": [
    "\n",
    "# Pandas, Lec-2"
   ]
  },
  {
   "cell_type": "markdown",
   "metadata": {},
   "source": [
    "*  __Pandas is the data science liabrary Basically it use for the tabular structure data.__"
   ]
  },
  {
   "cell_type": "markdown",
   "metadata": {},
   "source": [
    "* __Panadas has two or three data structure.__\n",
    "    \n",
    "    * Series, DataFrame and Panel data structure. \n",
    "    \n",
    "    * Series is use for the one dimensonal and dataframe is use for the two      dimensonal with rows and columns. "
   ]
  },
  {
   "cell_type": "markdown",
   "metadata": {},
   "source": [
    "Inside the pandas we can put various type data which is homogeneuous data and heterogeneous data.\n",
    "\n",
    "Homogeneous Data :-\n",
    "\n",
    "Heterogeneous Data :- \n",
    "    \n",
    "* Pandas has lable access with rows and columns Data.  \n",
    "\n",
    "* Pandas are mutable(changeable).\n"
   ]
  },
  {
   "cell_type": "markdown",
   "metadata": {},
   "source": [
    "DataFrame is a two dimensional data structure ,i.e. data is aligned in a tabular fashion in rows and columns.\n",
    "\n",
    "Features of coloumns are of different types.\n",
    "\n",
    "Size -Mutable\n",
    "\n",
    "Labeked axis (rows and columns)\n",
    "\n",
    "can perform arithmetic operation on rows and columns ."
   ]
  },
  {
   "cell_type": "markdown",
   "metadata": {},
   "source": [
    "* Pandas.Dataframe \n",
    "\n",
    "    * A Pandas Dataframe can be created using the following constructing :-\n",
    "        \n",
    "        * pandas.DataFrame(data,columns,dtype,copy)\n",
    "    \n"
   ]
  },
  {
   "cell_type": "code",
   "execution_count": null,
   "metadata": {},
   "outputs": [],
   "source": []
  },
  {
   "cell_type": "code",
   "execution_count": 1,
   "metadata": {},
   "outputs": [],
   "source": [
    "import pandas as pd"
   ]
  },
  {
   "cell_type": "code",
   "execution_count": 2,
   "metadata": {},
   "outputs": [
    {
     "data": {
      "text/html": [
       "<div>\n",
       "<style scoped>\n",
       "    .dataframe tbody tr th:only-of-type {\n",
       "        vertical-align: middle;\n",
       "    }\n",
       "\n",
       "    .dataframe tbody tr th {\n",
       "        vertical-align: top;\n",
       "    }\n",
       "\n",
       "    .dataframe thead th {\n",
       "        text-align: right;\n",
       "    }\n",
       "</style>\n",
       "<table border=\"1\" class=\"dataframe\">\n",
       "  <thead>\n",
       "    <tr style=\"text-align: right;\">\n",
       "      <th></th>\n",
       "      <th>0</th>\n",
       "    </tr>\n",
       "  </thead>\n",
       "  <tbody>\n",
       "    <tr>\n",
       "      <th>0</th>\n",
       "      <td>1</td>\n",
       "    </tr>\n",
       "    <tr>\n",
       "      <th>1</th>\n",
       "      <td>2</td>\n",
       "    </tr>\n",
       "    <tr>\n",
       "      <th>2</th>\n",
       "      <td>3</td>\n",
       "    </tr>\n",
       "    <tr>\n",
       "      <th>3</th>\n",
       "      <td>4</td>\n",
       "    </tr>\n",
       "  </tbody>\n",
       "</table>\n",
       "</div>"
      ],
      "text/plain": [
       "   0\n",
       "0  1\n",
       "1  2\n",
       "2  3\n",
       "3  4"
      ]
     },
     "execution_count": 2,
     "metadata": {},
     "output_type": "execute_result"
    }
   ],
   "source": [
    "data =[1,2,3,4] #tjhis list and we passing to the pandas dataframe.\n",
    "df = pd.DataFrame(data) #in DataFrame D and F is Capital do take care bcz it is case sensetive. \n",
    "df\n",
    "\n",
    "#In pandas Dataframe By default the coulmns will be provided with the zeros(axis=0) as the labels and 0 and 1 are  coulmns by default generated here.if no coloumns name provided here.   "
   ]
  },
  {
   "cell_type": "code",
   "execution_count": 3,
   "metadata": {},
   "outputs": [
    {
     "data": {
      "text/html": [
       "<div>\n",
       "<style scoped>\n",
       "    .dataframe tbody tr th:only-of-type {\n",
       "        vertical-align: middle;\n",
       "    }\n",
       "\n",
       "    .dataframe tbody tr th {\n",
       "        vertical-align: top;\n",
       "    }\n",
       "\n",
       "    .dataframe thead th {\n",
       "        text-align: right;\n",
       "    }\n",
       "</style>\n",
       "<table border=\"1\" class=\"dataframe\">\n",
       "  <thead>\n",
       "    <tr style=\"text-align: right;\">\n",
       "      <th></th>\n",
       "      <th>0</th>\n",
       "      <th>1</th>\n",
       "    </tr>\n",
       "  </thead>\n",
       "  <tbody>\n",
       "    <tr>\n",
       "      <th>0</th>\n",
       "      <td>Alex</td>\n",
       "      <td>10</td>\n",
       "    </tr>\n",
       "    <tr>\n",
       "      <th>1</th>\n",
       "      <td>Bob</td>\n",
       "      <td>12</td>\n",
       "    </tr>\n",
       "    <tr>\n",
       "      <th>2</th>\n",
       "      <td>clarke</td>\n",
       "      <td>13</td>\n",
       "    </tr>\n",
       "  </tbody>\n",
       "</table>\n",
       "</div>"
      ],
      "text/plain": [
       "        0   1\n",
       "0    Alex  10\n",
       "1     Bob  12\n",
       "2  clarke  13"
      ]
     },
     "execution_count": 3,
     "metadata": {},
     "output_type": "execute_result"
    }
   ],
   "source": [
    "data=[['Alex',10],['Bob',12],['clarke',13]]\n",
    "df= pd.DataFrame(data)\n",
    "df"
   ]
  },
  {
   "cell_type": "code",
   "execution_count": 4,
   "metadata": {},
   "outputs": [
    {
     "name": "stdout",
     "output_type": "stream",
     "text": [
      "     Name  Age\n",
      "0    Alex   10\n",
      "1     Bob   12\n",
      "2  clarke   13\n"
     ]
    }
   ],
   "source": [
    "# by this operation pd.DataFrame(data, coloumns=[a,b,c,...]) we can give coloumns in pandas dataframe.\n",
    "\n",
    "data=[['Alex',10],['Bob',12],['clarke',13]]\n",
    "df= pd.DataFrame(data,columns=['Name','Age'])\n",
    "print (df)"
   ]
  },
  {
   "cell_type": "code",
   "execution_count": 5,
   "metadata": {},
   "outputs": [
    {
     "name": "stdout",
     "output_type": "stream",
     "text": [
      "     Name   Age\n",
      "0    Alex  10.0\n",
      "1     Bob  12.0\n",
      "2  clarke  13.0\n"
     ]
    }
   ],
   "source": [
    "# by this operation pd.DataFrame(data, coloumns=[a,b,c],dtype=float....datatypenames) we can change data type in pandas dataframe.\n",
    "\n",
    "data=[['Alex',10],['Bob',12],['clarke',13]]\n",
    "df= pd.DataFrame(data,columns=['Name','Age'],dtype=float)\n",
    "print (df)"
   ]
  },
  {
   "cell_type": "code",
   "execution_count": 6,
   "metadata": {},
   "outputs": [
    {
     "name": "stdout",
     "output_type": "stream",
     "text": [
      "    Name  Age\n",
      "0    Tom   28\n",
      "1   Jack   34\n",
      "2  Steve   29\n",
      "3  Ricky   42\n"
     ]
    }
   ],
   "source": [
    "#Creating ditionary elements:-\n",
    "#Keys(name and age) are acting as coloumns names ,Values are in the lists. \n",
    "\n",
    "data ={'Name': ['Tom','Jack','Steve','Ricky'],'Age':[28,34,29,42]}\n",
    "df = pd.DataFrame(data)\n",
    "print(df)"
   ]
  },
  {
   "cell_type": "code",
   "execution_count": null,
   "metadata": {},
   "outputs": [],
   "source": []
  },
  {
   "cell_type": "code",
   "execution_count": 7,
   "metadata": {
    "scrolled": true
   },
   "outputs": [
    {
     "name": "stdout",
     "output_type": "stream",
     "text": [
      "     a     b     c\n",
      "0  1.0   2.0   NaN\n",
      "1  5.0  10.0  20.0\n"
     ]
    }
   ],
   "source": [
    "#Note observe , NaN (not a Number) is append in missing areas.\n",
    "#here missing data is c in list which is nan value.\n",
    "\n",
    "data = [{'a':1,'b':2},{'a':5,'b':10, 'c': 20}]\n",
    "df =pd.DataFrame(data,dtype=float)\n",
    "print(df)\n"
   ]
  },
  {
   "cell_type": "code",
   "execution_count": 8,
   "metadata": {},
   "outputs": [
    {
     "name": "stdout",
     "output_type": "stream",
     "text": [
      "        a   b     c\n",
      "first   1   2   NaN\n",
      "second  5  10  20.0\n"
     ]
    }
   ],
   "source": [
    "# By defalt index is automatically generated byu by indexing parameter we can give index value.\n",
    "\n",
    "\n",
    "import pandas as pd \n",
    "data = [ {'a':1,'b':2},{'a':5,'b':10,'c':20}]\n",
    "df = pd.DataFrame(data,index = ['first','second'])\n",
    "print(df)"
   ]
  },
  {
   "cell_type": "markdown",
   "metadata": {},
   "source": [
    "Pandas DataFrame has the four atributes/parameter:-\n",
    "    \n",
    "* Data    :- Data is a actual Data.\n",
    "* Coulmns :- Columns gives the values of columns name.\n",
    "* index   :- Index is gives the Values of rows name.\n",
    "* dtype   :- dtype parameter is use to change the  \n",
    "\n",
    "* pd.Dataframe(data,index=[...],columns=[],dtype)"
   ]
  },
  {
   "cell_type": "code",
   "execution_count": 9,
   "metadata": {},
   "outputs": [
    {
     "name": "stdout",
     "output_type": "stream",
     "text": [
      "        a   b     c\n",
      "first   1   2   NaN\n",
      "second  5  10  20.0\n",
      "\n",
      "\n",
      "        a  b1\n",
      "first   1 NaN\n",
      "seconf  5 NaN\n"
     ]
    }
   ],
   "source": [
    "#The point is her we are having coloums names are  present so we can select the perticular columns name need to be display.\n",
    "\n",
    "import pandas as pd \n",
    "data = [{'a':1,'b':2},{'a':5,'b':10,'c':20}]\n",
    "#with two coloumn indices,value same as dictionary keys\n",
    "df1 = pd.DataFrame(data,index=['first','second'],columns=['a','b'])\n",
    "\n",
    "#With two columns indices with one with other name\n",
    "df2 = pd.DataFrame(data,index=['first','seconf'],columns=['a','b1'])\n",
    "print (df)\n",
    "print (\"\\n\")\n",
    "print (df2)"
   ]
  },
  {
   "cell_type": "code",
   "execution_count": 10,
   "metadata": {},
   "outputs": [
    {
     "name": "stdout",
     "output_type": "stream",
     "text": [
      "   a  b\n",
      "0  1  2\n",
      "1  3  4\n",
      "0  5  6\n",
      "1  7  8\n"
     ]
    }
   ],
   "source": [
    "#Addition of Row \n",
    "#Add new rows to dataframe using the function,This function will append the rows at the rows at the end.\n",
    "df1 = pd.DataFrame([[1,2],[3,4]],columns =['a','b'])\n",
    "df2 = pd.DataFrame([[5,6],[7,8]],columns =['a','b'])\n",
    "\n",
    "df3 = df1.append(df2)\n",
    "print (df3)"
   ]
  },
  {
   "cell_type": "markdown",
   "metadata": {},
   "source": [
    "* loc() pandas provide various method to have purely label indexing. "
   ]
  },
  {
   "cell_type": "markdown",
   "metadata": {},
   "source": [
    "* Indexing and slicing in pandas :-\n",
    "    * there is two function:-\n",
    "        * loc :- (lacation based ),it take the the data along with the names of the coloumns and rows ex - means df.loc[['Indexname1','Indexname2'],[labelA,labelB]] as location will take label only ,it will not work with indexing in numeric format.it will work with by index name.\n",
    "            \n",
    "        * iloc :- (index location based),it will take data along with the indexing location. ex - means  df.iloc[Start Row index : End Row index , Start Columns index : End Coloumns index] ] here puting range in numerical index value and here also  exclusive method working  while taking range."
   ]
  },
  {
   "cell_type": "code",
   "execution_count": 11,
   "metadata": {},
   "outputs": [
    {
     "data": {
      "text/html": [
       "<div>\n",
       "<style scoped>\n",
       "    .dataframe tbody tr th:only-of-type {\n",
       "        vertical-align: middle;\n",
       "    }\n",
       "\n",
       "    .dataframe tbody tr th {\n",
       "        vertical-align: top;\n",
       "    }\n",
       "\n",
       "    .dataframe thead th {\n",
       "        text-align: right;\n",
       "    }\n",
       "</style>\n",
       "<table border=\"1\" class=\"dataframe\">\n",
       "  <thead>\n",
       "    <tr style=\"text-align: right;\">\n",
       "      <th></th>\n",
       "      <th>A</th>\n",
       "      <th>B</th>\n",
       "      <th>C</th>\n",
       "      <th>D</th>\n",
       "    </tr>\n",
       "  </thead>\n",
       "  <tbody>\n",
       "    <tr>\n",
       "      <th>0</th>\n",
       "      <td>0.925106</td>\n",
       "      <td>-0.744047</td>\n",
       "      <td>-0.564452</td>\n",
       "      <td>-0.922898</td>\n",
       "    </tr>\n",
       "    <tr>\n",
       "      <th>1</th>\n",
       "      <td>0.413222</td>\n",
       "      <td>1.338799</td>\n",
       "      <td>-0.266722</td>\n",
       "      <td>-0.460358</td>\n",
       "    </tr>\n",
       "    <tr>\n",
       "      <th>2</th>\n",
       "      <td>-2.105345</td>\n",
       "      <td>0.144985</td>\n",
       "      <td>1.463833</td>\n",
       "      <td>1.521425</td>\n",
       "    </tr>\n",
       "    <tr>\n",
       "      <th>3</th>\n",
       "      <td>-0.091076</td>\n",
       "      <td>0.874914</td>\n",
       "      <td>-0.713972</td>\n",
       "      <td>-3.113983</td>\n",
       "    </tr>\n",
       "    <tr>\n",
       "      <th>4</th>\n",
       "      <td>-0.242777</td>\n",
       "      <td>-0.976208</td>\n",
       "      <td>1.653315</td>\n",
       "      <td>-0.482101</td>\n",
       "    </tr>\n",
       "    <tr>\n",
       "      <th>5</th>\n",
       "      <td>-0.884882</td>\n",
       "      <td>-0.549838</td>\n",
       "      <td>-0.440001</td>\n",
       "      <td>0.899728</td>\n",
       "    </tr>\n",
       "    <tr>\n",
       "      <th>6</th>\n",
       "      <td>1.002186</td>\n",
       "      <td>-1.202537</td>\n",
       "      <td>-0.658965</td>\n",
       "      <td>1.204410</td>\n",
       "    </tr>\n",
       "    <tr>\n",
       "      <th>7</th>\n",
       "      <td>0.367837</td>\n",
       "      <td>-0.295879</td>\n",
       "      <td>-0.478409</td>\n",
       "      <td>2.240228</td>\n",
       "    </tr>\n",
       "  </tbody>\n",
       "</table>\n",
       "</div>"
      ],
      "text/plain": [
       "          A         B         C         D\n",
       "0  0.925106 -0.744047 -0.564452 -0.922898\n",
       "1  0.413222  1.338799 -0.266722 -0.460358\n",
       "2 -2.105345  0.144985  1.463833  1.521425\n",
       "3 -0.091076  0.874914 -0.713972 -3.113983\n",
       "4 -0.242777 -0.976208  1.653315 -0.482101\n",
       "5 -0.884882 -0.549838 -0.440001  0.899728\n",
       "6  1.002186 -1.202537 -0.658965  1.204410\n",
       "7  0.367837 -0.295879 -0.478409  2.240228"
      ]
     },
     "execution_count": 11,
     "metadata": {},
     "output_type": "execute_result"
    }
   ],
   "source": [
    "#df=pd.DataFrame(np.random(8,4),index=[a','b','c','d','f','g','h'],columns=['A','B','C','D'])\n",
    "#df\n",
    "#here we are generating randon numbers by .randn function.\n",
    "\n",
    "import numpy as np\n",
    "import pandas as pd\n",
    "df=pd.DataFrame(np.random.randn(8,4),columns=['A','B','C','D'])\n",
    "df\n"
   ]
  },
  {
   "cell_type": "code",
   "execution_count": 12,
   "metadata": {},
   "outputs": [
    {
     "name": "stdout",
     "output_type": "stream",
     "text": [
      "0    0.925106\n",
      "1    0.413222\n",
      "2   -2.105345\n",
      "3   -0.091076\n",
      "4   -0.242777\n",
      "5   -0.884882\n",
      "6    1.002186\n",
      "7    0.367837\n",
      "Name: A, dtype: float64\n"
     ]
    }
   ],
   "source": [
    "#loc(location based) function showing all the with A columns :-\n",
    "print(df.loc[:,'A'])"
   ]
  },
  {
   "cell_type": "markdown",
   "metadata": {},
   "source": [
    "* df.loc[['Indexname1','Indexname2'],[labelA,labelB]] as location will take label only ,it will not work with indexing in numeric format."
   ]
  },
  {
   "cell_type": "code",
   "execution_count": 13,
   "metadata": {
    "scrolled": true
   },
   "outputs": [
    {
     "name": "stdout",
     "output_type": "stream",
     "text": [
      "          A         B\n",
      "0  0.925106 -0.744047\n",
      "1  0.413222  1.338799\n",
      "2 -2.105345  0.144985\n",
      "3 -0.091076  0.874914\n",
      "4 -0.242777 -0.976208\n",
      "5 -0.884882 -0.549838\n",
      "6  1.002186 -1.202537\n",
      "7  0.367837 -0.295879\n"
     ]
    }
   ],
   "source": [
    "print(df.loc[:,['A','B']])"
   ]
  },
  {
   "cell_type": "markdown",
   "metadata": {},
   "source": [
    "* .iloc()pandas provide various method in order to get puerly integer based indexing.like python and numpy,these are 0-based indexing."
   ]
  },
  {
   "cell_type": "code",
   "execution_count": 14,
   "metadata": {},
   "outputs": [
    {
     "name": "stdout",
     "output_type": "stream",
     "text": [
      "          A         B         C         D\n",
      "0  0.406382 -0.217467 -0.269048  0.458665\n",
      "1  0.311206 -0.446293 -0.221285 -1.133789\n",
      "2 -0.235293  1.748046  0.686812 -0.829915\n",
      "3  0.780691  1.416782 -0.118403  0.836694\n",
      "4  1.090380 -0.374352  0.742373  0.253070\n",
      "5  0.626024 -2.390037  1.307264 -0.110577\n",
      "6 -0.277307 -0.211243  0.520321  1.247189\n",
      "7 -0.617581  0.490372 -0.113893  0.991640\n"
     ]
    }
   ],
   "source": [
    "df=pd.DataFrame(np.random.randn(8,4),columns=['A','B','C','D'])\n",
    "print(df)"
   ]
  },
  {
   "cell_type": "code",
   "execution_count": 15,
   "metadata": {},
   "outputs": [
    {
     "name": "stdout",
     "output_type": "stream",
     "text": [
      "          A         B         C         D\n",
      "0  0.406382 -0.217467 -0.269048  0.458665\n",
      "1  0.311206 -0.446293 -0.221285 -1.133789\n",
      "2 -0.235293  1.748046  0.686812 -0.829915\n",
      "3  0.780691  1.416782 -0.118403  0.836694\n"
     ]
    }
   ],
   "source": [
    "#iloc(index location based)\n",
    "\n",
    "print(df.iloc[:4,:])"
   ]
  },
  {
   "cell_type": "code",
   "execution_count": 16,
   "metadata": {},
   "outputs": [
    {
     "name": "stdout",
     "output_type": "stream",
     "text": [
      "0    0.406382\n",
      "1    0.311206\n",
      "2   -0.235293\n",
      "3    0.780691\n",
      "4    1.090380\n",
      "5    0.626024\n",
      "6   -0.277307\n",
      "7   -0.617581\n",
      "Name: A, dtype: float64\n"
     ]
    }
   ],
   "source": [
    "print(df.iloc[:,0])"
   ]
  },
  {
   "cell_type": "code",
   "execution_count": 17,
   "metadata": {},
   "outputs": [
    {
     "name": "stdout",
     "output_type": "stream",
     "text": [
      "0   -0.269048\n",
      "1   -0.221285\n",
      "2    0.686812\n",
      "3   -0.118403\n",
      "4    0.742373\n",
      "5    1.307264\n",
      "6    0.520321\n",
      "7   -0.113893\n",
      "Name: C, dtype: float64\n"
     ]
    }
   ],
   "source": [
    "print(df.iloc[:,2])"
   ]
  },
  {
   "cell_type": "code",
   "execution_count": 18,
   "metadata": {
    "scrolled": true
   },
   "outputs": [
    {
     "name": "stdout",
     "output_type": "stream",
     "text": [
      "1   -0.446293\n",
      "2    1.748046\n",
      "3    1.416782\n",
      "4   -0.374352\n",
      "Name: B, dtype: float64\n"
     ]
    }
   ],
   "source": [
    "print(df.iloc[1:5,1])"
   ]
  },
  {
   "cell_type": "markdown",
   "metadata": {},
   "source": [
    "* df.iloc[Start Row index : End Row index , Start Columns index : End Coloumns index] ]"
   ]
  },
  {
   "cell_type": "code",
   "execution_count": 19,
   "metadata": {},
   "outputs": [
    {
     "data": {
      "text/html": [
       "<div>\n",
       "<style scoped>\n",
       "    .dataframe tbody tr th:only-of-type {\n",
       "        vertical-align: middle;\n",
       "    }\n",
       "\n",
       "    .dataframe tbody tr th {\n",
       "        vertical-align: top;\n",
       "    }\n",
       "\n",
       "    .dataframe thead th {\n",
       "        text-align: right;\n",
       "    }\n",
       "</style>\n",
       "<table border=\"1\" class=\"dataframe\">\n",
       "  <thead>\n",
       "    <tr style=\"text-align: right;\">\n",
       "      <th></th>\n",
       "      <th>A</th>\n",
       "      <th>B</th>\n",
       "      <th>C</th>\n",
       "      <th>D</th>\n",
       "    </tr>\n",
       "  </thead>\n",
       "  <tbody>\n",
       "    <tr>\n",
       "      <th>0</th>\n",
       "      <td>0.406382</td>\n",
       "      <td>-0.217467</td>\n",
       "      <td>-0.269048</td>\n",
       "      <td>0.458665</td>\n",
       "    </tr>\n",
       "    <tr>\n",
       "      <th>1</th>\n",
       "      <td>0.311206</td>\n",
       "      <td>-0.446293</td>\n",
       "      <td>-0.221285</td>\n",
       "      <td>-1.133789</td>\n",
       "    </tr>\n",
       "    <tr>\n",
       "      <th>2</th>\n",
       "      <td>-0.235293</td>\n",
       "      <td>1.748046</td>\n",
       "      <td>0.686812</td>\n",
       "      <td>-0.829915</td>\n",
       "    </tr>\n",
       "    <tr>\n",
       "      <th>3</th>\n",
       "      <td>0.780691</td>\n",
       "      <td>1.416782</td>\n",
       "      <td>-0.118403</td>\n",
       "      <td>0.836694</td>\n",
       "    </tr>\n",
       "    <tr>\n",
       "      <th>4</th>\n",
       "      <td>1.090380</td>\n",
       "      <td>-0.374352</td>\n",
       "      <td>0.742373</td>\n",
       "      <td>0.253070</td>\n",
       "    </tr>\n",
       "    <tr>\n",
       "      <th>5</th>\n",
       "      <td>0.626024</td>\n",
       "      <td>-2.390037</td>\n",
       "      <td>1.307264</td>\n",
       "      <td>-0.110577</td>\n",
       "    </tr>\n",
       "    <tr>\n",
       "      <th>6</th>\n",
       "      <td>-0.277307</td>\n",
       "      <td>-0.211243</td>\n",
       "      <td>0.520321</td>\n",
       "      <td>1.247189</td>\n",
       "    </tr>\n",
       "    <tr>\n",
       "      <th>7</th>\n",
       "      <td>-0.617581</td>\n",
       "      <td>0.490372</td>\n",
       "      <td>-0.113893</td>\n",
       "      <td>0.991640</td>\n",
       "    </tr>\n",
       "  </tbody>\n",
       "</table>\n",
       "</div>"
      ],
      "text/plain": [
       "          A         B         C         D\n",
       "0  0.406382 -0.217467 -0.269048  0.458665\n",
       "1  0.311206 -0.446293 -0.221285 -1.133789\n",
       "2 -0.235293  1.748046  0.686812 -0.829915\n",
       "3  0.780691  1.416782 -0.118403  0.836694\n",
       "4  1.090380 -0.374352  0.742373  0.253070\n",
       "5  0.626024 -2.390037  1.307264 -0.110577\n",
       "6 -0.277307 -0.211243  0.520321  1.247189\n",
       "7 -0.617581  0.490372 -0.113893  0.991640"
      ]
     },
     "execution_count": 19,
     "metadata": {},
     "output_type": "execute_result"
    }
   ],
   "source": [
    "df"
   ]
  },
  {
   "cell_type": "code",
   "execution_count": 20,
   "metadata": {},
   "outputs": [
    {
     "name": "stdout",
     "output_type": "stream",
     "text": [
      "          C         D\n",
      "1 -0.221285 -1.133789\n",
      "2  0.686812 -0.829915\n",
      "3 -0.118403  0.836694\n",
      "4  0.742373  0.253070\n"
     ]
    }
   ],
   "source": [
    "print(df.iloc[1:5,2:4]) #4is exclusive here"
   ]
  },
  {
   "cell_type": "code",
   "execution_count": 21,
   "metadata": {},
   "outputs": [
    {
     "name": "stdout",
     "output_type": "stream",
     "text": [
      "          A         B         C         D\n",
      "1  0.311206 -0.446293 -0.221285 -1.133789\n",
      "2 -0.235293  1.748046  0.686812 -0.829915\n",
      "          B         C\n",
      "0 -0.217467 -0.269048\n",
      "1 -0.446293 -0.221285\n",
      "2  1.748046  0.686812\n",
      "3  1.416782 -0.118403\n",
      "4 -0.374352  0.742373\n",
      "5 -2.390037  1.307264\n",
      "6 -0.211243  0.520321\n",
      "7  0.490372 -0.113893\n"
     ]
    }
   ],
   "source": [
    "print(df.iloc[1:3,:])\n",
    "print(df.iloc[:,1:3])"
   ]
  },
  {
   "cell_type": "code",
   "execution_count": 22,
   "metadata": {},
   "outputs": [
    {
     "name": "stdout",
     "output_type": "stream",
     "text": [
      "0    0.458665\n",
      "1   -1.133789\n",
      "2   -0.829915\n",
      "3    0.836694\n",
      "4    0.253070\n",
      "5   -0.110577\n",
      "6    1.247189\n",
      "7    0.991640\n",
      "Name: D, dtype: float64\n"
     ]
    }
   ],
   "source": [
    "#Negative indexing\n",
    "print(df.iloc[:,-1])"
   ]
  },
  {
   "cell_type": "code",
   "execution_count": 23,
   "metadata": {},
   "outputs": [
    {
     "data": {
      "text/html": [
       "<div>\n",
       "<style scoped>\n",
       "    .dataframe tbody tr th:only-of-type {\n",
       "        vertical-align: middle;\n",
       "    }\n",
       "\n",
       "    .dataframe tbody tr th {\n",
       "        vertical-align: top;\n",
       "    }\n",
       "\n",
       "    .dataframe thead th {\n",
       "        text-align: right;\n",
       "    }\n",
       "</style>\n",
       "<table border=\"1\" class=\"dataframe\">\n",
       "  <thead>\n",
       "    <tr style=\"text-align: right;\">\n",
       "      <th></th>\n",
       "      <th>A</th>\n",
       "      <th>B</th>\n",
       "      <th>C</th>\n",
       "      <th>D</th>\n",
       "    </tr>\n",
       "  </thead>\n",
       "  <tbody>\n",
       "    <tr>\n",
       "      <th>0</th>\n",
       "      <td>0.406382</td>\n",
       "      <td>-0.217467</td>\n",
       "      <td>-0.269048</td>\n",
       "      <td>0.458665</td>\n",
       "    </tr>\n",
       "    <tr>\n",
       "      <th>1</th>\n",
       "      <td>0.311206</td>\n",
       "      <td>-0.446293</td>\n",
       "      <td>-0.221285</td>\n",
       "      <td>-1.133789</td>\n",
       "    </tr>\n",
       "    <tr>\n",
       "      <th>2</th>\n",
       "      <td>-0.235293</td>\n",
       "      <td>1.748046</td>\n",
       "      <td>0.686812</td>\n",
       "      <td>-0.829915</td>\n",
       "    </tr>\n",
       "    <tr>\n",
       "      <th>3</th>\n",
       "      <td>0.780691</td>\n",
       "      <td>1.416782</td>\n",
       "      <td>-0.118403</td>\n",
       "      <td>0.836694</td>\n",
       "    </tr>\n",
       "    <tr>\n",
       "      <th>4</th>\n",
       "      <td>1.090380</td>\n",
       "      <td>-0.374352</td>\n",
       "      <td>0.742373</td>\n",
       "      <td>0.253070</td>\n",
       "    </tr>\n",
       "    <tr>\n",
       "      <th>5</th>\n",
       "      <td>0.626024</td>\n",
       "      <td>-2.390037</td>\n",
       "      <td>1.307264</td>\n",
       "      <td>-0.110577</td>\n",
       "    </tr>\n",
       "    <tr>\n",
       "      <th>6</th>\n",
       "      <td>-0.277307</td>\n",
       "      <td>-0.211243</td>\n",
       "      <td>0.520321</td>\n",
       "      <td>1.247189</td>\n",
       "    </tr>\n",
       "    <tr>\n",
       "      <th>7</th>\n",
       "      <td>-0.617581</td>\n",
       "      <td>0.490372</td>\n",
       "      <td>-0.113893</td>\n",
       "      <td>0.991640</td>\n",
       "    </tr>\n",
       "  </tbody>\n",
       "</table>\n",
       "</div>"
      ],
      "text/plain": [
       "          A         B         C         D\n",
       "0  0.406382 -0.217467 -0.269048  0.458665\n",
       "1  0.311206 -0.446293 -0.221285 -1.133789\n",
       "2 -0.235293  1.748046  0.686812 -0.829915\n",
       "3  0.780691  1.416782 -0.118403  0.836694\n",
       "4  1.090380 -0.374352  0.742373  0.253070\n",
       "5  0.626024 -2.390037  1.307264 -0.110577\n",
       "6 -0.277307 -0.211243  0.520321  1.247189\n",
       "7 -0.617581  0.490372 -0.113893  0.991640"
      ]
     },
     "execution_count": 23,
     "metadata": {},
     "output_type": "execute_result"
    }
   ],
   "source": [
    "df"
   ]
  },
  {
   "cell_type": "code",
   "execution_count": 24,
   "metadata": {},
   "outputs": [
    {
     "name": "stdout",
     "output_type": "stream",
     "text": [
      "0   -0.217467\n",
      "1   -0.446293\n",
      "2    1.748046\n",
      "3    1.416782\n",
      "4   -0.374352\n",
      "5   -2.390037\n",
      "6   -0.211243\n",
      "7    0.490372\n",
      "Name: B, dtype: float64\n"
     ]
    }
   ],
   "source": [
    "print(df.iloc[:,-3])"
   ]
  },
  {
   "cell_type": "code",
   "execution_count": 25,
   "metadata": {},
   "outputs": [
    {
     "name": "stdout",
     "output_type": "stream",
     "text": [
      "          B\n",
      "0 -0.217467\n",
      "1 -0.446293\n",
      "2  1.748046\n",
      "3  1.416782\n",
      "4 -0.374352\n",
      "5 -2.390037\n",
      "6 -0.211243\n",
      "7  0.490372\n"
     ]
    }
   ],
   "source": [
    "print(df.iloc[:,-3:-2])"
   ]
  },
  {
   "cell_type": "code",
   "execution_count": 26,
   "metadata": {},
   "outputs": [],
   "source": [
    "#Negative indexing\n",
    "#do --df.iloc[2:6,-4:-2]\n",
    "#            [3:7,-3:-1]\n",
    "#             [:,-4:-1]\n",
    "#            [1:4,-4:]\n",
    "#Practice --do it now"
   ]
  },
  {
   "cell_type": "code",
   "execution_count": 27,
   "metadata": {},
   "outputs": [
    {
     "name": "stdout",
     "output_type": "stream",
     "text": [
      "          A         B\n",
      "2 -0.235293  1.748046\n",
      "3  0.780691  1.416782\n",
      "4  1.090380 -0.374352\n",
      "5  0.626024 -2.390037\n"
     ]
    }
   ],
   "source": [
    "print(df.iloc[2:6,-4:-2])"
   ]
  },
  {
   "cell_type": "code",
   "execution_count": 28,
   "metadata": {},
   "outputs": [
    {
     "name": "stdout",
     "output_type": "stream",
     "text": [
      "          B         C\n",
      "3  1.416782 -0.118403\n",
      "4 -0.374352  0.742373\n",
      "5 -2.390037  1.307264\n",
      "6 -0.211243  0.520321\n"
     ]
    }
   ],
   "source": [
    "print(df.iloc[3:7,-3:-1])"
   ]
  },
  {
   "cell_type": "code",
   "execution_count": 29,
   "metadata": {},
   "outputs": [
    {
     "name": "stdout",
     "output_type": "stream",
     "text": [
      "          A         B         C\n",
      "0  0.406382 -0.217467 -0.269048\n",
      "1  0.311206 -0.446293 -0.221285\n",
      "2 -0.235293  1.748046  0.686812\n",
      "3  0.780691  1.416782 -0.118403\n",
      "4  1.090380 -0.374352  0.742373\n",
      "5  0.626024 -2.390037  1.307264\n",
      "6 -0.277307 -0.211243  0.520321\n",
      "7 -0.617581  0.490372 -0.113893\n"
     ]
    }
   ],
   "source": [
    "print(df.iloc[:,-4:-1])"
   ]
  },
  {
   "cell_type": "code",
   "execution_count": 30,
   "metadata": {},
   "outputs": [
    {
     "name": "stdout",
     "output_type": "stream",
     "text": [
      "          A         B         C         D\n",
      "1  0.311206 -0.446293 -0.221285 -1.133789\n",
      "2 -0.235293  1.748046  0.686812 -0.829915\n",
      "3  0.780691  1.416782 -0.118403  0.836694\n"
     ]
    }
   ],
   "source": [
    "print(df.iloc[1:4,-4:])"
   ]
  },
  {
   "cell_type": "markdown",
   "metadata": {},
   "source": [
    "# Pandas Visuliazation :-"
   ]
  },
  {
   "cell_type": "markdown",
   "metadata": {},
   "source": [
    "* These method can be provided as the kind keyword argument to plot(). These include :-\n",
    "    \n",
    "    * Bar or barh for bar plots\n",
    "    * Hist for histogram\n",
    "    * Box for box plot\n",
    "    * 'Area' for area plots\n",
    "    * 'Scatter' for scatter plots "
   ]
  },
  {
   "cell_type": "code",
   "execution_count": 31,
   "metadata": {},
   "outputs": [
    {
     "name": "stdout",
     "output_type": "stream",
     "text": [
      "          a         b         c         d\n",
      "0  0.245126  0.452679  0.835745  0.239930\n",
      "1  0.664011  0.079953  0.533664  0.358118\n",
      "2  0.412644  0.901556  0.290885  0.510029\n",
      "3  0.714449  0.196036  0.505475  0.280505\n",
      "4  0.790298  0.089519  0.867436  0.338901\n",
      "5  0.842375  0.989217  0.789086  0.703422\n",
      "6  0.147939  0.335493  0.732861  0.298565\n",
      "7  0.062200  0.969515  0.888266  0.231481\n",
      "8  0.936421  0.082671  0.584996  0.530338\n",
      "9  0.892769  0.166712  0.861135  0.397497\n"
     ]
    },
    {
     "data": {
      "text/plain": [
       "<matplotlib.axes._subplots.AxesSubplot at 0x2212e6f5550>"
      ]
     },
     "execution_count": 31,
     "metadata": {},
     "output_type": "execute_result"
    },
    {
     "data": {
      "image/png": "[encoded data removed]",
      "text/plain": [
       "<Figure size 432x288 with 1 Axes>"
      ]
     },
     "metadata": {
      "needs_background": "light"
     },
     "output_type": "display_data"
    }
   ],
   "source": [
    "#Bar plots\n",
    "import pandas as pd\n",
    "import numpy as np \n",
    "df=pd.DataFrame(np.random.rand(10,4),columns=['a','b','c','d'])\n",
    "print(df)\n",
    "df.plot.bar() #inside the dataframe plot.bar method to show data ploted in bar representation.\n",
    "#Here all rows Data is ploting along with its indexing value of row. ex indexing row 0th represent all the details of 0th row and colour code represent all the colmns data."
   ]
  },
  {
   "cell_type": "code",
   "execution_count": 32,
   "metadata": {
    "scrolled": true
   },
   "outputs": [
    {
     "data": {
      "text/plain": [
       "<matplotlib.axes._subplots.AxesSubplot at 0x2212eedca00>"
      ]
     },
     "execution_count": 32,
     "metadata": {},
     "output_type": "execute_result"
    },
    {
     "data": {
      "image/png": "[encoded data removed]",
      "text/plain": [
       "<Figure size 432x288 with 1 Axes>"
      ]
     },
     "metadata": {
      "needs_background": "light"
     },
     "output_type": "display_data"
    }
   ],
   "source": [
    "#Stacked operation :- (stacked = true) but by default it is false.\n",
    "import pandas as pd\n",
    "df=pd.DataFrame(np.random.rand(10,4),columns=['a','b','c','d'])\n",
    "df.plot.bar(stacked = True)"
   ]
  },
  {
   "cell_type": "code",
   "execution_count": 33,
   "metadata": {},
   "outputs": [
    {
     "data": {
      "text/plain": [
       "<matplotlib.axes._subplots.AxesSubplot at 0x2212f005340>"
      ]
     },
     "execution_count": 33,
     "metadata": {},
     "output_type": "execute_result"
    },
    {
     "data": {
      "image/png": "[encoded data removed]",
      "text/plain": [
       "<Figure size 432x288 with 1 Axes>"
      ]
     },
     "metadata": {
      "needs_background": "light"
     },
     "output_type": "display_data"
    }
   ],
   "source": [
    "#Stacked operation :-To get horizontal bar plots, use the barh method :-\n",
    "#by default here into the vertical way so by appling operation to show in horozontal way.\n",
    "df=pd.DataFrame(np.random.rand(10,4),columns=['a','b','c','d'])\n",
    "df.plot.barh(stacked = True)"
   ]
  },
  {
   "cell_type": "markdown",
   "metadata": {},
   "source": [
    "* Box plots canbe drawn calling method Series.box.plot() and DataFrame.box.plot, or DataFrame.boxplot() to visulize the distribution of value within each column.\n",
    "\n",
    "* For instance, here is boxplot representing five trials of 10 observations of uniform random variable on [0,1]"
   ]
  },
  {
   "cell_type": "code",
   "execution_count": 34,
   "metadata": {},
   "outputs": [
    {
     "data": {
      "text/plain": [
       "<matplotlib.axes._subplots.AxesSubplot at 0x2212f0d34c0>"
      ]
     },
     "execution_count": 34,
     "metadata": {},
     "output_type": "execute_result"
    },
    {
     "data": {
      "image/png": "[encoded data removed]",
      "text/plain": [
       "<Figure size 432x288 with 1 Axes>"
      ]
     },
     "metadata": {
      "needs_background": "light"
     },
     "output_type": "display_data"
    }
   ],
   "source": [
    "# box plot :- box plot  gives minmum and maximum value are rpresented of that perticular coloumn. \n",
    "\n",
    "df=pd.DataFrame(np.random.rand(10,5),columns=['a','b','c','d','e'])\n",
    "df.plot.box()"
   ]
  },
  {
   "cell_type": "markdown",
   "metadata": {},
   "source": [
    "* Area plot :-\n",
    "    \n",
    "    * Area plot create using the Series.plot.area() or DataFrame.plot.area() method."
   ]
  },
  {
   "cell_type": "code",
   "execution_count": 35,
   "metadata": {},
   "outputs": [
    {
     "data": {
      "text/plain": [
       "<matplotlib.axes._subplots.AxesSubplot at 0x2212f1a9460>"
      ]
     },
     "execution_count": 35,
     "metadata": {},
     "output_type": "execute_result"
    },
    {
     "data": {
      "image/png": "[encoded data removed]",
      "text/plain": [
       "<Figure size 432x288 with 1 Axes>"
      ]
     },
     "metadata": {
      "needs_background": "light"
     },
     "output_type": "display_data"
    }
   ],
   "source": [
    "df=pd.DataFrame(np.random.rand(10,4),columns=['a','b','c','d'])\n",
    "df.plot.area()"
   ]
  },
  {
   "cell_type": "markdown",
   "metadata": {},
   "source": [
    "* Scatter Plot :-\n",
    "    * Scatter plot ca be created using DataFrame.plot.scatter() methods."
   ]
  },
  {
   "cell_type": "code",
   "execution_count": 36,
   "metadata": {},
   "outputs": [
    {
     "data": {
      "text/plain": [
       "<matplotlib.axes._subplots.AxesSubplot at 0x2212f2692e0>"
      ]
     },
     "execution_count": 36,
     "metadata": {},
     "output_type": "execute_result"
    },
    {
     "data": {
      "image/png": "[encoded data removed]",
      "text/plain": [
       "<Figure size 432x288 with 1 Axes>"
      ]
     },
     "metadata": {
      "needs_background": "light"
     },
     "output_type": "display_data"
    }
   ],
   "source": [
    "df=pd.DataFrame(np.random.rand(50,4),columns=['a','b','c','d'])\n",
    "df.plot.scatter(x='a',y='b')\n",
    "\n",
    "#whenever we ploting the scatter inside it will take  two columns in plot  x and y (like x,y axis math ) ex here we showing 'a' column data in 'x' and 'b' coloumn data in 'y.'\n",
    "#and it is taking data from a nd b columns and puting those value on to the plain.\n",
    "#and here  we taking a and b only not  c and d if take then it will showing in plot.\n",
    "#only  posibility here two dimension (x and y) can  plot.so we can take a or b otherwise c or d columns here."
   ]
  },
  {
   "cell_type": "markdown",
   "metadata": {},
   "source": [
    "# MERGE, CONCATENATION, JOIN AND APPEND OPERATION :-"
   ]
  },
  {
   "cell_type": "markdown",
   "metadata": {},
   "source": [
    "* sOME TIME WE HAVE MORE THAN ONE DATAFRAME SO WE CAN MERGE,CONCATENATE ETC BY APPLYING THESE PARAMETER TO DATAFRAME in pandas."
   ]
  },
  {
   "cell_type": "markdown",
   "metadata": {},
   "source": [
    "* WE CAN ADD,MERGE DATAFRAME'S DATA ALONG WITH COLOUMNS OR ROWS BY APPLYING MERGE CONCATE,APPEND ETC OPERATION IN PANDAS DATA FRAME. \n"
   ]
  },
  {
   "cell_type": "markdown",
   "metadata": {},
   "source": [
    "* INSIDE THE CONCATE IT DELIVER ME OPTION TO HOW I CONCATE ALONG WITH COLUMN OR ALONG WITH THE ROWS.\n",
    "* BY DEFAULT CONCATE HAS OPRATION ALONG WITH ROWS.\n",
    "* THERE IS AXIS PARAMETER INSIDE THE CONCATE.AXIS=0 IS DEFAULT MEANS BY DEFAULT ROWS OPERATION HERE."
   ]
  },
  {
   "cell_type": "code",
   "execution_count": 37,
   "metadata": {},
   "outputs": [],
   "source": [
    "import pandas as pd "
   ]
  },
  {
   "cell_type": "markdown",
   "metadata": {},
   "source": [
    "Create first dataframe :-"
   ]
  },
  {
   "cell_type": "code",
   "execution_count": 38,
   "metadata": {},
   "outputs": [
    {
     "data": {
      "text/html": [
       "<div>\n",
       "<style scoped>\n",
       "    .dataframe tbody tr th:only-of-type {\n",
       "        vertical-align: middle;\n",
       "    }\n",
       "\n",
       "    .dataframe tbody tr th {\n",
       "        vertical-align: top;\n",
       "    }\n",
       "\n",
       "    .dataframe thead th {\n",
       "        text-align: right;\n",
       "    }\n",
       "</style>\n",
       "<table border=\"1\" class=\"dataframe\">\n",
       "  <thead>\n",
       "    <tr style=\"text-align: right;\">\n",
       "      <th></th>\n",
       "      <th>subject_id</th>\n",
       "      <th>first_name</th>\n",
       "      <th>last_name</th>\n",
       "    </tr>\n",
       "  </thead>\n",
       "  <tbody>\n",
       "    <tr>\n",
       "      <th>0</th>\n",
       "      <td>1</td>\n",
       "      <td>Alex</td>\n",
       "      <td>Anderson</td>\n",
       "    </tr>\n",
       "    <tr>\n",
       "      <th>1</th>\n",
       "      <td>2</td>\n",
       "      <td>Amy</td>\n",
       "      <td>Ackerman</td>\n",
       "    </tr>\n",
       "    <tr>\n",
       "      <th>2</th>\n",
       "      <td>3</td>\n",
       "      <td>Allen</td>\n",
       "      <td>Ali</td>\n",
       "    </tr>\n",
       "    <tr>\n",
       "      <th>3</th>\n",
       "      <td>4</td>\n",
       "      <td>Alice</td>\n",
       "      <td>Aoni</td>\n",
       "    </tr>\n",
       "    <tr>\n",
       "      <th>4</th>\n",
       "      <td>5</td>\n",
       "      <td>Ayoung</td>\n",
       "      <td>Atiches</td>\n",
       "    </tr>\n",
       "  </tbody>\n",
       "</table>\n",
       "</div>"
      ],
      "text/plain": [
       "  subject_id first_name last_name\n",
       "0          1       Alex  Anderson\n",
       "1          2        Amy  Ackerman\n",
       "2          3      Allen       Ali\n",
       "3          4      Alice      Aoni\n",
       "4          5     Ayoung   Atiches"
      ]
     },
     "execution_count": 38,
     "metadata": {},
     "output_type": "execute_result"
    }
   ],
   "source": [
    "raw_data = {\n",
    "    'subject_id':['1','2','3','4','5'],\n",
    "    'first_name':['Alex','Amy','Allen','Alice','Ayoung'],\n",
    "    'last_name':['Anderson','Ackerman','Ali','Aoni','Atiches']}\n",
    "df_a=pd.DataFrame(raw_data,columns=['subject_id','first_name','last_name'])\n",
    "df_a\n",
    "\n",
    "#'first_name'and'last_name' value or sequence should be same or maintained otherwise we traping with error.\n",
    "#by default index value 0 t0 n number automatically generated."
   ]
  },
  {
   "cell_type": "markdown",
   "metadata": {},
   "source": [
    " Create a second dataframe:-"
   ]
  },
  {
   "cell_type": "code",
   "execution_count": 39,
   "metadata": {},
   "outputs": [
    {
     "data": {
      "text/html": [
       "<div>\n",
       "<style scoped>\n",
       "    .dataframe tbody tr th:only-of-type {\n",
       "        vertical-align: middle;\n",
       "    }\n",
       "\n",
       "    .dataframe tbody tr th {\n",
       "        vertical-align: top;\n",
       "    }\n",
       "\n",
       "    .dataframe thead th {\n",
       "        text-align: right;\n",
       "    }\n",
       "</style>\n",
       "<table border=\"1\" class=\"dataframe\">\n",
       "  <thead>\n",
       "    <tr style=\"text-align: right;\">\n",
       "      <th></th>\n",
       "      <th>subject_id</th>\n",
       "      <th>first_name</th>\n",
       "      <th>last_name</th>\n",
       "    </tr>\n",
       "  </thead>\n",
       "  <tbody>\n",
       "    <tr>\n",
       "      <th>0</th>\n",
       "      <td>4</td>\n",
       "      <td>Billy</td>\n",
       "      <td>Bonder</td>\n",
       "    </tr>\n",
       "    <tr>\n",
       "      <th>1</th>\n",
       "      <td>5</td>\n",
       "      <td>Brian</td>\n",
       "      <td>Black</td>\n",
       "    </tr>\n",
       "    <tr>\n",
       "      <th>2</th>\n",
       "      <td>6</td>\n",
       "      <td>Bran</td>\n",
       "      <td>Balwner</td>\n",
       "    </tr>\n",
       "    <tr>\n",
       "      <th>3</th>\n",
       "      <td>7</td>\n",
       "      <td>Bryce</td>\n",
       "      <td>Brice</td>\n",
       "    </tr>\n",
       "    <tr>\n",
       "      <th>4</th>\n",
       "      <td>8</td>\n",
       "      <td>Betty</td>\n",
       "      <td>Btisan</td>\n",
       "    </tr>\n",
       "  </tbody>\n",
       "</table>\n",
       "</div>"
      ],
      "text/plain": [
       "  subject_id first_name last_name\n",
       "0          4      Billy    Bonder\n",
       "1          5      Brian     Black\n",
       "2          6       Bran   Balwner\n",
       "3          7      Bryce     Brice\n",
       "4          8      Betty    Btisan"
      ]
     },
     "execution_count": 39,
     "metadata": {},
     "output_type": "execute_result"
    }
   ],
   "source": [
    "raw_data = {\n",
    "    'subject_id':['4','5','6','7','8'],\n",
    "    'first_name':['Billy','Brian','Bran','Bryce','Betty'],\n",
    "    'last_name':['Bonder','Black','Balwner','Brice','Btisan']}\n",
    "df_b=pd.DataFrame(raw_data,columns=['subject_id','first_name','last_name'])\n",
    "df_b"
   ]
  },
  {
   "cell_type": "markdown",
   "metadata": {},
   "source": [
    "Create a third dataframe:-"
   ]
  },
  {
   "cell_type": "code",
   "execution_count": 40,
   "metadata": {},
   "outputs": [
    {
     "data": {
      "text/html": [
       "<div>\n",
       "<style scoped>\n",
       "    .dataframe tbody tr th:only-of-type {\n",
       "        vertical-align: middle;\n",
       "    }\n",
       "\n",
       "    .dataframe tbody tr th {\n",
       "        vertical-align: top;\n",
       "    }\n",
       "\n",
       "    .dataframe thead th {\n",
       "        text-align: right;\n",
       "    }\n",
       "</style>\n",
       "<table border=\"1\" class=\"dataframe\">\n",
       "  <thead>\n",
       "    <tr style=\"text-align: right;\">\n",
       "      <th></th>\n",
       "      <th>subject_id</th>\n",
       "      <th>test_id</th>\n",
       "    </tr>\n",
       "  </thead>\n",
       "  <tbody>\n",
       "    <tr>\n",
       "      <th>0</th>\n",
       "      <td>1</td>\n",
       "      <td>51</td>\n",
       "    </tr>\n",
       "    <tr>\n",
       "      <th>1</th>\n",
       "      <td>2</td>\n",
       "      <td>15</td>\n",
       "    </tr>\n",
       "    <tr>\n",
       "      <th>2</th>\n",
       "      <td>3</td>\n",
       "      <td>15</td>\n",
       "    </tr>\n",
       "    <tr>\n",
       "      <th>3</th>\n",
       "      <td>4</td>\n",
       "      <td>61</td>\n",
       "    </tr>\n",
       "    <tr>\n",
       "      <th>4</th>\n",
       "      <td>5</td>\n",
       "      <td>16</td>\n",
       "    </tr>\n",
       "    <tr>\n",
       "      <th>5</th>\n",
       "      <td>6</td>\n",
       "      <td>14</td>\n",
       "    </tr>\n",
       "    <tr>\n",
       "      <th>6</th>\n",
       "      <td>7</td>\n",
       "      <td>15</td>\n",
       "    </tr>\n",
       "    <tr>\n",
       "      <th>7</th>\n",
       "      <td>8</td>\n",
       "      <td>1</td>\n",
       "    </tr>\n",
       "    <tr>\n",
       "      <th>8</th>\n",
       "      <td>9</td>\n",
       "      <td>61</td>\n",
       "    </tr>\n",
       "    <tr>\n",
       "      <th>9</th>\n",
       "      <td>10</td>\n",
       "      <td>16</td>\n",
       "    </tr>\n",
       "  </tbody>\n",
       "</table>\n",
       "</div>"
      ],
      "text/plain": [
       "  subject_id test_id\n",
       "0          1      51\n",
       "1          2      15\n",
       "2          3      15\n",
       "3          4      61\n",
       "4          5      16\n",
       "5          6      14\n",
       "6          7      15\n",
       "7          8       1\n",
       "8          9      61\n",
       "9         10      16"
      ]
     },
     "execution_count": 40,
     "metadata": {},
     "output_type": "execute_result"
    }
   ],
   "source": [
    "raw_data = {\n",
    "    'subject_id':['1','2','3','4','5','6','7','8','9','10'],\n",
    "    'test_id':['51','15','15','61','16','14','15','1','61','16']}\n",
    "df_n=pd.DataFrame(raw_data,columns=['subject_id','test_id'])\n",
    "df_n"
   ]
  },
  {
   "cell_type": "markdown",
   "metadata": {},
   "source": [
    "Concatination basically glues the dataframes together,You can select the dimension(means rows & columns) on which you want to concate for that just use \"pd.concat\" and pass in the list of dataframes to cancate together.consider the below example.\n",
    "\n",
    "concatenation in dataframe concat the different dataframe along with rows and columns.\n",
    "\n",
    "\n",
    "Concate the two dataframes alongs rows ,by default axis=0 that is rows."
   ]
  },
  {
   "cell_type": "code",
   "execution_count": 41,
   "metadata": {},
   "outputs": [
    {
     "data": {
      "text/html": [
       "<div>\n",
       "<style scoped>\n",
       "    .dataframe tbody tr th:only-of-type {\n",
       "        vertical-align: middle;\n",
       "    }\n",
       "\n",
       "    .dataframe tbody tr th {\n",
       "        vertical-align: top;\n",
       "    }\n",
       "\n",
       "    .dataframe thead th {\n",
       "        text-align: right;\n",
       "    }\n",
       "</style>\n",
       "<table border=\"1\" class=\"dataframe\">\n",
       "  <thead>\n",
       "    <tr style=\"text-align: right;\">\n",
       "      <th></th>\n",
       "      <th>subject_id</th>\n",
       "      <th>first_name</th>\n",
       "      <th>last_name</th>\n",
       "    </tr>\n",
       "  </thead>\n",
       "  <tbody>\n",
       "    <tr>\n",
       "      <th>0</th>\n",
       "      <td>1</td>\n",
       "      <td>Alex</td>\n",
       "      <td>Anderson</td>\n",
       "    </tr>\n",
       "    <tr>\n",
       "      <th>1</th>\n",
       "      <td>2</td>\n",
       "      <td>Amy</td>\n",
       "      <td>Ackerman</td>\n",
       "    </tr>\n",
       "    <tr>\n",
       "      <th>2</th>\n",
       "      <td>3</td>\n",
       "      <td>Allen</td>\n",
       "      <td>Ali</td>\n",
       "    </tr>\n",
       "    <tr>\n",
       "      <th>3</th>\n",
       "      <td>4</td>\n",
       "      <td>Alice</td>\n",
       "      <td>Aoni</td>\n",
       "    </tr>\n",
       "    <tr>\n",
       "      <th>4</th>\n",
       "      <td>5</td>\n",
       "      <td>Ayoung</td>\n",
       "      <td>Atiches</td>\n",
       "    </tr>\n",
       "    <tr>\n",
       "      <th>5</th>\n",
       "      <td>4</td>\n",
       "      <td>Billy</td>\n",
       "      <td>Bonder</td>\n",
       "    </tr>\n",
       "    <tr>\n",
       "      <th>6</th>\n",
       "      <td>5</td>\n",
       "      <td>Brian</td>\n",
       "      <td>Black</td>\n",
       "    </tr>\n",
       "    <tr>\n",
       "      <th>7</th>\n",
       "      <td>6</td>\n",
       "      <td>Bran</td>\n",
       "      <td>Balwner</td>\n",
       "    </tr>\n",
       "    <tr>\n",
       "      <th>8</th>\n",
       "      <td>7</td>\n",
       "      <td>Bryce</td>\n",
       "      <td>Brice</td>\n",
       "    </tr>\n",
       "    <tr>\n",
       "      <th>9</th>\n",
       "      <td>8</td>\n",
       "      <td>Betty</td>\n",
       "      <td>Btisan</td>\n",
       "    </tr>\n",
       "  </tbody>\n",
       "</table>\n",
       "</div>"
      ],
      "text/plain": [
       "  subject_id first_name last_name\n",
       "0          1       Alex  Anderson\n",
       "1          2        Amy  Ackerman\n",
       "2          3      Allen       Ali\n",
       "3          4      Alice      Aoni\n",
       "4          5     Ayoung   Atiches\n",
       "5          4      Billy    Bonder\n",
       "6          5      Brian     Black\n",
       "7          6       Bran   Balwner\n",
       "8          7      Bryce     Brice\n",
       "9          8      Betty    Btisan"
      ]
     },
     "execution_count": 41,
     "metadata": {},
     "output_type": "execute_result"
    }
   ],
   "source": [
    "#Concatination :- by default axis=o working so this operation add the to dataframe along with rows as a default. \n",
    "#''ignore_index=True'' parameter just the control row index if it is false then index will note come in sequence order it will come in repeated index exactly according to df1 and df2.\n",
    "\n",
    "df_new = pd.concat([df_a,df_b],ignore_index=True)\n",
    "df_new"
   ]
  },
  {
   "cell_type": "code",
   "execution_count": 42,
   "metadata": {},
   "outputs": [
    {
     "data": {
      "text/html": [
       "<div>\n",
       "<style scoped>\n",
       "    .dataframe tbody tr th:only-of-type {\n",
       "        vertical-align: middle;\n",
       "    }\n",
       "\n",
       "    .dataframe tbody tr th {\n",
       "        vertical-align: top;\n",
       "    }\n",
       "\n",
       "    .dataframe thead th {\n",
       "        text-align: right;\n",
       "    }\n",
       "</style>\n",
       "<table border=\"1\" class=\"dataframe\">\n",
       "  <thead>\n",
       "    <tr style=\"text-align: right;\">\n",
       "      <th></th>\n",
       "      <th>subject_id</th>\n",
       "      <th>first_name</th>\n",
       "      <th>last_name</th>\n",
       "    </tr>\n",
       "  </thead>\n",
       "  <tbody>\n",
       "    <tr>\n",
       "      <th>0</th>\n",
       "      <td>1</td>\n",
       "      <td>Alex</td>\n",
       "      <td>Anderson</td>\n",
       "    </tr>\n",
       "    <tr>\n",
       "      <th>1</th>\n",
       "      <td>2</td>\n",
       "      <td>Amy</td>\n",
       "      <td>Ackerman</td>\n",
       "    </tr>\n",
       "    <tr>\n",
       "      <th>2</th>\n",
       "      <td>3</td>\n",
       "      <td>Allen</td>\n",
       "      <td>Ali</td>\n",
       "    </tr>\n",
       "    <tr>\n",
       "      <th>3</th>\n",
       "      <td>4</td>\n",
       "      <td>Alice</td>\n",
       "      <td>Aoni</td>\n",
       "    </tr>\n",
       "    <tr>\n",
       "      <th>4</th>\n",
       "      <td>5</td>\n",
       "      <td>Ayoung</td>\n",
       "      <td>Atiches</td>\n",
       "    </tr>\n",
       "    <tr>\n",
       "      <th>0</th>\n",
       "      <td>4</td>\n",
       "      <td>Billy</td>\n",
       "      <td>Bonder</td>\n",
       "    </tr>\n",
       "    <tr>\n",
       "      <th>1</th>\n",
       "      <td>5</td>\n",
       "      <td>Brian</td>\n",
       "      <td>Black</td>\n",
       "    </tr>\n",
       "    <tr>\n",
       "      <th>2</th>\n",
       "      <td>6</td>\n",
       "      <td>Bran</td>\n",
       "      <td>Balwner</td>\n",
       "    </tr>\n",
       "    <tr>\n",
       "      <th>3</th>\n",
       "      <td>7</td>\n",
       "      <td>Bryce</td>\n",
       "      <td>Brice</td>\n",
       "    </tr>\n",
       "    <tr>\n",
       "      <th>4</th>\n",
       "      <td>8</td>\n",
       "      <td>Betty</td>\n",
       "      <td>Btisan</td>\n",
       "    </tr>\n",
       "  </tbody>\n",
       "</table>\n",
       "</div>"
      ],
      "text/plain": [
       "  subject_id first_name last_name\n",
       "0          1       Alex  Anderson\n",
       "1          2        Amy  Ackerman\n",
       "2          3      Allen       Ali\n",
       "3          4      Alice      Aoni\n",
       "4          5     Ayoung   Atiches\n",
       "0          4      Billy    Bonder\n",
       "1          5      Brian     Black\n",
       "2          6       Bran   Balwner\n",
       "3          7      Bryce     Brice\n",
       "4          8      Betty    Btisan"
      ]
     },
     "execution_count": 42,
     "metadata": {},
     "output_type": "execute_result"
    }
   ],
   "source": [
    "#see the imact abobe and below dataframe if \"ignore_index=false\" here or this parameter is not present.\n",
    "#repeated\n",
    "df_new = pd.concat([df_a,df_b])\n",
    "df_new"
   ]
  },
  {
   "cell_type": "code",
   "execution_count": 43,
   "metadata": {},
   "outputs": [
    {
     "data": {
      "text/html": [
       "<div>\n",
       "<style scoped>\n",
       "    .dataframe tbody tr th:only-of-type {\n",
       "        vertical-align: middle;\n",
       "    }\n",
       "\n",
       "    .dataframe tbody tr th {\n",
       "        vertical-align: top;\n",
       "    }\n",
       "\n",
       "    .dataframe thead th {\n",
       "        text-align: right;\n",
       "    }\n",
       "</style>\n",
       "<table border=\"1\" class=\"dataframe\">\n",
       "  <thead>\n",
       "    <tr style=\"text-align: right;\">\n",
       "      <th></th>\n",
       "      <th>subject_id</th>\n",
       "      <th>first_name</th>\n",
       "      <th>last_name</th>\n",
       "      <th>subject_id</th>\n",
       "      <th>first_name</th>\n",
       "      <th>last_name</th>\n",
       "    </tr>\n",
       "  </thead>\n",
       "  <tbody>\n",
       "    <tr>\n",
       "      <th>0</th>\n",
       "      <td>1</td>\n",
       "      <td>Alex</td>\n",
       "      <td>Anderson</td>\n",
       "      <td>4</td>\n",
       "      <td>Billy</td>\n",
       "      <td>Bonder</td>\n",
       "    </tr>\n",
       "    <tr>\n",
       "      <th>1</th>\n",
       "      <td>2</td>\n",
       "      <td>Amy</td>\n",
       "      <td>Ackerman</td>\n",
       "      <td>5</td>\n",
       "      <td>Brian</td>\n",
       "      <td>Black</td>\n",
       "    </tr>\n",
       "    <tr>\n",
       "      <th>2</th>\n",
       "      <td>3</td>\n",
       "      <td>Allen</td>\n",
       "      <td>Ali</td>\n",
       "      <td>6</td>\n",
       "      <td>Bran</td>\n",
       "      <td>Balwner</td>\n",
       "    </tr>\n",
       "    <tr>\n",
       "      <th>3</th>\n",
       "      <td>4</td>\n",
       "      <td>Alice</td>\n",
       "      <td>Aoni</td>\n",
       "      <td>7</td>\n",
       "      <td>Bryce</td>\n",
       "      <td>Brice</td>\n",
       "    </tr>\n",
       "    <tr>\n",
       "      <th>4</th>\n",
       "      <td>5</td>\n",
       "      <td>Ayoung</td>\n",
       "      <td>Atiches</td>\n",
       "      <td>8</td>\n",
       "      <td>Betty</td>\n",
       "      <td>Btisan</td>\n",
       "    </tr>\n",
       "  </tbody>\n",
       "</table>\n",
       "</div>"
      ],
      "text/plain": [
       "  subject_id first_name last_name subject_id first_name last_name\n",
       "0          1       Alex  Anderson          4      Billy    Bonder\n",
       "1          2        Amy  Ackerman          5      Brian     Black\n",
       "2          3      Allen       Ali          6       Bran   Balwner\n",
       "3          4      Alice      Aoni          7      Bryce     Brice\n",
       "4          5     Ayoung   Atiches          8      Betty    Btisan"
      ]
     },
     "execution_count": 43,
     "metadata": {},
     "output_type": "execute_result"
    }
   ],
   "source": [
    "#Concatenation along with axis=1 or columns.\n",
    "#index is repeated not in sequence order.\n",
    "\n",
    "pd.concat([df_a,df_b],axis=1)"
   ]
  },
  {
   "cell_type": "markdown",
   "metadata": {},
   "source": [
    "google-->pandas.org concat -->to know more details about these operation."
   ]
  },
  {
   "cell_type": "markdown",
   "metadata": {},
   "source": [
    "The session end"
   ]
  }
 ],
 "metadata": {
  "kernelspec": {
   "display_name": "Python 3",
   "language": "python",
   "name": "python3"
  },
  "language_info": {
   "codemirror_mode": {
    "name": "ipython",
    "version": 3
   },
   "file_extension": ".py",
   "mimetype": "text/x-python",
   "name": "python",
   "nbconvert_exporter": "python",
   "pygments_lexer": "ipython3",
   "version": "3.8.3"
  }
 },
 "nbformat": 4,
 "nbformat_minor": 4
}
