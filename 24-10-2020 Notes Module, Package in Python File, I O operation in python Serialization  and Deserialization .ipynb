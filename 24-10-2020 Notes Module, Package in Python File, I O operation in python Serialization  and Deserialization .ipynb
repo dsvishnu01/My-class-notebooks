{
 "cells": [
  {
   "cell_type": "markdown",
   "metadata": {},
   "source": [
    "\n",
    "\n",
    "# MODULES"
   ]
  },
  {
   "cell_type": "markdown",
   "metadata": {},
   "source": [
    "MODULE IN PYTHON :-"
   ]
  },
  {
   "cell_type": "markdown",
   "metadata": {},
   "source": [
    "* Concider a module to be the same as a code library.\n",
    "\n",
    "* A file containing a set of functions you want to incloude in your python. "
   ]
  },
  {
   "cell_type": "markdown",
   "metadata": {},
   "source": [
    "CRREATE A MODULE :-"
   ]
  },
  {
   "cell_type": "markdown",
   "metadata": {},
   "source": [
    "* File name ----mymodule.ipynb\n",
    "\n",
    "* def greeting(name)\n",
    "\n",
    "* USE a module \n",
    "\n",
    "* import a modele\n",
    "\n",
    "* mymodule.greeting(\"hello world\")"
   ]
  },
  {
   "cell_type": "markdown",
   "metadata": {},
   "source": [
    "IN BUILT MODULES :-"
   ]
  },
  {
   "cell_type": "markdown",
   "metadata": {},
   "source": [
    "* Import sys ---- for system calls (hardware related)\n",
    "\n",
    "* Import math\n",
    "    * Math.pi\n",
    "\n",
    "* Import os ---- for operating system\n",
    "    * Os.getcwd ---get working directory\n",
    "\n",
    "* Import re ---- regex functions ---- regular functions "
   ]
  },
  {
   "cell_type": "markdown",
   "metadata": {},
   "source": [
    "PACKAGES IN PYTHON :-"
   ]
  },
  {
   "cell_type": "markdown",
   "metadata": {},
   "source": [
    "* A pakage is a hierarchical file directory structure that defines a single python application environment that consist of ;\n",
    "\n",
    "* modules\n",
    "\n",
    "* and subpackages\n",
    "\n",
    "* and sub-subpackages\n",
    "\n",
    "* and so on.\n"
   ]
  },
  {
   "cell_type": "markdown",
   "metadata": {},
   "source": [
    "# Modules:-"
   ]
  },
  {
   "cell_type": "markdown",
   "metadata": {},
   "source": [
    "We are having a module inside the module we are created a class and a function and inside the class functionality are present. "
   ]
  },
  {
   "cell_type": "code",
   "execution_count": 1,
   "metadata": {},
   "outputs": [],
   "source": [
    "# import module name "
   ]
  },
  {
   "cell_type": "code",
   "execution_count": 2,
   "metadata": {},
   "outputs": [],
   "source": [
    "import keyword"
   ]
  },
  {
   "cell_type": "code",
   "execution_count": 3,
   "metadata": {},
   "outputs": [
    {
     "name": "stdout",
     "output_type": "stream",
     "text": [
      "['False', 'None', 'True', 'and', 'as', 'assert', 'async', 'await', 'break', 'class', 'continue', 'def', 'del', 'elif', 'else', 'except', 'finally', 'for', 'from', 'global', 'if', 'import', 'in', 'is', 'lambda', 'nonlocal', 'not', 'or', 'pass', 'raise', 'return', 'try', 'while', 'with', 'yield']\n"
     ]
    }
   ],
   "source": [
    "print (keyword.kwlist) #kw means key word and below output is ('false', 'none', ....etc.) are pre created key word in python."
   ]
  },
  {
   "cell_type": "markdown",
   "metadata": {},
   "source": [
    "Python module search Path :-"
   ]
  },
  {
   "cell_type": "markdown",
   "metadata": {},
   "source": [
    "While importing a module , python looks at several places. interpreter first looks for a buit -in function then (if not found) into a list of directories define in sys.path the search in this order. the current directory."
   ]
  },
  {
   "cell_type": "code",
   "execution_count": 4,
   "metadata": {},
   "outputs": [],
   "source": [
    "import sys"
   ]
  },
  {
   "cell_type": "code",
   "execution_count": 5,
   "metadata": {},
   "outputs": [
    {
     "data": {
      "text/plain": [
       "['C:\\\\Users\\\\asus',\n",
       " 'C:\\\\Users\\\\asus\\\\anaconda3\\\\python38.zip',\n",
       " 'C:\\\\Users\\\\asus\\\\anaconda3\\\\DLLs',\n",
       " 'C:\\\\Users\\\\asus\\\\anaconda3\\\\lib',\n",
       " 'C:\\\\Users\\\\asus\\\\anaconda3',\n",
       " '',\n",
       " 'C:\\\\Users\\\\asus\\\\anaconda3\\\\lib\\\\site-packages',\n",
       " 'C:\\\\Users\\\\asus\\\\anaconda3\\\\lib\\\\site-packages\\\\win32',\n",
       " 'C:\\\\Users\\\\asus\\\\anaconda3\\\\lib\\\\site-packages\\\\win32\\\\lib',\n",
       " 'C:\\\\Users\\\\asus\\\\anaconda3\\\\lib\\\\site-packages\\\\Pythonwin',\n",
       " 'C:\\\\Users\\\\asus\\\\anaconda3\\\\lib\\\\site-packages\\\\IPython\\\\extensions',\n",
       " 'C:\\\\Users\\\\asus\\\\.ipython']"
      ]
     },
     "execution_count": 5,
     "metadata": {},
     "output_type": "execute_result"
    }
   ],
   "source": [
    "sys.path #sys is the module and path is the attributes inside it."
   ]
  },
  {
   "cell_type": "code",
   "execution_count": 6,
   "metadata": {},
   "outputs": [],
   "source": [
    "import os  "
   ]
  },
  {
   "cell_type": "code",
   "execution_count": 7,
   "metadata": {},
   "outputs": [
    {
     "data": {
      "text/plain": [
       "'C:\\\\Users\\\\asus'"
      ]
     },
     "execution_count": 7,
     "metadata": {},
     "output_type": "execute_result"
    }
   ],
   "source": [
    "#get current working diretcory (cwd)\n",
    "os.getcwd()"
   ]
  },
  {
   "cell_type": "code",
   "execution_count": 8,
   "metadata": {},
   "outputs": [],
   "source": [
    "#changing directory\n",
    "#we can change the current working directory using the chdir() method\n",
    "#os.chdir('c:\\\\User')\n",
    "#os.getcwd()"
   ]
  },
  {
   "cell_type": "code",
   "execution_count": 9,
   "metadata": {
    "scrolled": true
   },
   "outputs": [
    {
     "data": {
      "text/plain": [
       "[' Notes Python Basics 03-10-2020.ipynb',\n",
       " '.atom',\n",
       " '.conda',\n",
       " '.condarc',\n",
       " '.ipynb_checkpoints',\n",
       " '.ipython',\n",
       " '.jupyter',\n",
       " '3D Objects',\n",
       " 'anaconda3',\n",
       " 'AppData',\n",
       " 'Application Data',\n",
       " 'Contacts',\n",
       " 'Cookies',\n",
       " 'demofile.txt',\n",
       " 'Desktop',\n",
       " 'Documents',\n",
       " 'Downloads',\n",
       " 'Favorites',\n",
       " 'flower',\n",
       " 'IntelGraphicsProfiles',\n",
       " 'Links',\n",
       " 'Local Settings',\n",
       " 'MicrosoftEdgeBackups',\n",
       " 'module in python 24-10-2020.ipynb',\n",
       " 'Music',\n",
       " 'My Documents',\n",
       " 'NetHood',\n",
       " 'Notes  List Comprehension Range function 11-10-2020.ipynb',\n",
       " 'Notes Python Data Structure 04-10-2020.ipynb',\n",
       " 'Notes Python loop  function OOPS & Class module 18-10-2020.ipynb',\n",
       " 'Notes python loop function class  module 17-08-2020.ipynb',\n",
       " 'Notes Python Loops 10-10-2020.ipynb',\n",
       " 'NTUSER.DAT',\n",
       " 'ntuser.dat.LOG1',\n",
       " 'ntuser.dat.LOG2',\n",
       " 'NTUSER.DAT{4d8b88fa-1b90-11eb-b5f4-b06ebf24dba9}.TM.blf',\n",
       " 'NTUSER.DAT{4d8b88fa-1b90-11eb-b5f4-b06ebf24dba9}.TMContainer00000000000000000001.regtrans-ms',\n",
       " 'NTUSER.DAT{4d8b88fa-1b90-11eb-b5f4-b06ebf24dba9}.TMContainer00000000000000000002.regtrans-ms',\n",
       " 'ntuser.ini',\n",
       " 'OneDrive',\n",
       " 'PrintHood',\n",
       " 'python 11-10-2020-Copy1.ipynb',\n",
       " 'python loop.ipynb',\n",
       " 'Recent',\n",
       " 'Saved Games',\n",
       " 'Searches',\n",
       " 'SendTo',\n",
       " 'Start Menu',\n",
       " 'Templates',\n",
       " 'Untitled Folder',\n",
       " 'Untitled.ipynb',\n",
       " 'Videos']"
      ]
     },
     "execution_count": 9,
     "metadata": {},
     "output_type": "execute_result"
    }
   ],
   "source": [
    "# shows the list of files and folders in current working directory\n",
    "os.listdir()"
   ]
  },
  {
   "cell_type": "code",
   "execution_count": 10,
   "metadata": {},
   "outputs": [],
   "source": [
    "import math"
   ]
  },
  {
   "cell_type": "code",
   "execution_count": 11,
   "metadata": {},
   "outputs": [
    {
     "data": {
      "text/plain": [
       "3.141592653589793"
      ]
     },
     "execution_count": 11,
     "metadata": {},
     "output_type": "execute_result"
    }
   ],
   "source": [
    "math.pi"
   ]
  },
  {
   "cell_type": "code",
   "execution_count": 12,
   "metadata": {},
   "outputs": [
    {
     "data": {
      "text/plain": [
       "4.0"
      ]
     },
     "execution_count": 12,
     "metadata": {},
     "output_type": "execute_result"
    }
   ],
   "source": [
    "math.sqrt(16)"
   ]
  },
  {
   "cell_type": "code",
   "execution_count": 13,
   "metadata": {},
   "outputs": [
    {
     "data": {
      "text/plain": [
       "3.0"
      ]
     },
     "execution_count": 13,
     "metadata": {},
     "output_type": "execute_result"
    }
   ],
   "source": [
    "#square root\n",
    "math.sqrt(9)"
   ]
  },
  {
   "cell_type": "code",
   "execution_count": 14,
   "metadata": {},
   "outputs": [
    {
     "data": {
      "text/plain": [
       "8.0"
      ]
     },
     "execution_count": 14,
     "metadata": {},
     "output_type": "execute_result"
    }
   ],
   "source": [
    "#power function\n",
    "math.pow(2,3)"
   ]
  },
  {
   "cell_type": "markdown",
   "metadata": {},
   "source": [
    "Import with renaming\n",
    "\n",
    "We can import a module by renaming it as follows."
   ]
  },
  {
   "cell_type": "code",
   "execution_count": 15,
   "metadata": {},
   "outputs": [
    {
     "data": {
      "text/plain": [
       "3.141592653589793"
      ]
     },
     "execution_count": 15,
     "metadata": {},
     "output_type": "execute_result"
    }
   ],
   "source": [
    "import math as m\n",
    "m.pi"
   ]
  },
  {
   "cell_type": "code",
   "execution_count": 16,
   "metadata": {},
   "outputs": [
    {
     "data": {
      "text/plain": [
       "16.0"
      ]
     },
     "execution_count": 16,
     "metadata": {},
     "output_type": "execute_result"
    }
   ],
   "source": [
    "m.pow(4,2)"
   ]
  },
  {
   "cell_type": "markdown",
   "metadata": {},
   "source": [
    "Python fron ...import statement \n",
    "\n",
    "We can import specific names from a module without importing as whole. here is example."
   ]
  },
  {
   "cell_type": "code",
   "execution_count": 17,
   "metadata": {},
   "outputs": [
    {
     "data": {
      "text/plain": [
       "3.141592653589793"
      ]
     },
     "execution_count": 17,
     "metadata": {},
     "output_type": "execute_result"
    }
   ],
   "source": [
    "from math import pi\n",
    "pi"
   ]
  },
  {
   "cell_type": "code",
   "execution_count": 18,
   "metadata": {},
   "outputs": [
    {
     "data": {
      "text/plain": [
       "3.0"
      ]
     },
     "execution_count": 18,
     "metadata": {},
     "output_type": "execute_result"
    }
   ],
   "source": [
    "from math import sqrt\n",
    "sqrt(9)"
   ]
  },
  {
   "cell_type": "code",
   "execution_count": 19,
   "metadata": {},
   "outputs": [
    {
     "name": "stdout",
     "output_type": "stream",
     "text": [
      "The value of  pi is  3.141592653589793\n"
     ]
    }
   ],
   "source": [
    "print(\"The value of  pi is \", pi)"
   ]
  },
  {
   "cell_type": "markdown",
   "metadata": {},
   "source": [
    "Pip ---- Python package manager\n",
    "\n",
    "The best way to manage Python's third party package/modules is with pip\n",
    "\n",
    "! pip install textblob, to install extra package we use #!pip install<pakage.name> function."
   ]
  },
  {
   "cell_type": "code",
   "execution_count": null,
   "metadata": {},
   "outputs": [],
   "source": []
  },
  {
   "cell_type": "markdown",
   "metadata": {},
   "source": [
    "# FILE INPUT / FILE OUTPUT OPERATION :-"
   ]
  },
  {
   "cell_type": "markdown",
   "metadata": {},
   "source": [
    "#go for notes :- https://drive.google.com/file/d/1R_rPzgj_6f95cxjMRuepWFrqqC8Vq2j4/view"
   ]
  },
  {
   "cell_type": "markdown",
   "metadata": {},
   "source": [
    "f=open('E\\python\\file1.txt','w')\n",
    "\n",
    "f=open('E:\\Python\\file.txt','r')"
   ]
  },
  {
   "cell_type": "markdown",
   "metadata": {},
   "source": [
    "* First of all we have to create a file.\n",
    "* Then we have to create a path to file that python can recognise path\n",
    "* There are three keyword here --> (open close & read.these are pre defined operation.                                 "
   ]
  },
  {
   "cell_type": "code",
   "execution_count": 20,
   "metadata": {},
   "outputs": [],
   "source": [
    "savefile=open('c:\\\\Users\\\\asus\\\\demofile.txt','w') # to create a file and \\\\ means give path to file."
   ]
  },
  {
   "cell_type": "code",
   "execution_count": 21,
   "metadata": {},
   "outputs": [
    {
     "data": {
      "text/plain": [
       "23"
      ]
     },
     "execution_count": 21,
     "metadata": {},
     "output_type": "execute_result"
    }
   ],
   "source": [
    "savefile.write(\"this is the first line.\") # to write the file ."
   ]
  },
  {
   "cell_type": "code",
   "execution_count": 22,
   "metadata": {},
   "outputs": [],
   "source": [
    "savefile.close() # to close the file."
   ]
  },
  {
   "cell_type": "code",
   "execution_count": 23,
   "metadata": {},
   "outputs": [],
   "source": [
    "readme=open('c:\\\\Users\\\\asus\\\\demofile.txt','r') # to read the file."
   ]
  },
  {
   "cell_type": "code",
   "execution_count": 24,
   "metadata": {},
   "outputs": [
    {
     "name": "stdout",
     "output_type": "stream",
     "text": [
      "this is the first line.\n"
     ]
    }
   ],
   "source": [
    "print(readme.read())"
   ]
  },
  {
   "cell_type": "code",
   "execution_count": 25,
   "metadata": {},
   "outputs": [],
   "source": [
    "appendfile=open('c:\\\\Users\\\\asus\\\\demofile.txt','a') # To add new line data to demofile."
   ]
  },
  {
   "cell_type": "code",
   "execution_count": 26,
   "metadata": {},
   "outputs": [
    {
     "data": {
      "text/plain": [
       "23"
      ]
     },
     "execution_count": 26,
     "metadata": {},
     "output_type": "execute_result"
    }
   ],
   "source": [
    "appendfile.write(\"\\n this is the next line\") #  To write new line data to demofile."
   ]
  },
  {
   "cell_type": "code",
   "execution_count": 27,
   "metadata": {},
   "outputs": [],
   "source": [
    "appendfile.close()"
   ]
  },
  {
   "cell_type": "code",
   "execution_count": 28,
   "metadata": {},
   "outputs": [],
   "source": [
    "readme=open(\"c:\\\\Users\\\\asus\\\\demofile.txt\",'r') # To read new data from demofile."
   ]
  },
  {
   "cell_type": "code",
   "execution_count": 29,
   "metadata": {},
   "outputs": [
    {
     "name": "stdout",
     "output_type": "stream",
     "text": [
      "this is the first line.\n",
      " this is the next line\n"
     ]
    }
   ],
   "source": [
    "print(readme.read())"
   ]
  },
  {
   "cell_type": "code",
   "execution_count": 30,
   "metadata": {},
   "outputs": [],
   "source": [
    "readme.close()"
   ]
  },
  {
   "cell_type": "markdown",
   "metadata": {},
   "source": [
    "\n",
    "\n",
    "# PICKLE IN PYTHON : Object Serialization"
   ]
  },
  {
   "cell_type": "markdown",
   "metadata": {},
   "source": [
    "Go to notes from page no 13 :- https://drive.google.com/file/d/1R_rPzgj_6f95cxjMRuepWFrqqC8Vq2j4/view "
   ]
  },
  {
   "cell_type": "markdown",
   "metadata": {},
   "source": [
    "* Pickle is the library inside  python  which will  assist to do the serialization and then de-serialization. \n",
    "* There are two method inside the picle give below :-\n",
    "    * 1> Serialization \n",
    "    * 2> De-serialization\n",
    "    \n",
    "** For the serialization, dump method present inside the pickle.\n",
    "   \n",
    "** For the de-serialization,load method present inside the pickle.\n",
    "* Dump method for the serialization purpose to store the any of the object from the jupiter notebook as binary file.and if i want to take the text file the De-serialization process that i given the load method.  \n"
   ]
  },
  {
   "cell_type": "code",
   "execution_count": 31,
   "metadata": {},
   "outputs": [],
   "source": [
    "import pickle"
   ]
  },
  {
   "cell_type": "code",
   "execution_count": 32,
   "metadata": {},
   "outputs": [],
   "source": [
    "flower_dict={1:'Rose',2:'Lily',3:'Lotus',4:'Tulip'} # flower dictionary is the actual dictionary. "
   ]
  },
  {
   "cell_type": "code",
   "execution_count": 33,
   "metadata": {},
   "outputs": [],
   "source": [
    "filename = 'flower'\n",
    "outfile = open(filename, 'wb') #outfile is the file name #wb= write binary mode "
   ]
  },
  {
   "cell_type": "code",
   "execution_count": 34,
   "metadata": {},
   "outputs": [],
   "source": [
    "#pickling the file \n",
    "pickle.dump(flower_dict,outfile) # using pickle command for store the flower dictionary into the out file.(this is serialization process)\n",
    "outfile.close()"
   ]
  },
  {
   "cell_type": "code",
   "execution_count": 35,
   "metadata": {},
   "outputs": [],
   "source": [
    "#unpickle the file \n",
    "infile=open(filename,'rb') #infile is the reference variable you can take any of the variable.\n",
    "                           # open the flower.obj file into the read binary mode we use picle command to load the file pack this one is de-serialization method. \n",
    "                           # then you should have to close the file :-"
   ]
  },
  {
   "cell_type": "code",
   "execution_count": 36,
   "metadata": {},
   "outputs": [],
   "source": [
    "new_dict=pickle.load(infile)"
   ]
  },
  {
   "cell_type": "code",
   "execution_count": 37,
   "metadata": {},
   "outputs": [],
   "source": [
    "infile.close()"
   ]
  },
  {
   "cell_type": "code",
   "execution_count": 38,
   "metadata": {},
   "outputs": [
    {
     "name": "stdout",
     "output_type": "stream",
     "text": [
      "{1: 'Rose', 2: 'Lily', 3: 'Lotus', 4: 'Tulip'}\n"
     ]
    }
   ],
   "source": [
    "print(new_dict)"
   ]
  },
  {
   "cell_type": "code",
   "execution_count": 39,
   "metadata": {},
   "outputs": [
    {
     "name": "stdout",
     "output_type": "stream",
     "text": [
      "True\n"
     ]
    }
   ],
   "source": [
    "print(new_dict==flower_dict)"
   ]
  },
  {
   "cell_type": "code",
   "execution_count": 40,
   "metadata": {},
   "outputs": [
    {
     "name": "stdout",
     "output_type": "stream",
     "text": [
      "<class 'dict'>\n"
     ]
    }
   ],
   "source": [
    "print(type(new_dict))"
   ]
  },
  {
   "cell_type": "markdown",
   "metadata": {},
   "source": [
    "# we have learnt the python basics."
   ]
  },
  {
   "cell_type": "markdown",
   "metadata": {},
   "source": [
    "# practice the complete python"
   ]
  },
  {
   "cell_type": "markdown",
   "metadata": {},
   "source": [
    "# LET'S MOVE AHEAD FOR DATA BASES (SQL)"
   ]
  },
  {
   "cell_type": "markdown",
   "metadata": {},
   "source": [
    "# EXTRACTING DATA IN PYTHON FOR DATA ANALYSIS:-"
   ]
  },
  {
   "cell_type": "markdown",
   "metadata": {},
   "source": [
    "HOW TO EXTRACT THE DATA IN PYTHON FOR DATA ANALYSIS PURPOSE ?"
   ]
  },
  {
   "cell_type": "markdown",
   "metadata": {},
   "source": [
    "* STEP TO DO :-\n",
    "    * Knowledge of data bases\n",
    "    * Working in database\n",
    "    * Mysql software/SQL quries required\n",
    "    * Using connectors in Python(jupyter Notebook) to get connected with database\n",
    "    * To extract/fetch the data from data base in python\n",
    "    * Using pandas library for data analysis "
   ]
  },
  {
   "cell_type": "markdown",
   "metadata": {},
   "source": [
    "from here go to notes and sql video lecture:- https://drive.google.com/file/d/15cxwZfMczvucsIOUoPxvZ6NoAQ0NhixM/view"
   ]
  },
  {
   "cell_type": "markdown",
   "metadata": {},
   "source": [
    "* Tables of consisting of rows and coloumns where coloumn is called as attributes/characteristics and rows are the tuples.\n",
    "* Tables are the collection of rows and coloumns.\n",
    "* whenever working with tables there are certain datatypes.\n",
    "    * Inside the table we create datatype. integer, charecter, float are datatype.\n",
    "    * There is one of the concept PRIMARY KEY :- whenever input the id the unique id so that i can't repeat that id so i can put the data as a primary key.\n",
    "    * Primary key having two base:\n",
    "        * 1> NOTNULL :- Whenever we making  any coloumn as a primary key that should be notnul. means not should blank or null.\n",
    "        * 2> UNIQUE :- Whenever we making  any coloumn as a primary key that should be unique. means not should repeat any data."
   ]
  },
  {
   "cell_type": "markdown",
   "metadata": {},
   "source": [
    "* Primary key:-A primary key is used to ensure data in the specific column is unique. It is a column cannot have NULL values. It is either an existing table column or a column that is specifically generated by the database according to a defined sequence.\n",
    "\n",
    "\n",
    "* Foreign Key:-A foreign key is a column or group of columns in a relational database table that provides a link between data in two tables. It is a column (or columns) that references a column (most often the primary key) of another table."
   ]
  },
  {
   "cell_type": "markdown",
   "metadata": {},
   "source": [
    "* THe value shold be present in the base table(primary key wala table) that can use in foreign table and this is acting as foreign REFERENTIAL integrety in term of databases   "
   ]
  },
  {
   "cell_type": "markdown",
   "metadata": {},
   "source": [
    "* Database is the collection of different tables. where tables are logically releated to each other. "
   ]
  },
  {
   "cell_type": "markdown",
   "metadata": {},
   "source": [
    "* DBMS(Data Base Management System) :- DBMS are software which can handle the database.\n",
    "    * DBMS which will assit to create the data base, to handle the data base, to manage the data base completly entire it. \n",
    "    * DBMS keep us the  access of the appropiate table to the people who are working into that department only.They can't see any other table."
   ]
  },
  {
   "cell_type": "markdown",
   "metadata": {},
   "source": [
    "* DBMS are two form:-\n",
    "    * 1>Relational data bases :- Relational data bases where tables can we created into the form of rows and coloumn. exmple- MS SQL sever, Oracle, MySQL are of the example relational data bases.\n",
    "    * No SQL or non relational data bases : NoSQL or non relational data bases where tables are not created into the form of rows and coloumn. the sdata such like facebook, twitter, linkedin, instagram these type data can we grab but they are not stre in the format in the rows and coloumns.NoSQl example:-mongodb,cassanda, dynamodb they are nosql,not structure like table.  \n",
    "    \n",
    "    \n",
    "* DBMS are two type :-\n",
    "    * 1> OPEN SOURCE :- FREELY AVILABL   EX- MYSQL\n",
    "    * 2> LICENCED    :- HAVE TO PURCHASE EX- MS SQL SERVER \n"
   ]
  },
  {
   "cell_type": "markdown",
   "metadata": {},
   "source": [
    "SQL :- Structure query language"
   ]
  },
  {
   "cell_type": "markdown",
   "metadata": {},
   "source": [
    "* SQL have  three catogery :-\n",
    "    * 1>DDL(data defination language):-\n",
    "        * there are command which are use to the DDL :-\n",
    "            * --> create command, alter command, drop command\n",
    "            \n",
    "    * 2>DML(data manupulation language):-\n",
    "        * there are command which are use to  the DML :-\n",
    "            * --> input command, delete command, update command, select command\n",
    "\n",
    "    * 3>DCL(data control language ):-\n",
    "        * there are command which are use to the DCL :- \n",
    "            * --> grant command ,revoke(means taking the permission to access),commite command, rolebace command\n",
    "\n",
    "    "
   ]
  },
  {
   "cell_type": "markdown",
   "metadata": {},
   "source": [
    "** DCL handle by admin but DDL & DML as a user we working on it.  "
   ]
  },
  {
   "cell_type": "markdown",
   "metadata": {},
   "source": [
    "#  The end session"
   ]
  },
  {
   "cell_type": "code",
   "execution_count": null,
   "metadata": {},
   "outputs": [],
   "source": []
  },
  {
   "cell_type": "code",
   "execution_count": null,
   "metadata": {},
   "outputs": [],
   "source": []
  }
 ],
 "metadata": {
  "kernelspec": {
   "display_name": "Python 3",
   "language": "python",
   "name": "python3"
  },
  "language_info": {
   "codemirror_mode": {
    "name": "ipython",
    "version": 3
   },
   "file_extension": ".py",
   "mimetype": "text/x-python",
   "name": "python",
   "nbconvert_exporter": "python",
   "pygments_lexer": "ipython3",
   "version": "3.8.3"
  }
 },
 "nbformat": 4,
 "nbformat_minor": 4
}
