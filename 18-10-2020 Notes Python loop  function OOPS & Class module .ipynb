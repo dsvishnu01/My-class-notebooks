{
 "cells": [
  {
   "cell_type": "markdown",
   "metadata": {},
   "source": [
    "Main () function in python :-\n",
    "\n",
    "* if_name_=='_main_'"
   ]
  },
  {
   "cell_type": "code",
   "execution_count": 1,
   "metadata": {},
   "outputs": [],
   "source": [
    "def sum (x,y):\n",
    "    print('addition =', x+y)"
   ]
  },
  {
   "cell_type": "code",
   "execution_count": 2,
   "metadata": {},
   "outputs": [],
   "source": [
    "#sum(7,7)"
   ]
  },
  {
   "cell_type": "code",
   "execution_count": 3,
   "metadata": {},
   "outputs": [],
   "source": [
    "def main ():\n",
    "    sum(20,4)\n",
    "    print('this is a main function')"
   ]
  },
  {
   "cell_type": "code",
   "execution_count": 4,
   "metadata": {},
   "outputs": [
    {
     "name": "stdout",
     "output_type": "stream",
     "text": [
      "addition = 24\n",
      "this is a main function\n"
     ]
    }
   ],
   "source": [
    "main()"
   ]
  },
  {
   "cell_type": "code",
   "execution_count": 5,
   "metadata": {},
   "outputs": [
    {
     "name": "stdout",
     "output_type": "stream",
     "text": [
      "addition = 24\n",
      "this is a main function\n"
     ]
    }
   ],
   "source": [
    "#calling the functio in python  # here main is a keyword .\n",
    "if __name__=='__main__':        # if__name =='__main' is the entry point to execute the function. and this is the pre defined in python.   \n",
    "    main()                      # this one is acting as entrypoint."
   ]
  },
  {
   "cell_type": "markdown",
   "metadata": {},
   "source": [
    "# Overview of OOP Terminology :-\n",
    "    \n",
    "    (OOP --> Object-oriented Programming):-\n",
    "     \n",
    "* python has been an object oriented language sience it existed.\n",
    "* Class \n",
    "* Data member\n",
    "* function \n",
    "* Instance or object \n",
    "* go for notes reprojetry"
   ]
  },
  {
   "cell_type": "markdown",
   "metadata": {},
   "source": [
    "# Class in python "
   ]
  },
  {
   "cell_type": "markdown",
   "metadata": {},
   "source": [
    "The  basic idea behind object oreinted programming(OOP) is to combine both data and associated procedure known as methods into a single unit which oprate on the data such as unit is called an data.\n",
    "\n",
    "Python is a object oreinted language. Everything in python is an object."
   ]
  },
  {
   "cell_type": "markdown",
   "metadata": {},
   "source": [
    "* Class is a architecture of the object. It is a proper description of the attributes and methods of a class. Like you can make many cars of the same type from a design of car."
   ]
  },
  {
   "cell_type": "code",
   "execution_count": 6,
   "metadata": {},
   "outputs": [],
   "source": [
    "class car:              #car is the class name and car1,car2...(see below ) is the object name. object can be any variable names car1,car2,...etc.\n",
    "  # Attributes\n",
    "        year = 2019    # car model's year\n",
    "        mpg = 22        # milage\n",
    "        speed =100       # Current speed      *#everey thing is object oreiented here inside it.And with the object only ican call internal data attributes. see below this box for calling internal data. \n",
    "  # Methods\n",
    "        def accelerate(self):\n",
    "            return car.speed + 20\n",
    "    \n",
    "        def brake(self):                #self is keyword. we can't create any object name instead self keword. otherwise this hard coded and it will work only for provided object name.\n",
    "            return car.speed - 50               # Class is created for any object name. "
   ]
  },
  {
   "cell_type": "code",
   "execution_count": 7,
   "metadata": {},
   "outputs": [
    {
     "data": {
      "text/plain": [
       "120"
      ]
     },
     "execution_count": 7,
     "metadata": {},
     "output_type": "execute_result"
    }
   ],
   "source": [
    "car1=car()               #car1 is the object name.\n",
    "car1.accelerate()         #Any object which is calling the car that may be provided automatically from function--> def accelerate/brake (**self (from here)). "
   ]
  },
  {
   "cell_type": "code",
   "execution_count": 8,
   "metadata": {},
   "outputs": [
    {
     "data": {
      "text/plain": [
       "50"
      ]
     },
     "execution_count": 8,
     "metadata": {},
     "output_type": "execute_result"
    }
   ],
   "source": [
    "car1.brake()"
   ]
  },
  {
   "cell_type": "code",
   "execution_count": 9,
   "metadata": {},
   "outputs": [
    {
     "data": {
      "text/plain": [
       "120"
      ]
     },
     "execution_count": 9,
     "metadata": {},
     "output_type": "execute_result"
    }
   ],
   "source": [
    "car2=car()\n",
    "car2.accelerate()"
   ]
  },
  {
   "cell_type": "code",
   "execution_count": 10,
   "metadata": {},
   "outputs": [
    {
     "data": {
      "text/plain": [
       "50"
      ]
     },
     "execution_count": 10,
     "metadata": {},
     "output_type": "execute_result"
    }
   ],
   "source": [
    "car2.brake()"
   ]
  },
  {
   "cell_type": "code",
   "execution_count": 11,
   "metadata": {},
   "outputs": [
    {
     "name": "stdout",
     "output_type": "stream",
     "text": [
      "2019\n",
      "22\n",
      "100\n"
     ]
    }
   ],
   "source": [
    "print(car1.year)\n",
    "print(car1.mpg)\n",
    "print(car1.speed)"
   ]
  },
  {
   "cell_type": "code",
   "execution_count": 12,
   "metadata": {},
   "outputs": [
    {
     "name": "stdout",
     "output_type": "stream",
     "text": [
      "2019\n",
      "22\n",
      "100\n"
     ]
    }
   ],
   "source": [
    "print(car2.year)\n",
    "print(car2.mpg)\n",
    "print(car2.speed)"
   ]
  },
  {
   "cell_type": "code",
   "execution_count": 13,
   "metadata": {},
   "outputs": [
    {
     "name": "stdout",
     "output_type": "stream",
     "text": [
      "123\n",
      "6.7\n",
      "this is my first class\n"
     ]
    }
   ],
   "source": [
    "class myclass:\n",
    "    k=123                    #atribute member\n",
    "    d=6.7\n",
    "    def testf(self):                     #member function\n",
    "        print(\"this is my first class\")\n",
    "        \n",
    "        \n",
    "        \n",
    "        \n",
    "def main():\n",
    "    m=myclass()         #creatiing object/instance\n",
    "   \n",
    "    #call atribute with member function\n",
    "    print(m.k)\n",
    "    print(m.d)\n",
    "    m.testf()\n",
    "    \n",
    "    \n",
    "if __name__==\"__main__\":\n",
    "    main()"
   ]
  },
  {
   "cell_type": "code",
   "execution_count": null,
   "metadata": {},
   "outputs": [],
   "source": []
  },
  {
   "cell_type": "markdown",
   "metadata": {},
   "source": [
    "* #consturcter is a special method. you can think of as function which initializes or activates the atributes or properties of the class for a object. USE __inti__ to create a method constructer."
   ]
  },
  {
   "cell_type": "markdown",
   "metadata": {},
   "source": [
    "# init method :-"
   ]
  },
  {
   "cell_type": "markdown",
   "metadata": {},
   "source": [
    "* init is a keyword inside the python it will working as constructer to keep the value to the variable as soon as object is created. \n",
    "* init means initialization ,initialazation means give certain value to the variable otherwise they will blank.\n",
    "* init is constructer in the python which will fill the values of the variables at the time of creation of object."
   ]
  },
  {
   "cell_type": "markdown",
   "metadata": {},
   "source": [
    "* There are many method naames in python which have special importance A class may define spacial method names init which does some initilalization work and serves as a constructor for thre class like other function or methods init can take any number of arguments. The init method is run as soon as an object of a class in instantiated and class instantiation automatically invoke init() for the newly-created class instance. see the following example a new initialized instance can be obtain by :-"
   ]
  },
  {
   "cell_type": "code",
   "execution_count": 14,
   "metadata": {},
   "outputs": [],
   "source": [
    "class student:      # time=1:20;00\n",
    "    \n",
    "    def __init__(self,name,age): #Here self is objet name and age is internal variable created with object.\n",
    "        self.name=name           #nae and age initiated with self.name or self.age.\n",
    "        self.age=age\n",
    "        "
   ]
  },
  {
   "cell_type": "code",
   "execution_count": 15,
   "metadata": {},
   "outputs": [
    {
     "name": "stdout",
     "output_type": "stream",
     "text": [
      "sum\n",
      "25\n"
     ]
    }
   ],
   "source": [
    "p1=student(\"sum\",25)\n",
    "print(p1.name)\n",
    "print(p1.age)"
   ]
  },
  {
   "cell_type": "code",
   "execution_count": 16,
   "metadata": {},
   "outputs": [],
   "source": [
    "class employee():\n",
    "    def __init__(self,name,age,id,salary):  #initialization is constructor this automatically.\n",
    "        self.name=name\n",
    "        self.age=age\n",
    "        self.salary=salary\n",
    "        self.id=id\n",
    "    \n",
    "    def display(self):                       # THis one is the user define function we can call it saperately by name. \n",
    "        print(\"inside display function\")\n",
    "        print(self.name,self.age,self.id,self.salary)\n",
    "        "
   ]
  },
  {
   "cell_type": "code",
   "execution_count": 17,
   "metadata": {
    "scrolled": true
   },
   "outputs": [
    {
     "name": "stdout",
     "output_type": "stream",
     "text": [
      "inside display function\n",
      "john 26 2000 234\n",
      "inside display function\n",
      "andrew 30 3000 235\n"
     ]
    }
   ],
   "source": [
    "emp1=employee(\"john\",26,2000,234)    #Creating  Objects\n",
    "emp2=employee(\"andrew\",30,3000,235)\n",
    "\n",
    "emp1.display()\n",
    "emp2.display()\n"
   ]
  },
  {
   "cell_type": "markdown",
   "metadata": {},
   "source": [
    "TASK"
   ]
  },
  {
   "cell_type": "markdown",
   "metadata": {},
   "source": [
    "create a class company declare 3 atribute name,location number_of_employees.now initialize the company class."
   ]
  },
  {
   "cell_type": "code",
   "execution_count": 18,
   "metadata": {},
   "outputs": [],
   "source": [
    "class company:\n",
    "#class variable -->Class variable is not associated with any of the object they are independent they can call directly with the class name(company) and the variable name(revenue). \n",
    "    revenue=80000\n",
    "    \n",
    "    def __init__(self,name,location,number_of_employees):\n",
    "        self.name=name\n",
    "        self.location=location\n",
    "        self.number_of_employees=number_of_employees\n",
    "        \n",
    "# self.name/class/locations, etc are object variable.Object variable is associte with perticular instants and they are associated with self keyword."
   ]
  },
  {
   "cell_type": "code",
   "execution_count": 19,
   "metadata": {},
   "outputs": [
    {
     "name": "stdout",
     "output_type": "stream",
     "text": [
      "George\n",
      "London\n",
      "400\n"
     ]
    },
    {
     "data": {
      "text/plain": [
       "80000"
      ]
     },
     "execution_count": 19,
     "metadata": {},
     "output_type": "execute_result"
    }
   ],
   "source": [
    "c=company(\"George\",\"London\",400) \n",
    "print(c.name)\n",
    "print(c.location)\n",
    "print(c.number_of_employees) \n",
    "\n",
    "#accessing class variable\n",
    "\n",
    "company.revenue  #company.name ------this is ins tance varia ble -->it can be called by instance key"
   ]
  },
  {
   "cell_type": "code",
   "execution_count": 26,
   "metadata": {},
   "outputs": [],
   "source": [
    "class car:\n",
    "    # A simple class for car\n",
    "    \n",
    "    # Constructor to initialize\n",
    "    def __init__(self,company,color):\n",
    "        self.company=company\n",
    "        self.color=color\n",
    "        \n",
    "    #function to print car company and color\n",
    "    def display(self):\n",
    "      print('This is a',self.color,self.company)"
   ]
  },
  {
   "cell_type": "code",
   "execution_count": 27,
   "metadata": {},
   "outputs": [],
   "source": [
    "def main():\n",
    "    c=car(\"Ferrari\",\"Red\")\n",
    "    c.display()"
   ]
  },
  {
   "cell_type": "code",
   "execution_count": 28,
   "metadata": {},
   "outputs": [
    {
     "name": "stdout",
     "output_type": "stream",
     "text": [
      "This is a Red Ferrari\n"
     ]
    }
   ],
   "source": [
    "if __name__ == \"__main__\":\n",
    "    main()"
   ]
  },
  {
   "cell_type": "code",
   "execution_count": 30,
   "metadata": {},
   "outputs": [],
   "source": [
    "class employee:\n",
    "    def __init__(self,name,age):\n",
    "        print(\"initialized method called\")\n",
    "        self.name=name\n",
    "        self.age=age\n",
    "        \n",
    "    def getdata(self,name,age):\n",
    "        print(\"getdata method called \")\n",
    "        self.name=name\n",
    "        self.age=age\n",
    "        \n",
    "    def displaydata(self):\n",
    "        print(\"Hello\",self.name,self.age)"
   ]
  },
  {
   "cell_type": "code",
   "execution_count": 31,
   "metadata": {},
   "outputs": [],
   "source": [
    "def main():\n",
    "    e=employee(\"William\",35) #here initialize will work\n",
    "    e.displaydata()\n",
    "    \n",
    "    e.getdata(\"john\",25)\n",
    "    e.displaydata()"
   ]
  },
  {
   "cell_type": "code",
   "execution_count": 32,
   "metadata": {},
   "outputs": [
    {
     "name": "stdout",
     "output_type": "stream",
     "text": [
      "initialized method called\n",
      "Hello William 35\n",
      "getdata method called \n",
      "Hello john 25\n"
     ]
    }
   ],
   "source": [
    "if __name__==\"__main__\":\n",
    "    main()"
   ]
  },
  {
   "cell_type": "markdown",
   "metadata": {},
   "source": [
    "\n",
    "# Create a player class with name, age, sports associated with the player."
   ]
  },
  {
   "cell_type": "code",
   "execution_count": 35,
   "metadata": {},
   "outputs": [
    {
     "name": "stdout",
     "output_type": "stream",
     "text": [
      "Player details Virat 35 cricket\n",
      "getting data for players\n",
      "Player details Richard 45 tennis\n"
     ]
    }
   ],
   "source": [
    "class player:\n",
    "    def __init__(self,name,age,sport):\n",
    "        self.name=name\n",
    "        self.age=age\n",
    "        self.sport=sport\n",
    "        \n",
    "    def getdata(self,name,age,sport):\n",
    "        print(\"getting data for players\")\n",
    "        self.name=name\n",
    "        self.age=age\n",
    "        self.sport=sport\n",
    "        \n",
    "    def displaydata(self):\n",
    "        print(\"Player details\",self.name,self.age,self.sport)\n",
    "        \n",
    "def main():\n",
    "    p=player(\"Virat\",35,\"cricket\")\n",
    "    p.displaydata()\n",
    "    \n",
    "    p.getdata(\"Richard\",45,\"tennis\")\n",
    "    p.displaydata()\n",
    "    \n",
    "if __name__==\"__main__\":\n",
    "    main()"
   ]
  },
  {
   "cell_type": "markdown",
   "metadata": {},
   "source": [
    "# The End Session"
   ]
  }
 ],
 "metadata": {
  "kernelspec": {
   "display_name": "Python 3",
   "language": "python",
   "name": "python3"
  },
  "language_info": {
   "codemirror_mode": {
    "name": "ipython",
    "version": 3
   },
   "file_extension": ".py",
   "mimetype": "text/x-python",
   "name": "python",
   "nbconvert_exporter": "python",
   "pygments_lexer": "ipython3",
   "version": "3.8.3"
  }
 },
 "nbformat": 4,
 "nbformat_minor": 4
}
